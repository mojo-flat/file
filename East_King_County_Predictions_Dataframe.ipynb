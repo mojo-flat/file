{
 "cells": [
  {
   "cell_type": "code",
   "execution_count": null,
   "metadata": {},
   "outputs": [],
   "source": [
    "%store -r East_predictions\n",
    "%store -r house_info1"
   ]
  },
  {
   "cell_type": "code",
   "execution_count": null,
   "metadata": {},
   "outputs": [],
   "source": [
    "import pandas as pd\n",
    "house_info2 = house_info1.style\n",
    "\n",
    "idx = pd.IndexSlice\n",
    "ind = idx[:,'A']\n",
    "ind1 = idx[:,'B']\n",
    "ind2 = idx[:,'C']\n",
    "\n",
    "hightlight = lambda x: ['background: yellow' if x.name in house_info1.loc[ind,:].index\n",
    "                       else '' for i in x]\n",
    "hightlight1 = lambda x: ['background: white' if x.name in house_info1.loc[ind1,:].index\n",
    "                       else '' for i in x]\n",
    "hightlight2 = lambda x: ['background: white' if x.name in house_info1.loc[ind2,:].index\n",
    "                       else '' for i in x]\n",
    "hightlight3 = lambda x: ['color:red;' if x.name in house_info1.loc[ind,:].index\n",
    "                       else '' for i in x]\n",
    "hightlight4 = lambda x: ['color:black;' if x.name in house_info1.loc[ind1,:].index\n",
    "                       else '' for i in x]\n",
    "hightlight5 = lambda x: ['color:blue;' if x.name in house_info1.loc[ind2,:].index\n",
    "                       else '' for i in x]\n",
    "house_info2.apply(hightlight,axis=1)\\\n",
    "    .apply(hightlight1,axis=1)\\\n",
    "    .apply(hightlight2,axis=1)\\\n",
    "    .apply(hightlight3,axis=1)\\\n",
    "    .apply(hightlight4,axis=1)\\\n",
    "    .apply(hightlight5,axis=1)\n",
    "\n",
    "house_info2.set_table_styles([\\\n",
    "    {'selector': \"th\", 'props': [('font-size', '16px'),\\\n",
    "                                 ('color', 'black'),\\\n",
    "                               ('background-color', 'white') ]},\\\n",
    "    {'selector': '', 'props': [('border-collapse', 'collapse'),\\\n",
    "                               ('border', '20px solid yellow')]},\\\n",
    "    {'selector': 'td', 'props': [('font-size', '11px'),\\\n",
    "                                 ('border','10px red')]}\n",
    "                     ])"
   ]
  },
  {
   "cell_type": "code",
   "execution_count": null,
   "metadata": {},
   "outputs": [],
   "source": []
  }
 ],
 "metadata": {
  "finalized": {
   "timestamp": 1630154902872,
   "trusted": true
  },
  "kernelspec": {
   "display_name": "Python 3",
   "language": "python",
   "name": "python3"
  },
  "language_info": {
   "codemirror_mode": {
    "name": "ipython",
    "version": 3
   },
   "file_extension": ".py",
   "mimetype": "text/x-python",
   "name": "python",
   "nbconvert_exporter": "python",
   "pygments_lexer": "ipython3",
   "version": "3.8.5"
  }
 },
 "nbformat": 4,
 "nbformat_minor": 5
}
