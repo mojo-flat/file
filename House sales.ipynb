{
 "cells": [
  {
   "cell_type": "markdown",
   "metadata": {},
   "source": [
    " # Objective"
   ]
  },
  {
   "cell_type": "markdown",
   "metadata": {},
   "source": [
    "__Predict the sale price of the houses as accurately as possible by modeling the dataset with a multivariate linear regression.__"
   ]
  },
  {
   "cell_type": "markdown",
   "metadata": {},
   "source": [
    "# Datasets"
   ]
  },
  {
   "cell_type": "markdown",
   "metadata": {},
   "source": [
    "There will be one dataset used in this project\n",
    "\n",
    "_Kc_House_Data.csv_\n",
    " - _Columns in the Dataset_\n",
    "     - _id_\n",
    "     - _date_\n",
    "     - _price_\n",
    "     - _bedrooms_\n",
    "     - _view_\n",
    "     - _sqft_above_\n",
    "     - _sqft_living_\n",
    "     - _sqft_lot_\n",
    "     - _floors_\n",
    "     - _waterfront_\n",
    "     - _grade_\n",
    "     - _sdft_basement_\n",
    "     - _yr_built_\n",
    "     - _yr_renovated_\n",
    "     - _zipcode_\n",
    "     - _lot_\n",
    "     - _long_\n",
    "     - _sqft_living15_\n",
    "     - _sqft_lat15_"
   ]
  },
  {
   "cell_type": "markdown",
   "metadata": {},
   "source": [
    "# Approaches"
   ]
  },
  {
   "cell_type": "markdown",
   "metadata": {},
   "source": [
    "As you know the objective of this project is to anaylze the dataset and predict the prices of houses as precisely as possible using the dataset.\n",
    "\n",
    "Before we dive into predicitng the prices or even creating a regression model the first must significant thing is to understand the theme of the objective by having foundemental approaches. When it comes to houses or prices of houses location is key to understand what type of house will be expected and the price range. The approaches will dive into why location has an affect of the type of the houses and of course the  priceses, the location of the houses in the dataset will also be analyzed and the potential variables that may be used to predict the prices of the houses will be explored and selected. \n",
    "\n",
    "__This is the blueprint of the approaches:__\n",
    "   - Why Location is Important: Case Studies\n",
    "   - Analyze the Location of Dataset: King County\n",
    "   - Analyze Seattle\n",
    "   - Analyze Variables\n",
    "   - Final Selections of Variables\n",
    "   - Implementing Variables on Linear Analyzes"
   ]
  },
  {
   "cell_type": "markdown",
   "metadata": {},
   "source": [
    "# Why Location is Important (with case studies)"
   ]
  },
  {
   "cell_type": "markdown",
   "metadata": {},
   "source": [
    "The one thing that people forget when picking out houses or evaluating price ranges of houses is location. Location is a crucial thing to consider. Why? Beacuse location creates desirability, desirability directs demand and the higher the demand the higher the real estate prices. However the question is, What makes a location more preferable over another location? What drives desireability in a loction?\n",
    "\n",
    "__These are the main factors that make a location a desirabel place to live in:__\n",
    "  - Quality of Local Schools\n",
    "  - Proximity to Shopping and Entertainment\n",
    "  - Employment opportunities\n",
    "  - Accessibility\n",
    "  - Socio - Economic level\n",
    "  - Environment Centers\n",
    "  - Sport Centers\n",
    "  - Low Crime Rates\n",
    "  - Easy Access to Major Highways"
   ]
  },
  {
   "cell_type": "markdown",
   "metadata": {},
   "source": [
    "### Quality of Local Schools"
   ]
  },
  {
   "cell_type": "markdown",
   "metadata": {},
   "source": [
    "How and why do schools have any correlation to the prices of houses, what is it about school district that makes the real estates raise their prices. school district can make or break a home sale, schools extremely surprising. A strong school district high test scores adds to the value of the neighbourhood in that particular area. School districts in ares with lower test scores might not be as appealing to the eyse of home buyers. Parents and couples who may want to start a familt will be magnetic towards areas with strong school district beacuse they want their children to be able have a good and safe education system, school also are foundations for a safe and community"
   ]
  },
  {
   "cell_type": "markdown",
   "metadata": {},
   "source": [
    "### Proximity to Shopping and Entertainment"
   ]
  },
  {
   "cell_type": "markdown",
   "metadata": {},
   "source": [
    "What really cueses the price premiums of houses close to shopping centers. The obvious explanation is that the fact of being convenience is a major key factor. The store located within a close distance to housues and housing estates saves nerby families and home owners time and money. That would have been spent on gasoline and traveling to groceirs with a higher distance mileage. A typical American goes shoping 1.9 times oer week, therefor if shopping centers where a mile to four miles away from homes it resutls to likely saving 6,000 dollars or so in auto expenxses. Thats why the average residenta property value of neighborhoods with exactly one supermarket is 193,695 dollars. when the average number of stores id five or more, values are almost twice as great at a whopping 362,160 dollars. "
   ]
  },
  {
   "cell_type": "markdown",
   "metadata": {},
   "source": []
  },
  {
   "cell_type": "code",
   "execution_count": 1,
   "metadata": {},
   "outputs": [],
   "source": [
    "import pandas as pd\n",
    "import collections"
   ]
  },
  {
   "cell_type": "code",
   "execution_count": 2,
   "metadata": {
    "scrolled": true
   },
   "outputs": [],
   "source": [
    "# The data frame is called house_info\n",
    "raw_info = pd.read_csv(\"kc_house_data.csv\",error_bad_lines=False)"
   ]
  },
  {
   "cell_type": "code",
   "execution_count": 3,
   "metadata": {},
   "outputs": [
    {
     "data": {
      "text/html": [
       "<div>\n",
       "<style scoped>\n",
       "    .dataframe tbody tr th:only-of-type {\n",
       "        vertical-align: middle;\n",
       "    }\n",
       "\n",
       "    .dataframe tbody tr th {\n",
       "        vertical-align: top;\n",
       "    }\n",
       "\n",
       "    .dataframe thead th {\n",
       "        text-align: right;\n",
       "    }\n",
       "</style>\n",
       "<table border=\"1\" class=\"dataframe\">\n",
       "  <thead>\n",
       "    <tr style=\"text-align: right;\">\n",
       "      <th></th>\n",
       "      <th>id</th>\n",
       "      <th>date</th>\n",
       "      <th>price</th>\n",
       "      <th>bedrooms</th>\n",
       "      <th>bathrooms</th>\n",
       "      <th>sqft_living</th>\n",
       "      <th>sqft_lot</th>\n",
       "      <th>floors</th>\n",
       "      <th>waterfront</th>\n",
       "      <th>view</th>\n",
       "      <th>...</th>\n",
       "      <th>grade</th>\n",
       "      <th>sqft_above</th>\n",
       "      <th>sqft_basement</th>\n",
       "      <th>yr_built</th>\n",
       "      <th>yr_renovated</th>\n",
       "      <th>zipcode</th>\n",
       "      <th>lat</th>\n",
       "      <th>long</th>\n",
       "      <th>sqft_living15</th>\n",
       "      <th>sqft_lot15</th>\n",
       "    </tr>\n",
       "  </thead>\n",
       "  <tbody>\n",
       "    <tr>\n",
       "      <th>0</th>\n",
       "      <td>7129300520</td>\n",
       "      <td>10/13/2014</td>\n",
       "      <td>221900.0</td>\n",
       "      <td>3</td>\n",
       "      <td>1.00</td>\n",
       "      <td>1180</td>\n",
       "      <td>5650</td>\n",
       "      <td>1.0</td>\n",
       "      <td>NaN</td>\n",
       "      <td>0.0</td>\n",
       "      <td>...</td>\n",
       "      <td>7</td>\n",
       "      <td>1180</td>\n",
       "      <td>0.0</td>\n",
       "      <td>1955</td>\n",
       "      <td>0.0</td>\n",
       "      <td>98178</td>\n",
       "      <td>47.5112</td>\n",
       "      <td>-122.257</td>\n",
       "      <td>1340</td>\n",
       "      <td>5650</td>\n",
       "    </tr>\n",
       "    <tr>\n",
       "      <th>1</th>\n",
       "      <td>6414100192</td>\n",
       "      <td>12/9/2014</td>\n",
       "      <td>538000.0</td>\n",
       "      <td>3</td>\n",
       "      <td>2.25</td>\n",
       "      <td>2570</td>\n",
       "      <td>7242</td>\n",
       "      <td>2.0</td>\n",
       "      <td>0.0</td>\n",
       "      <td>0.0</td>\n",
       "      <td>...</td>\n",
       "      <td>7</td>\n",
       "      <td>2170</td>\n",
       "      <td>400.0</td>\n",
       "      <td>1951</td>\n",
       "      <td>1991.0</td>\n",
       "      <td>98125</td>\n",
       "      <td>47.7210</td>\n",
       "      <td>-122.319</td>\n",
       "      <td>1690</td>\n",
       "      <td>7639</td>\n",
       "    </tr>\n",
       "    <tr>\n",
       "      <th>2</th>\n",
       "      <td>5631500400</td>\n",
       "      <td>2/25/2015</td>\n",
       "      <td>180000.0</td>\n",
       "      <td>2</td>\n",
       "      <td>1.00</td>\n",
       "      <td>770</td>\n",
       "      <td>10000</td>\n",
       "      <td>1.0</td>\n",
       "      <td>0.0</td>\n",
       "      <td>0.0</td>\n",
       "      <td>...</td>\n",
       "      <td>6</td>\n",
       "      <td>770</td>\n",
       "      <td>0.0</td>\n",
       "      <td>1933</td>\n",
       "      <td>NaN</td>\n",
       "      <td>98028</td>\n",
       "      <td>47.7379</td>\n",
       "      <td>-122.233</td>\n",
       "      <td>2720</td>\n",
       "      <td>8062</td>\n",
       "    </tr>\n",
       "    <tr>\n",
       "      <th>3</th>\n",
       "      <td>2487200875</td>\n",
       "      <td>12/9/2014</td>\n",
       "      <td>604000.0</td>\n",
       "      <td>4</td>\n",
       "      <td>3.00</td>\n",
       "      <td>1960</td>\n",
       "      <td>5000</td>\n",
       "      <td>1.0</td>\n",
       "      <td>0.0</td>\n",
       "      <td>0.0</td>\n",
       "      <td>...</td>\n",
       "      <td>7</td>\n",
       "      <td>1050</td>\n",
       "      <td>910.0</td>\n",
       "      <td>1965</td>\n",
       "      <td>0.0</td>\n",
       "      <td>98136</td>\n",
       "      <td>47.5208</td>\n",
       "      <td>-122.393</td>\n",
       "      <td>1360</td>\n",
       "      <td>5000</td>\n",
       "    </tr>\n",
       "    <tr>\n",
       "      <th>4</th>\n",
       "      <td>1954400510</td>\n",
       "      <td>2/18/2015</td>\n",
       "      <td>510000.0</td>\n",
       "      <td>3</td>\n",
       "      <td>2.00</td>\n",
       "      <td>1680</td>\n",
       "      <td>8080</td>\n",
       "      <td>1.0</td>\n",
       "      <td>0.0</td>\n",
       "      <td>0.0</td>\n",
       "      <td>...</td>\n",
       "      <td>8</td>\n",
       "      <td>1680</td>\n",
       "      <td>0.0</td>\n",
       "      <td>1987</td>\n",
       "      <td>0.0</td>\n",
       "      <td>98074</td>\n",
       "      <td>47.6168</td>\n",
       "      <td>-122.045</td>\n",
       "      <td>1800</td>\n",
       "      <td>7503</td>\n",
       "    </tr>\n",
       "    <tr>\n",
       "      <th>...</th>\n",
       "      <td>...</td>\n",
       "      <td>...</td>\n",
       "      <td>...</td>\n",
       "      <td>...</td>\n",
       "      <td>...</td>\n",
       "      <td>...</td>\n",
       "      <td>...</td>\n",
       "      <td>...</td>\n",
       "      <td>...</td>\n",
       "      <td>...</td>\n",
       "      <td>...</td>\n",
       "      <td>...</td>\n",
       "      <td>...</td>\n",
       "      <td>...</td>\n",
       "      <td>...</td>\n",
       "      <td>...</td>\n",
       "      <td>...</td>\n",
       "      <td>...</td>\n",
       "      <td>...</td>\n",
       "      <td>...</td>\n",
       "      <td>...</td>\n",
       "    </tr>\n",
       "    <tr>\n",
       "      <th>21592</th>\n",
       "      <td>263000018</td>\n",
       "      <td>5/21/2014</td>\n",
       "      <td>360000.0</td>\n",
       "      <td>3</td>\n",
       "      <td>2.50</td>\n",
       "      <td>1530</td>\n",
       "      <td>1131</td>\n",
       "      <td>3.0</td>\n",
       "      <td>0.0</td>\n",
       "      <td>0.0</td>\n",
       "      <td>...</td>\n",
       "      <td>8</td>\n",
       "      <td>1530</td>\n",
       "      <td>0.0</td>\n",
       "      <td>2009</td>\n",
       "      <td>0.0</td>\n",
       "      <td>98103</td>\n",
       "      <td>47.6993</td>\n",
       "      <td>-122.346</td>\n",
       "      <td>1530</td>\n",
       "      <td>1509</td>\n",
       "    </tr>\n",
       "    <tr>\n",
       "      <th>21593</th>\n",
       "      <td>6600060120</td>\n",
       "      <td>2/23/2015</td>\n",
       "      <td>400000.0</td>\n",
       "      <td>4</td>\n",
       "      <td>2.50</td>\n",
       "      <td>2310</td>\n",
       "      <td>5813</td>\n",
       "      <td>2.0</td>\n",
       "      <td>0.0</td>\n",
       "      <td>0.0</td>\n",
       "      <td>...</td>\n",
       "      <td>8</td>\n",
       "      <td>2310</td>\n",
       "      <td>0.0</td>\n",
       "      <td>2014</td>\n",
       "      <td>0.0</td>\n",
       "      <td>98146</td>\n",
       "      <td>47.5107</td>\n",
       "      <td>-122.362</td>\n",
       "      <td>1830</td>\n",
       "      <td>7200</td>\n",
       "    </tr>\n",
       "    <tr>\n",
       "      <th>21594</th>\n",
       "      <td>1523300141</td>\n",
       "      <td>6/23/2014</td>\n",
       "      <td>402101.0</td>\n",
       "      <td>2</td>\n",
       "      <td>0.75</td>\n",
       "      <td>1020</td>\n",
       "      <td>1350</td>\n",
       "      <td>2.0</td>\n",
       "      <td>0.0</td>\n",
       "      <td>0.0</td>\n",
       "      <td>...</td>\n",
       "      <td>7</td>\n",
       "      <td>1020</td>\n",
       "      <td>0.0</td>\n",
       "      <td>2009</td>\n",
       "      <td>0.0</td>\n",
       "      <td>98144</td>\n",
       "      <td>47.5944</td>\n",
       "      <td>-122.299</td>\n",
       "      <td>1020</td>\n",
       "      <td>2007</td>\n",
       "    </tr>\n",
       "    <tr>\n",
       "      <th>21595</th>\n",
       "      <td>291310100</td>\n",
       "      <td>1/16/2015</td>\n",
       "      <td>400000.0</td>\n",
       "      <td>3</td>\n",
       "      <td>2.50</td>\n",
       "      <td>1600</td>\n",
       "      <td>2388</td>\n",
       "      <td>2.0</td>\n",
       "      <td>NaN</td>\n",
       "      <td>0.0</td>\n",
       "      <td>...</td>\n",
       "      <td>8</td>\n",
       "      <td>1600</td>\n",
       "      <td>0.0</td>\n",
       "      <td>2004</td>\n",
       "      <td>0.0</td>\n",
       "      <td>98027</td>\n",
       "      <td>47.5345</td>\n",
       "      <td>-122.069</td>\n",
       "      <td>1410</td>\n",
       "      <td>1287</td>\n",
       "    </tr>\n",
       "    <tr>\n",
       "      <th>21596</th>\n",
       "      <td>1523300157</td>\n",
       "      <td>10/15/2014</td>\n",
       "      <td>325000.0</td>\n",
       "      <td>2</td>\n",
       "      <td>0.75</td>\n",
       "      <td>1020</td>\n",
       "      <td>1076</td>\n",
       "      <td>2.0</td>\n",
       "      <td>0.0</td>\n",
       "      <td>0.0</td>\n",
       "      <td>...</td>\n",
       "      <td>7</td>\n",
       "      <td>1020</td>\n",
       "      <td>0.0</td>\n",
       "      <td>2008</td>\n",
       "      <td>0.0</td>\n",
       "      <td>98144</td>\n",
       "      <td>47.5941</td>\n",
       "      <td>-122.299</td>\n",
       "      <td>1020</td>\n",
       "      <td>1357</td>\n",
       "    </tr>\n",
       "  </tbody>\n",
       "</table>\n",
       "<p>21597 rows × 21 columns</p>\n",
       "</div>"
      ],
      "text/plain": [
       "               id        date     price  bedrooms  bathrooms  sqft_living  \\\n",
       "0      7129300520  10/13/2014  221900.0         3       1.00         1180   \n",
       "1      6414100192   12/9/2014  538000.0         3       2.25         2570   \n",
       "2      5631500400   2/25/2015  180000.0         2       1.00          770   \n",
       "3      2487200875   12/9/2014  604000.0         4       3.00         1960   \n",
       "4      1954400510   2/18/2015  510000.0         3       2.00         1680   \n",
       "...           ...         ...       ...       ...        ...          ...   \n",
       "21592   263000018   5/21/2014  360000.0         3       2.50         1530   \n",
       "21593  6600060120   2/23/2015  400000.0         4       2.50         2310   \n",
       "21594  1523300141   6/23/2014  402101.0         2       0.75         1020   \n",
       "21595   291310100   1/16/2015  400000.0         3       2.50         1600   \n",
       "21596  1523300157  10/15/2014  325000.0         2       0.75         1020   \n",
       "\n",
       "       sqft_lot  floors  waterfront  view  ...  grade  sqft_above  \\\n",
       "0          5650     1.0         NaN   0.0  ...      7        1180   \n",
       "1          7242     2.0         0.0   0.0  ...      7        2170   \n",
       "2         10000     1.0         0.0   0.0  ...      6         770   \n",
       "3          5000     1.0         0.0   0.0  ...      7        1050   \n",
       "4          8080     1.0         0.0   0.0  ...      8        1680   \n",
       "...         ...     ...         ...   ...  ...    ...         ...   \n",
       "21592      1131     3.0         0.0   0.0  ...      8        1530   \n",
       "21593      5813     2.0         0.0   0.0  ...      8        2310   \n",
       "21594      1350     2.0         0.0   0.0  ...      7        1020   \n",
       "21595      2388     2.0         NaN   0.0  ...      8        1600   \n",
       "21596      1076     2.0         0.0   0.0  ...      7        1020   \n",
       "\n",
       "       sqft_basement yr_built  yr_renovated  zipcode      lat     long  \\\n",
       "0                0.0     1955           0.0    98178  47.5112 -122.257   \n",
       "1              400.0     1951        1991.0    98125  47.7210 -122.319   \n",
       "2                0.0     1933           NaN    98028  47.7379 -122.233   \n",
       "3              910.0     1965           0.0    98136  47.5208 -122.393   \n",
       "4                0.0     1987           0.0    98074  47.6168 -122.045   \n",
       "...              ...      ...           ...      ...      ...      ...   \n",
       "21592            0.0     2009           0.0    98103  47.6993 -122.346   \n",
       "21593            0.0     2014           0.0    98146  47.5107 -122.362   \n",
       "21594            0.0     2009           0.0    98144  47.5944 -122.299   \n",
       "21595            0.0     2004           0.0    98027  47.5345 -122.069   \n",
       "21596            0.0     2008           0.0    98144  47.5941 -122.299   \n",
       "\n",
       "       sqft_living15  sqft_lot15  \n",
       "0               1340        5650  \n",
       "1               1690        7639  \n",
       "2               2720        8062  \n",
       "3               1360        5000  \n",
       "4               1800        7503  \n",
       "...              ...         ...  \n",
       "21592           1530        1509  \n",
       "21593           1830        7200  \n",
       "21594           1020        2007  \n",
       "21595           1410        1287  \n",
       "21596           1020        1357  \n",
       "\n",
       "[21597 rows x 21 columns]"
      ]
     },
     "execution_count": 3,
     "metadata": {},
     "output_type": "execute_result"
    }
   ],
   "source": [
    "raw_info"
   ]
  },
  {
   "cell_type": "code",
   "execution_count": 4,
   "metadata": {},
   "outputs": [],
   "source": [
    "house_info = pd.DataFrame({'Bedrooms':raw_info.bedrooms, 'Bathrooms':raw_info.bathrooms, 'Floors':raw_info.floors, \n",
    "                           'Year Built':raw_info.yr_built, 'Year Renoveted':raw_info.yr_renovated,\n",
    "                           'Size of Basement':raw_info.sqft_basement,'Condition':raw_info.condition,\n",
    "                          'Size of Above':raw_info.sqft_above,'Location':raw_info.zipcode,\n",
    "                          'Price':raw_info.price})"
   ]
  },
  {
   "cell_type": "code",
   "execution_count": 5,
   "metadata": {},
   "outputs": [
    {
     "data": {
      "text/html": [
       "<div>\n",
       "<style scoped>\n",
       "    .dataframe tbody tr th:only-of-type {\n",
       "        vertical-align: middle;\n",
       "    }\n",
       "\n",
       "    .dataframe tbody tr th {\n",
       "        vertical-align: top;\n",
       "    }\n",
       "\n",
       "    .dataframe thead th {\n",
       "        text-align: right;\n",
       "    }\n",
       "</style>\n",
       "<table border=\"1\" class=\"dataframe\">\n",
       "  <thead>\n",
       "    <tr style=\"text-align: right;\">\n",
       "      <th></th>\n",
       "      <th>Bedrooms</th>\n",
       "      <th>Bathrooms</th>\n",
       "      <th>Floors</th>\n",
       "      <th>Year Built</th>\n",
       "      <th>Year Renoveted</th>\n",
       "      <th>Size of Basement</th>\n",
       "      <th>Condition</th>\n",
       "      <th>Size of Above</th>\n",
       "      <th>Location</th>\n",
       "      <th>Price</th>\n",
       "    </tr>\n",
       "  </thead>\n",
       "  <tbody>\n",
       "    <tr>\n",
       "      <th>0</th>\n",
       "      <td>3</td>\n",
       "      <td>1.00</td>\n",
       "      <td>1.0</td>\n",
       "      <td>1955</td>\n",
       "      <td>0.0</td>\n",
       "      <td>0.0</td>\n",
       "      <td>3</td>\n",
       "      <td>1180</td>\n",
       "      <td>98178</td>\n",
       "      <td>221900.0</td>\n",
       "    </tr>\n",
       "    <tr>\n",
       "      <th>1</th>\n",
       "      <td>3</td>\n",
       "      <td>2.25</td>\n",
       "      <td>2.0</td>\n",
       "      <td>1951</td>\n",
       "      <td>1991.0</td>\n",
       "      <td>400.0</td>\n",
       "      <td>3</td>\n",
       "      <td>2170</td>\n",
       "      <td>98125</td>\n",
       "      <td>538000.0</td>\n",
       "    </tr>\n",
       "    <tr>\n",
       "      <th>2</th>\n",
       "      <td>2</td>\n",
       "      <td>1.00</td>\n",
       "      <td>1.0</td>\n",
       "      <td>1933</td>\n",
       "      <td>NaN</td>\n",
       "      <td>0.0</td>\n",
       "      <td>3</td>\n",
       "      <td>770</td>\n",
       "      <td>98028</td>\n",
       "      <td>180000.0</td>\n",
       "    </tr>\n",
       "    <tr>\n",
       "      <th>3</th>\n",
       "      <td>4</td>\n",
       "      <td>3.00</td>\n",
       "      <td>1.0</td>\n",
       "      <td>1965</td>\n",
       "      <td>0.0</td>\n",
       "      <td>910.0</td>\n",
       "      <td>5</td>\n",
       "      <td>1050</td>\n",
       "      <td>98136</td>\n",
       "      <td>604000.0</td>\n",
       "    </tr>\n",
       "    <tr>\n",
       "      <th>4</th>\n",
       "      <td>3</td>\n",
       "      <td>2.00</td>\n",
       "      <td>1.0</td>\n",
       "      <td>1987</td>\n",
       "      <td>0.0</td>\n",
       "      <td>0.0</td>\n",
       "      <td>3</td>\n",
       "      <td>1680</td>\n",
       "      <td>98074</td>\n",
       "      <td>510000.0</td>\n",
       "    </tr>\n",
       "    <tr>\n",
       "      <th>...</th>\n",
       "      <td>...</td>\n",
       "      <td>...</td>\n",
       "      <td>...</td>\n",
       "      <td>...</td>\n",
       "      <td>...</td>\n",
       "      <td>...</td>\n",
       "      <td>...</td>\n",
       "      <td>...</td>\n",
       "      <td>...</td>\n",
       "      <td>...</td>\n",
       "    </tr>\n",
       "    <tr>\n",
       "      <th>21592</th>\n",
       "      <td>3</td>\n",
       "      <td>2.50</td>\n",
       "      <td>3.0</td>\n",
       "      <td>2009</td>\n",
       "      <td>0.0</td>\n",
       "      <td>0.0</td>\n",
       "      <td>3</td>\n",
       "      <td>1530</td>\n",
       "      <td>98103</td>\n",
       "      <td>360000.0</td>\n",
       "    </tr>\n",
       "    <tr>\n",
       "      <th>21593</th>\n",
       "      <td>4</td>\n",
       "      <td>2.50</td>\n",
       "      <td>2.0</td>\n",
       "      <td>2014</td>\n",
       "      <td>0.0</td>\n",
       "      <td>0.0</td>\n",
       "      <td>3</td>\n",
       "      <td>2310</td>\n",
       "      <td>98146</td>\n",
       "      <td>400000.0</td>\n",
       "    </tr>\n",
       "    <tr>\n",
       "      <th>21594</th>\n",
       "      <td>2</td>\n",
       "      <td>0.75</td>\n",
       "      <td>2.0</td>\n",
       "      <td>2009</td>\n",
       "      <td>0.0</td>\n",
       "      <td>0.0</td>\n",
       "      <td>3</td>\n",
       "      <td>1020</td>\n",
       "      <td>98144</td>\n",
       "      <td>402101.0</td>\n",
       "    </tr>\n",
       "    <tr>\n",
       "      <th>21595</th>\n",
       "      <td>3</td>\n",
       "      <td>2.50</td>\n",
       "      <td>2.0</td>\n",
       "      <td>2004</td>\n",
       "      <td>0.0</td>\n",
       "      <td>0.0</td>\n",
       "      <td>3</td>\n",
       "      <td>1600</td>\n",
       "      <td>98027</td>\n",
       "      <td>400000.0</td>\n",
       "    </tr>\n",
       "    <tr>\n",
       "      <th>21596</th>\n",
       "      <td>2</td>\n",
       "      <td>0.75</td>\n",
       "      <td>2.0</td>\n",
       "      <td>2008</td>\n",
       "      <td>0.0</td>\n",
       "      <td>0.0</td>\n",
       "      <td>3</td>\n",
       "      <td>1020</td>\n",
       "      <td>98144</td>\n",
       "      <td>325000.0</td>\n",
       "    </tr>\n",
       "  </tbody>\n",
       "</table>\n",
       "<p>21597 rows × 10 columns</p>\n",
       "</div>"
      ],
      "text/plain": [
       "       Bedrooms  Bathrooms  Floors  Year Built  Year Renoveted  \\\n",
       "0             3       1.00     1.0        1955             0.0   \n",
       "1             3       2.25     2.0        1951          1991.0   \n",
       "2             2       1.00     1.0        1933             NaN   \n",
       "3             4       3.00     1.0        1965             0.0   \n",
       "4             3       2.00     1.0        1987             0.0   \n",
       "...         ...        ...     ...         ...             ...   \n",
       "21592         3       2.50     3.0        2009             0.0   \n",
       "21593         4       2.50     2.0        2014             0.0   \n",
       "21594         2       0.75     2.0        2009             0.0   \n",
       "21595         3       2.50     2.0        2004             0.0   \n",
       "21596         2       0.75     2.0        2008             0.0   \n",
       "\n",
       "      Size of Basement  Condition  Size of Above  Location     Price  \n",
       "0                  0.0          3           1180     98178  221900.0  \n",
       "1                400.0          3           2170     98125  538000.0  \n",
       "2                  0.0          3            770     98028  180000.0  \n",
       "3                910.0          5           1050     98136  604000.0  \n",
       "4                  0.0          3           1680     98074  510000.0  \n",
       "...                ...        ...            ...       ...       ...  \n",
       "21592              0.0          3           1530     98103  360000.0  \n",
       "21593              0.0          3           2310     98146  400000.0  \n",
       "21594              0.0          3           1020     98144  402101.0  \n",
       "21595              0.0          3           1600     98027  400000.0  \n",
       "21596              0.0          3           1020     98144  325000.0  \n",
       "\n",
       "[21597 rows x 10 columns]"
      ]
     },
     "execution_count": 5,
     "metadata": {},
     "output_type": "execute_result"
    }
   ],
   "source": [
    "house_info"
   ]
  },
  {
   "cell_type": "code",
   "execution_count": 6,
   "metadata": {},
   "outputs": [
    {
     "data": {
      "text/plain": [
       "3     9824\n",
       "4     6882\n",
       "2     2760\n",
       "5     1601\n",
       "6      272\n",
       "1      196\n",
       "7       38\n",
       "8       13\n",
       "9        6\n",
       "10       3\n",
       "11       1\n",
       "33       1\n",
       "Name: Bedrooms, dtype: int64"
      ]
     },
     "execution_count": 6,
     "metadata": {},
     "output_type": "execute_result"
    }
   ],
   "source": [
    "house_info[\"Bedrooms\"].value_counts()"
   ]
  },
  {
   "cell_type": "code",
   "execution_count": 7,
   "metadata": {},
   "outputs": [
    {
     "data": {
      "text/plain": [
       "min      80000.0\n",
       "max    1250000.0\n",
       "Name: Price, dtype: float64"
      ]
     },
     "execution_count": 7,
     "metadata": {},
     "output_type": "execute_result"
    }
   ],
   "source": [
    "house_info.loc[house_info[\"Bedrooms\"]==1, \"Price\"].agg(('min','max'))"
   ]
  },
  {
   "cell_type": "code",
   "execution_count": 8,
   "metadata": {},
   "outputs": [
    {
     "data": {
      "text/plain": [
       "min      78000.0\n",
       "max    3280000.0\n",
       "Name: Price, dtype: float64"
      ]
     },
     "execution_count": 8,
     "metadata": {},
     "output_type": "execute_result"
    }
   ],
   "source": [
    "house_info.loc[house_info[\"Bedrooms\"]==2, \"Price\"].agg(('min','max'))"
   ]
  },
  {
   "cell_type": "code",
   "execution_count": 9,
   "metadata": {},
   "outputs": [
    {
     "data": {
      "text/plain": [
       "min      82000.0\n",
       "max    3800000.0\n",
       "Name: Price, dtype: float64"
      ]
     },
     "execution_count": 9,
     "metadata": {},
     "output_type": "execute_result"
    }
   ],
   "source": [
    "house_info.loc[house_info[\"Bedrooms\"]==3, \"Price\"].agg(('min','max'))"
   ]
  },
  {
   "cell_type": "code",
   "execution_count": 10,
   "metadata": {},
   "outputs": [
    {
     "data": {
      "text/plain": [
       "min     100000.0\n",
       "max    4490000.0\n",
       "Name: Price, dtype: float64"
      ]
     },
     "execution_count": 10,
     "metadata": {},
     "output_type": "execute_result"
    }
   ],
   "source": [
    "house_info.loc[house_info[\"Bedrooms\"]==4, \"Price\"].agg(('min',max))"
   ]
  },
  {
   "cell_type": "code",
   "execution_count": 11,
   "metadata": {},
   "outputs": [
    {
     "data": {
      "text/plain": [
       "min     133000.0\n",
       "max    7060000.0\n",
       "Name: Price, dtype: float64"
      ]
     },
     "execution_count": 11,
     "metadata": {},
     "output_type": "execute_result"
    }
   ],
   "source": [
    "house_info.loc[house_info[\"Bedrooms\"]==5, \"Price\"].agg((min,max))"
   ]
  },
  {
   "cell_type": "code",
   "execution_count": 12,
   "metadata": {},
   "outputs": [
    {
     "data": {
      "text/plain": [
       "min     175000.0\n",
       "max    7700000.0\n",
       "Name: Price, dtype: float64"
      ]
     },
     "execution_count": 12,
     "metadata": {},
     "output_type": "execute_result"
    }
   ],
   "source": [
    "house_info.loc[house_info[\"Bedrooms\"]==6, \"Price\"].agg((min,max))"
   ]
  },
  {
   "cell_type": "code",
   "execution_count": 13,
   "metadata": {},
   "outputs": [
    {
     "data": {
      "text/plain": [
       "min     280000.0\n",
       "max    3200000.0\n",
       "Name: Price, dtype: float64"
      ]
     },
     "execution_count": 13,
     "metadata": {},
     "output_type": "execute_result"
    }
   ],
   "source": [
    "house_info.loc[house_info[\"Bedrooms\"]==7, \"Price\"].agg((min,max))"
   ]
  },
  {
   "cell_type": "code",
   "execution_count": 14,
   "metadata": {},
   "outputs": [
    {
     "data": {
      "text/plain": [
       "min     340000.0\n",
       "max    3300000.0\n",
       "Name: Price, dtype: float64"
      ]
     },
     "execution_count": 14,
     "metadata": {},
     "output_type": "execute_result"
    }
   ],
   "source": [
    "house_info.loc[house_info[\"Bedrooms\"]==8, \"Price\"].agg((min,max))"
   ]
  },
  {
   "cell_type": "code",
   "execution_count": 15,
   "metadata": {},
   "outputs": [
    {
     "data": {
      "text/plain": [
       "min     450000.0\n",
       "max    1400000.0\n",
       "Name: Price, dtype: float64"
      ]
     },
     "execution_count": 15,
     "metadata": {},
     "output_type": "execute_result"
    }
   ],
   "source": [
    "house_info.loc[house_info[\"Bedrooms\"]==9, \"Price\"].agg((min,max))"
   ]
  },
  {
   "cell_type": "code",
   "execution_count": 16,
   "metadata": {},
   "outputs": [
    {
     "data": {
      "text/plain": [
       "min     650000.0\n",
       "max    1150000.0\n",
       "Name: Price, dtype: float64"
      ]
     },
     "execution_count": 16,
     "metadata": {},
     "output_type": "execute_result"
    }
   ],
   "source": [
    "house_info.loc[house_info[\"Bedrooms\"]==10, \"Price\"].agg((min,max))"
   ]
  },
  {
   "cell_type": "code",
   "execution_count": 17,
   "metadata": {
    "scrolled": true
   },
   "outputs": [
    {
     "data": {
      "text/plain": [
       "8748    520000.0\n",
       "Name: Price, dtype: float64"
      ]
     },
     "execution_count": 17,
     "metadata": {},
     "output_type": "execute_result"
    }
   ],
   "source": [
    "house_info.loc[house_info[\"Bedrooms\"]==11, \"Price\"]"
   ]
  },
  {
   "cell_type": "code",
   "execution_count": 18,
   "metadata": {},
   "outputs": [
    {
     "data": {
      "text/plain": [
       "15856    640000.0\n",
       "Name: Price, dtype: float64"
      ]
     },
     "execution_count": 18,
     "metadata": {},
     "output_type": "execute_result"
    }
   ],
   "source": [
    "house_info.loc[house_info[\"Bedrooms\"]==33, \"Price\"]"
   ]
  },
  {
   "cell_type": "code",
   "execution_count": 19,
   "metadata": {},
   "outputs": [
    {
     "data": {
      "text/plain": [
       "2.50    5377\n",
       "1.00    3851\n",
       "1.75    3048\n",
       "2.25    2047\n",
       "2.00    1930\n",
       "1.50    1445\n",
       "2.75    1185\n",
       "3.00     753\n",
       "3.50     731\n",
       "3.25     589\n",
       "3.75     155\n",
       "4.00     136\n",
       "4.50     100\n",
       "4.25      79\n",
       "0.75      71\n",
       "4.75      23\n",
       "5.00      21\n",
       "5.25      13\n",
       "5.50      10\n",
       "1.25       9\n",
       "6.00       6\n",
       "5.75       4\n",
       "0.50       4\n",
       "8.00       2\n",
       "6.25       2\n",
       "6.75       2\n",
       "6.50       2\n",
       "7.50       1\n",
       "7.75       1\n",
       "Name: Bathrooms, dtype: int64"
      ]
     },
     "execution_count": 19,
     "metadata": {},
     "output_type": "execute_result"
    }
   ],
   "source": [
    "house_info[\"Bathrooms\"].value_counts()"
   ]
  },
  {
   "cell_type": "code",
   "execution_count": 20,
   "metadata": {},
   "outputs": [
    {
     "data": {
      "text/plain": [
       "min     80000.0\n",
       "max    785000.0\n",
       "Name: Price, dtype: float64"
      ]
     },
     "execution_count": 20,
     "metadata": {},
     "output_type": "execute_result"
    }
   ],
   "source": [
    "house_info.loc[house_info[\"Bathrooms\"]==.75, \"Price\"].agg((min,max))"
   ]
  },
  {
   "cell_type": "code",
   "execution_count": 21,
   "metadata": {},
   "outputs": [
    {
     "data": {
      "text/plain": [
       "min    109000.0\n",
       "max    312500.0\n",
       "Name: Price, dtype: float64"
      ]
     },
     "execution_count": 21,
     "metadata": {},
     "output_type": "execute_result"
    }
   ],
   "source": [
    "house_info.loc[house_info[\"Bathrooms\"]==.50, \"Price\"].agg((min,max))"
   ]
  },
  {
   "cell_type": "code",
   "execution_count": 22,
   "metadata": {},
   "outputs": [
    {
     "data": {
      "text/plain": [
       "min      78000.0\n",
       "max    1300000.0\n",
       "Name: Price, dtype: float64"
      ]
     },
     "execution_count": 22,
     "metadata": {},
     "output_type": "execute_result"
    }
   ],
   "source": [
    "house_info.loc[house_info[\"Bathrooms\"]==1, \"Price\"].agg((min,max))"
   ]
  },
  {
   "cell_type": "code",
   "execution_count": 23,
   "metadata": {},
   "outputs": [
    {
     "data": {
      "text/plain": [
       "min     275000.0\n",
       "max    1390000.0\n",
       "Name: Price, dtype: float64"
      ]
     },
     "execution_count": 23,
     "metadata": {},
     "output_type": "execute_result"
    }
   ],
   "source": [
    "house_info.loc[house_info[\"Bathrooms\"]==1.25, \"Price\"].agg((min,max))"
   ]
  },
  {
   "cell_type": "code",
   "execution_count": 24,
   "metadata": {},
   "outputs": [
    {
     "data": {
      "text/plain": [
       "min     107000.0\n",
       "max    1500000.0\n",
       "Name: Price, dtype: float64"
      ]
     },
     "execution_count": 24,
     "metadata": {},
     "output_type": "execute_result"
    }
   ],
   "source": [
    "house_info.loc[house_info[\"Bathrooms\"]==1.50, \"Price\"].agg((min,max))"
   ]
  },
  {
   "cell_type": "code",
   "execution_count": 25,
   "metadata": {},
   "outputs": [
    {
     "data": {
      "text/plain": [
       "min     115000.0\n",
       "max    3280000.0\n",
       "Name: Price, dtype: float64"
      ]
     },
     "execution_count": 25,
     "metadata": {},
     "output_type": "execute_result"
    }
   ],
   "source": [
    "house_info.loc[house_info[\"Bathrooms\"]==1.75, \"Price\"].agg((min,max))"
   ]
  },
  {
   "cell_type": "code",
   "execution_count": 26,
   "metadata": {},
   "outputs": [
    {
     "data": {
      "text/plain": [
       "min     115000.0\n",
       "max    2200000.0\n",
       "Name: Price, dtype: float64"
      ]
     },
     "execution_count": 26,
     "metadata": {},
     "output_type": "execute_result"
    }
   ],
   "source": [
    "house_info.loc[house_info[\"Bathrooms\"]==2.00, \"Price\"].agg((min,max))"
   ]
  },
  {
   "cell_type": "code",
   "execution_count": 27,
   "metadata": {},
   "outputs": [
    {
     "data": {
      "text/plain": [
       "min     153503.0\n",
       "max    3070000.0\n",
       "Name: Price, dtype: float64"
      ]
     },
     "execution_count": 27,
     "metadata": {},
     "output_type": "execute_result"
    }
   ],
   "source": [
    "house_info.loc[house_info[\"Bathrooms\"]==2.50, \"Price\"].agg((min,max))"
   ]
  },
  {
   "cell_type": "code",
   "execution_count": 28,
   "metadata": {},
   "outputs": [
    {
     "data": {
      "text/plain": [
       "min     183750.0\n",
       "max    2700000.0\n",
       "Name: Price, dtype: float64"
      ]
     },
     "execution_count": 28,
     "metadata": {},
     "output_type": "execute_result"
    }
   ],
   "source": [
    "house_info.loc[house_info[\"Bathrooms\"]==2.75, \"Price\"].agg((min,max))"
   ]
  },
  {
   "cell_type": "code",
   "execution_count": 29,
   "metadata": {},
   "outputs": [
    {
     "data": {
      "text/plain": [
       "min     154000.0\n",
       "max    4490000.0\n",
       "Name: Price, dtype: float64"
      ]
     },
     "execution_count": 29,
     "metadata": {},
     "output_type": "execute_result"
    }
   ],
   "source": [
    "house_info.loc[house_info[\"Bathrooms\"]==3.00, \"Price\"].agg((min,max))"
   ]
  },
  {
   "cell_type": "code",
   "execution_count": 30,
   "metadata": {},
   "outputs": [
    {
     "data": {
      "text/plain": [
       "min     216650.0\n",
       "max    3710000.0\n",
       "Name: Price, dtype: float64"
      ]
     },
     "execution_count": 30,
     "metadata": {},
     "output_type": "execute_result"
    }
   ],
   "source": [
    "house_info.loc[house_info[\"Bathrooms\"]==3.50, \"Price\"].agg((min,max))"
   ]
  },
  {
   "cell_type": "code",
   "execution_count": 31,
   "metadata": {},
   "outputs": [
    {
     "data": {
      "text/plain": [
       "min     255000.0\n",
       "max    3650000.0\n",
       "Name: Price, dtype: float64"
      ]
     },
     "execution_count": 31,
     "metadata": {},
     "output_type": "execute_result"
    }
   ],
   "source": [
    "house_info.loc[house_info[\"Bathrooms\"]==3.75, \"Price\"].agg((min,max))"
   ]
  },
  {
   "cell_type": "code",
   "execution_count": 32,
   "metadata": {},
   "outputs": [
    {
     "data": {
      "text/plain": [
       "min     265000.0\n",
       "max    3400000.0\n",
       "Name: Price, dtype: float64"
      ]
     },
     "execution_count": 32,
     "metadata": {},
     "output_type": "execute_result"
    }
   ],
   "source": [
    "house_info.loc[house_info[\"Bathrooms\"]==4.00, \"Price\"].agg((min,max))"
   ]
  },
  {
   "cell_type": "code",
   "execution_count": 33,
   "metadata": {},
   "outputs": [
    {
     "data": {
      "text/plain": [
       "min     290000.0\n",
       "max    7060000.0\n",
       "Name: Price, dtype: float64"
      ]
     },
     "execution_count": 33,
     "metadata": {},
     "output_type": "execute_result"
    }
   ],
   "source": [
    "house_info.loc[house_info[\"Bathrooms\"]==4.50, \"Price\"].agg((min,max))"
   ]
  },
  {
   "cell_type": "code",
   "execution_count": 34,
   "metadata": {},
   "outputs": [
    {
     "data": {
      "text/plain": [
       "min     480000.0\n",
       "max    3650000.0\n",
       "Name: Price, dtype: float64"
      ]
     },
     "execution_count": 34,
     "metadata": {},
     "output_type": "execute_result"
    }
   ],
   "source": [
    "house_info.loc[house_info[\"Bathrooms\"]==4.75, \"Price\"].agg((min,max))"
   ]
  },
  {
   "cell_type": "code",
   "execution_count": 35,
   "metadata": {},
   "outputs": [
    {
     "data": {
      "text/plain": [
       "min     343000.0\n",
       "max    5350000.0\n",
       "Name: Price, dtype: float64"
      ]
     },
     "execution_count": 35,
     "metadata": {},
     "output_type": "execute_result"
    }
   ],
   "source": [
    "house_info.loc[house_info[\"Bathrooms\"]==5.00, \"Price\"].agg((min,max))"
   ]
  },
  {
   "cell_type": "code",
   "execution_count": 36,
   "metadata": {},
   "outputs": [
    {
     "data": {
      "text/plain": [
       "min     925000.0\n",
       "max    4500000.0\n",
       "Name: Price, dtype: float64"
      ]
     },
     "execution_count": 36,
     "metadata": {},
     "output_type": "execute_result"
    }
   ],
   "source": [
    "house_info.loc[house_info[\"Bathrooms\"]==5.50, \"Price\"].agg((min,max))"
   ]
  },
  {
   "cell_type": "code",
   "execution_count": 37,
   "metadata": {},
   "outputs": [
    {
     "data": {
      "text/plain": [
       "min     540000.0\n",
       "max    5570000.0\n",
       "Name: Price, dtype: float64"
      ]
     },
     "execution_count": 37,
     "metadata": {},
     "output_type": "execute_result"
    }
   ],
   "source": [
    "house_info.loc[house_info[\"Bathrooms\"]==5.75, \"Price\"].agg((min,max))"
   ]
  },
  {
   "cell_type": "code",
   "execution_count": 38,
   "metadata": {},
   "outputs": [
    {
     "data": {
      "text/plain": [
       "min     900000.0\n",
       "max    5300000.0\n",
       "Name: Price, dtype: float64"
      ]
     },
     "execution_count": 38,
     "metadata": {},
     "output_type": "execute_result"
    }
   ],
   "source": [
    "house_info.loc[house_info[\"Bathrooms\"]==6, \"Price\"].agg((min,max))"
   ]
  },
  {
   "cell_type": "code",
   "execution_count": 39,
   "metadata": {},
   "outputs": [
    {
     "data": {
      "text/plain": [
       "min     900000.0\n",
       "max    5300000.0\n",
       "Name: Price, dtype: float64"
      ]
     },
     "execution_count": 39,
     "metadata": {},
     "output_type": "execute_result"
    }
   ],
   "source": [
    "house_info.loc[house_info[\"Bathrooms\"]==6, \"Price\"].agg((min,max))"
   ]
  },
  {
   "cell_type": "code",
   "execution_count": 40,
   "metadata": {},
   "outputs": [
    {
     "data": {
      "text/plain": [
       "min    1180000.0\n",
       "max    2240000.0\n",
       "Name: Price, dtype: float64"
      ]
     },
     "execution_count": 40,
     "metadata": {},
     "output_type": "execute_result"
    }
   ],
   "source": [
    "house_info.loc[house_info[\"Bathrooms\"]==6.50, \"Price\"].agg((min,max))"
   ]
  },
  {
   "cell_type": "code",
   "execution_count": 41,
   "metadata": {},
   "outputs": [
    {
     "data": {
      "text/plain": [
       "min     800000.0\n",
       "max    4670000.0\n",
       "Name: Price, dtype: float64"
      ]
     },
     "execution_count": 41,
     "metadata": {},
     "output_type": "execute_result"
    }
   ],
   "source": [
    "house_info.loc[house_info[\"Bathrooms\"]==6.75, \"Price\"].agg((min,max))"
   ]
  },
  {
   "cell_type": "code",
   "execution_count": 42,
   "metadata": {},
   "outputs": [
    {
     "data": {
      "text/plain": [
       "min   NaN\n",
       "max   NaN\n",
       "Name: Price, dtype: float64"
      ]
     },
     "execution_count": 42,
     "metadata": {},
     "output_type": "execute_result"
    }
   ],
   "source": [
    "house_info.loc[house_info[\"Bathrooms\"]==7.00, \"Price\"].agg((min,max))"
   ]
  },
  {
   "cell_type": "code",
   "execution_count": 43,
   "metadata": {},
   "outputs": [
    {
     "data": {
      "text/plain": [
       "min    450000.0\n",
       "max    450000.0\n",
       "Name: Price, dtype: float64"
      ]
     },
     "execution_count": 43,
     "metadata": {},
     "output_type": "execute_result"
    }
   ],
   "source": [
    "house_info.loc[house_info[\"Bathrooms\"]==7.50, \"Price\"].agg((min,max))"
   ]
  },
  {
   "cell_type": "code",
   "execution_count": 44,
   "metadata": {},
   "outputs": [
    {
     "data": {
      "text/plain": [
       "min    6890000.0\n",
       "max    6890000.0\n",
       "Name: Price, dtype: float64"
      ]
     },
     "execution_count": 44,
     "metadata": {},
     "output_type": "execute_result"
    }
   ],
   "source": [
    "house_info.loc[house_info[\"Bathrooms\"]==7.75, \"Price\"].agg((min,max))"
   ]
  },
  {
   "cell_type": "code",
   "execution_count": 45,
   "metadata": {},
   "outputs": [
    {
     "data": {
      "text/plain": [
       "min    2280000.0\n",
       "max    7700000.0\n",
       "Name: Price, dtype: float64"
      ]
     },
     "execution_count": 45,
     "metadata": {},
     "output_type": "execute_result"
    }
   ],
   "source": [
    "house_info.loc[house_info[\"Bathrooms\"]==8.00, \"Price\"].agg((min,max))"
   ]
  },
  {
   "cell_type": "code",
   "execution_count": 46,
   "metadata": {},
   "outputs": [
    {
     "data": {
      "text/plain": [
       "0.0       17011\n",
       "2014.0       73\n",
       "2003.0       31\n",
       "2013.0       31\n",
       "2007.0       30\n",
       "          ...  \n",
       "1946.0        1\n",
       "1959.0        1\n",
       "1971.0        1\n",
       "1951.0        1\n",
       "1954.0        1\n",
       "Name: Year Renoveted, Length: 70, dtype: int64"
      ]
     },
     "execution_count": 46,
     "metadata": {},
     "output_type": "execute_result"
    }
   ],
   "source": [
    "house_info[\"Year Renoveted\"].value_counts()"
   ]
  },
  {
   "cell_type": "code",
   "execution_count": 47,
   "metadata": {},
   "outputs": [
    {
     "data": {
      "text/plain": [
       "Counter({2015.0: 14,\n",
       "         2014.0: 73,\n",
       "         2013.0: 31,\n",
       "         2012.0: 8,\n",
       "         2011.0: 9,\n",
       "         2010.0: 15,\n",
       "         2009.0: 21,\n",
       "         2008.0: 15,\n",
       "         2007.0: 30,\n",
       "         2006.0: 20,\n",
       "         2005.0: 29,\n",
       "         2004.0: 22,\n",
       "         2003.0: 31,\n",
       "         2002.0: 17,\n",
       "         2001.0: 15,\n",
       "         2000.0: 29,\n",
       "         1999.0: 15,\n",
       "         1998.0: 16,\n",
       "         1997.0: 12,\n",
       "         1996.0: 11,\n",
       "         1995.0: 12,\n",
       "         1994.0: 14,\n",
       "         1993.0: 12,\n",
       "         1992.0: 13,\n",
       "         1991.0: 16,\n",
       "         1990.0: 22,\n",
       "         1989.0: 20,\n",
       "         1988.0: 11,\n",
       "         1987.0: 14,\n",
       "         1986.0: 14,\n",
       "         1985.0: 14,\n",
       "         1984.0: 16,\n",
       "         1983.0: 15,\n",
       "         1982.0: 8,\n",
       "         1981.0: 4,\n",
       "         1980.0: 8,\n",
       "         1979.0: 7,\n",
       "         1978.0: 3,\n",
       "         1977.0: 7,\n",
       "         1976.0: 1,\n",
       "         1975.0: 5,\n",
       "         1974.0: 2,\n",
       "         1973.0: 4,\n",
       "         1972.0: 3,\n",
       "         1971.0: 1,\n",
       "         1970.0: 9,\n",
       "         1969.0: 4,\n",
       "         1968.0: 7,\n",
       "         1967.0: 2,\n",
       "         1965.0: 4,\n",
       "         1964.0: 5,\n",
       "         1963.0: 4,\n",
       "         1962.0: 2,\n",
       "         1960.0: 3,\n",
       "         1959.0: 1,\n",
       "         1958.0: 3,\n",
       "         1957.0: 2,\n",
       "         1956.0: 3,\n",
       "         1955.0: 3,\n",
       "         1954.0: 1,\n",
       "         1953.0: 1,\n",
       "         1951.0: 1,\n",
       "         1950.0: 1,\n",
       "         1948.0: 1,\n",
       "         1946.0: 1,\n",
       "         1945.0: 3,\n",
       "         1944.0: 1,\n",
       "         1940.0: 2,\n",
       "         1934.0: 1})"
      ]
     },
     "execution_count": 47,
     "metadata": {},
     "output_type": "execute_result"
    }
   ],
   "source": [
    "grouped_year = []\n",
    "for i in house_info[\"Year Renoveted\"].dropna():\n",
    "        if i == 0.00:continue\n",
    "        grouped_year.append(i)\n",
    "        grouped_year.sort(reverse=True)\n",
    "\n",
    "grouped_year = collections.Counter(grouped_year)\n",
    "grouped_year"
   ]
  },
  {
   "cell_type": "code",
   "execution_count": 48,
   "metadata": {},
   "outputs": [
    {
     "data": {
      "text/plain": [
       "2014    559\n",
       "2006    453\n",
       "2005    450\n",
       "2004    433\n",
       "2003    420\n",
       "       ... \n",
       "1933     30\n",
       "1901     29\n",
       "1902     27\n",
       "1935     24\n",
       "1934     21\n",
       "Name: Year Built, Length: 116, dtype: int64"
      ]
     },
     "execution_count": 48,
     "metadata": {},
     "output_type": "execute_result"
    }
   ],
   "source": [
    "house_info[\"Year Built\"].value_counts()"
   ]
  },
  {
   "cell_type": "code",
   "execution_count": 49,
   "metadata": {
    "scrolled": true
   },
   "outputs": [
    {
     "data": {
      "text/plain": [
       "Counter({2015: 38,\n",
       "         2014: 559,\n",
       "         2013: 201,\n",
       "         2012: 170,\n",
       "         2011: 130,\n",
       "         2010: 143,\n",
       "         2009: 230,\n",
       "         2008: 367,\n",
       "         2007: 417,\n",
       "         2006: 453,\n",
       "         2005: 450,\n",
       "         2004: 433,\n",
       "         2003: 420,\n",
       "         2002: 222,\n",
       "         2001: 305,\n",
       "         2000: 218,\n",
       "         1999: 263,\n",
       "         1998: 239,\n",
       "         1997: 177,\n",
       "         1996: 194,\n",
       "         1995: 169,\n",
       "         1994: 249,\n",
       "         1993: 202,\n",
       "         1992: 198,\n",
       "         1991: 224,\n",
       "         1990: 317,\n",
       "         1989: 290,\n",
       "         1988: 270,\n",
       "         1987: 294,\n",
       "         1986: 215,\n",
       "         1985: 227,\n",
       "         1984: 229,\n",
       "         1983: 212,\n",
       "         1982: 105,\n",
       "         1981: 199,\n",
       "         1980: 240,\n",
       "         1979: 343,\n",
       "         1978: 387,\n",
       "         1977: 417,\n",
       "         1976: 253,\n",
       "         1975: 189,\n",
       "         1974: 162,\n",
       "         1973: 149,\n",
       "         1972: 149,\n",
       "         1971: 104,\n",
       "         1970: 132,\n",
       "         1969: 280,\n",
       "         1968: 381,\n",
       "         1967: 350,\n",
       "         1966: 249,\n",
       "         1965: 187,\n",
       "         1964: 172,\n",
       "         1963: 255,\n",
       "         1962: 312,\n",
       "         1961: 224,\n",
       "         1960: 248,\n",
       "         1959: 334,\n",
       "         1958: 224,\n",
       "         1957: 198,\n",
       "         1956: 198,\n",
       "         1955: 271,\n",
       "         1954: 305,\n",
       "         1953: 222,\n",
       "         1952: 220,\n",
       "         1951: 229,\n",
       "         1950: 249,\n",
       "         1949: 195,\n",
       "         1948: 234,\n",
       "         1947: 263,\n",
       "         1946: 126,\n",
       "         1945: 95,\n",
       "         1944: 140,\n",
       "         1943: 170,\n",
       "         1942: 223,\n",
       "         1941: 161,\n",
       "         1940: 156,\n",
       "         1939: 106,\n",
       "         1938: 52,\n",
       "         1937: 68,\n",
       "         1936: 40,\n",
       "         1935: 24,\n",
       "         1934: 21,\n",
       "         1933: 30,\n",
       "         1932: 38,\n",
       "         1931: 61,\n",
       "         1930: 90,\n",
       "         1929: 114,\n",
       "         1928: 126,\n",
       "         1927: 115,\n",
       "         1926: 180,\n",
       "         1925: 165,\n",
       "         1924: 139,\n",
       "         1923: 84,\n",
       "         1922: 95,\n",
       "         1921: 76,\n",
       "         1920: 98,\n",
       "         1919: 88,\n",
       "         1918: 120,\n",
       "         1917: 56,\n",
       "         1916: 79,\n",
       "         1915: 64,\n",
       "         1914: 54,\n",
       "         1913: 58,\n",
       "         1912: 79,\n",
       "         1911: 73,\n",
       "         1910: 134,\n",
       "         1909: 94,\n",
       "         1908: 86,\n",
       "         1907: 65,\n",
       "         1906: 92,\n",
       "         1905: 74,\n",
       "         1904: 45,\n",
       "         1903: 46,\n",
       "         1902: 27,\n",
       "         1901: 29,\n",
       "         1900: 87})"
      ]
     },
     "execution_count": 49,
     "metadata": {},
     "output_type": "execute_result"
    }
   ],
   "source": [
    "grouped_year_built = []\n",
    "for i in house_info[\"Year Built\"].dropna():\n",
    "        if i == 0.00:continue\n",
    "        grouped_year_built.append(i)\n",
    "        grouped_year_built.sort(reverse=True)\n",
    "\n",
    "grouped_year_built = collections.Counter(grouped_year_built)\n",
    "grouped_year_built"
   ]
  },
  {
   "cell_type": "code",
   "execution_count": 50,
   "metadata": {},
   "outputs": [
    {
     "data": {
      "text/plain": [
       "1.0    10673\n",
       "2.0     8235\n",
       "1.5     1910\n",
       "3.0      611\n",
       "2.5      161\n",
       "3.5        7\n",
       "Name: Floors, dtype: int64"
      ]
     },
     "execution_count": 50,
     "metadata": {},
     "output_type": "execute_result"
    }
   ],
   "source": [
    "house_info[\"Floors\"].value_counts()"
   ]
  },
  {
   "cell_type": "code",
   "execution_count": 51,
   "metadata": {},
   "outputs": [
    {
     "data": {
      "text/plain": [
       "min      78000.0\n",
       "max    4670000.0\n",
       "Name: Price, dtype: float64"
      ]
     },
     "execution_count": 51,
     "metadata": {},
     "output_type": "execute_result"
    }
   ],
   "source": [
    "house_info.loc[house_info[\"Floors\"]==1.00, \"Price\"].agg((min,max))"
   ]
  },
  {
   "cell_type": "code",
   "execution_count": 52,
   "metadata": {},
   "outputs": [
    {
     "data": {
      "text/plain": [
       "min      92000.0\n",
       "max    3650000.0\n",
       "Name: Price, dtype: float64"
      ]
     },
     "execution_count": 52,
     "metadata": {},
     "output_type": "execute_result"
    }
   ],
   "source": [
    "house_info.loc[house_info[\"Floors\"]==1.50, \"Price\"].agg((min,max))"
   ]
  },
  {
   "cell_type": "code",
   "execution_count": 53,
   "metadata": {},
   "outputs": [
    {
     "data": {
      "text/plain": [
       "min      90000.0\n",
       "max    7060000.0\n",
       "Name: Price, dtype: float64"
      ]
     },
     "execution_count": 53,
     "metadata": {},
     "output_type": "execute_result"
    }
   ],
   "source": [
    "house_info.loc[house_info[\"Floors\"]==2.00, \"Price\"].agg((min,max))"
   ]
  },
  {
   "cell_type": "code",
   "execution_count": 54,
   "metadata": {},
   "outputs": [
    {
     "data": {
      "text/plain": [
       "min     255000.0\n",
       "max    7700000.0\n",
       "Name: Price, dtype: float64"
      ]
     },
     "execution_count": 54,
     "metadata": {},
     "output_type": "execute_result"
    }
   ],
   "source": [
    "house_info.loc[house_info[\"Floors\"]==2.50, \"Price\"].agg((min,max))"
   ]
  },
  {
   "cell_type": "code",
   "execution_count": 55,
   "metadata": {},
   "outputs": [
    {
     "data": {
      "text/plain": [
       "min     205000.0\n",
       "max    3100000.0\n",
       "Name: Price, dtype: float64"
      ]
     },
     "execution_count": 55,
     "metadata": {},
     "output_type": "execute_result"
    }
   ],
   "source": [
    "house_info.loc[house_info[\"Floors\"]==3.00, \"Price\"].agg((min,max))"
   ]
  },
  {
   "cell_type": "code",
   "execution_count": 56,
   "metadata": {},
   "outputs": [
    {
     "data": {
      "text/plain": [
       "min     435000.0\n",
       "max    3300000.0\n",
       "Name: Price, dtype: float64"
      ]
     },
     "execution_count": 56,
     "metadata": {},
     "output_type": "execute_result"
    }
   ],
   "source": [
    "house_info.loc[house_info[\"Floors\"]==3.50, \"Price\"].agg((min,max))"
   ]
  },
  {
   "cell_type": "code",
   "execution_count": 57,
   "metadata": {},
   "outputs": [
    {
     "data": {
      "text/plain": [
       "3    14020\n",
       "4     5677\n",
       "5     1701\n",
       "2      170\n",
       "1       29\n",
       "Name: Condition, dtype: int64"
      ]
     },
     "execution_count": 57,
     "metadata": {},
     "output_type": "execute_result"
    }
   ],
   "source": [
    "house_info[\"Condition\"].value_counts()"
   ]
  },
  {
   "cell_type": "code",
   "execution_count": 58,
   "metadata": {},
   "outputs": [
    {
     "data": {
      "text/plain": [
       "min      78000.0\n",
       "max    1500000.0\n",
       "Name: Price, dtype: float64"
      ]
     },
     "execution_count": 58,
     "metadata": {},
     "output_type": "execute_result"
    }
   ],
   "source": [
    "house_info.loc[house_info[\"Condition\"]==1.00, \"Price\"].agg((min,max))"
   ]
  },
  {
   "cell_type": "code",
   "execution_count": 59,
   "metadata": {},
   "outputs": [
    {
     "data": {
      "text/plain": [
       "min      80000.0\n",
       "max    2560000.0\n",
       "Name: Price, dtype: float64"
      ]
     },
     "execution_count": 59,
     "metadata": {},
     "output_type": "execute_result"
    }
   ],
   "source": [
    "house_info.loc[house_info[\"Condition\"]==2.00, \"Price\"].agg((min,max))"
   ]
  },
  {
   "cell_type": "code",
   "execution_count": 60,
   "metadata": {},
   "outputs": [
    {
     "data": {
      "text/plain": [
       "min      82000.0\n",
       "max    7060000.0\n",
       "Name: Price, dtype: float64"
      ]
     },
     "execution_count": 60,
     "metadata": {},
     "output_type": "execute_result"
    }
   ],
   "source": [
    "house_info.loc[house_info[\"Condition\"]==3.00, \"Price\"].agg((min,max))"
   ]
  },
  {
   "cell_type": "code",
   "execution_count": 61,
   "metadata": {},
   "outputs": [
    {
     "data": {
      "text/plain": [
       "min      89000.0\n",
       "max    7700000.0\n",
       "Name: Price, dtype: float64"
      ]
     },
     "execution_count": 61,
     "metadata": {},
     "output_type": "execute_result"
    }
   ],
   "source": [
    "house_info.loc[house_info[\"Condition\"]==4.00, \"Price\"].agg((min,max))"
   ]
  },
  {
   "cell_type": "code",
   "execution_count": 62,
   "metadata": {},
   "outputs": [
    {
     "data": {
      "text/plain": [
       "min     110000.0\n",
       "max    3650000.0\n",
       "Name: Price, dtype: float64"
      ]
     },
     "execution_count": 62,
     "metadata": {},
     "output_type": "execute_result"
    }
   ],
   "source": [
    "house_info.loc[house_info[\"Condition\"]==5.00, \"Price\"].agg((min,max))"
   ]
  },
  {
   "cell_type": "code",
   "execution_count": 63,
   "metadata": {},
   "outputs": [
    {
     "data": {
      "text/plain": [
       "98103    602\n",
       "98038    589\n",
       "98115    583\n",
       "98052    574\n",
       "98117    553\n",
       "        ... \n",
       "98102    104\n",
       "98010    100\n",
       "98024     80\n",
       "98148     57\n",
       "98039     50\n",
       "Name: Location, Length: 70, dtype: int64"
      ]
     },
     "execution_count": 63,
     "metadata": {},
     "output_type": "execute_result"
    }
   ],
   "source": [
    "house_info[\"Location\"].value_counts()"
   ]
  },
  {
   "cell_type": "code",
   "execution_count": 64,
   "metadata": {},
   "outputs": [
    {
     "data": {
      "text/plain": [
       "21597"
      ]
     },
     "execution_count": 64,
     "metadata": {},
     "output_type": "execute_result"
    }
   ],
   "source": [
    "grouped_loca = []\n",
    "for i in house_info[\"Location\"].dropna():\n",
    "        if i == 0.00:continue\n",
    "        grouped_loca.append(i)\n",
    "        grouped_loca.sort(reverse=True)\n",
    "len(grouped_loca)"
   ]
  },
  {
   "cell_type": "code",
   "execution_count": 65,
   "metadata": {},
   "outputs": [
    {
     "data": {
      "text/plain": [
       "Counter({'Seattle (Magnolia: West)': 317,\n",
       "         'Des Moines: South King County': 280,\n",
       "         'Mc Micken Heights: South King County': 136,\n",
       "         'Bryn Mawr-Skyway: West King County': 262,\n",
       "         'Spring Beach: North King County': 255,\n",
       "         'Riverton-Boulevard Park: West King County': 269,\n",
       "         'Gregory Heights: West King County': 254,\n",
       "         'Shorline: North King County': 939,\n",
       "         'Normandy Park: South King County': 57,\n",
       "         'White Center: West King County': 288,\n",
       "         'Seattle (Jimi Hendrix: East)': 343,\n",
       "         'Seattle (Gatewood: South)': 263,\n",
       "         'Seattle (High Point: South)': 354,\n",
       "         'Seattle (North Seattle: North)': 409,\n",
       "         'Seattle (Central District: East)': 290,\n",
       "         'Seattle (North Queen Anne: West)': 184,\n",
       "         'Seattle (Hillman City: South)': 507,\n",
       "         'Seattle (Whittier: North)': 553,\n",
       "         'Seattle (North Admiral: West)': 330,\n",
       "         'Seattle (Wedgwood: North)': 583,\n",
       "         'Seattle (Arboretum: East)': 269,\n",
       "         'Seattle (Queen Anne: West)': 109,\n",
       "         'Seattle (Georgerown: South)': 186,\n",
       "         'Seattle (West Woodland: South)': 266,\n",
       "         'Seattle (Delridge: South)': 335,\n",
       "         'Seattle (University District: North)': 229,\n",
       "         'Seattle (Phinney Ridge: North)': 602,\n",
       "         'Seattle (Capitol Hill: West)': 104,\n",
       "         'Auburn: South King County': 911,\n",
       "         'Woodinville: North King County': 471,\n",
       "         'Sammamish: East King County': 800,\n",
       "         'Vashon: South King County': 117,\n",
       "         'Snaqualmie: East King County': 308,\n",
       "         'Renton: West King County': 1597,\n",
       "         'Redmond: North King County': 977,\n",
       "         'North Bend: East King County': 220,\n",
       "         'Kent: South King County': 1201,\n",
       "         'Mercer Island: West King County': 282,\n",
       "         'Medina: West King County': 50,\n",
       "         'Maple Valley: South King County': 589,\n",
       "         'Kirkland: North King County': 977,\n",
       "         'Issaquah: East King County': 733,\n",
       "         'Kenmore: North King County': 283,\n",
       "         'Fall city: East King County': 80,\n",
       "         'Federal Way: South King County': 779,\n",
       "         'Enumclaw: South King County': 233,\n",
       "         'Duvall: East King County': 190,\n",
       "         'Camation: East King County': 124,\n",
       "         'Bothell: North King County': 195,\n",
       "         'Black Diamond: South King County': 100,\n",
       "         'Bellueve: West King County': 1407})"
      ]
     },
     "execution_count": 65,
     "metadata": {},
     "output_type": "execute_result"
    }
   ],
   "source": [
    "grouped2 = []\n",
    "for i in grouped_loca:\n",
    "    if i ==  98092 :grouped2.append('Auburn: South King County')\n",
    "    if i ==  98002: grouped2.append('Auburn: South King County')\n",
    "    if i ==  98001: grouped2.append('Auburn: South King County')\n",
    "    if i ==  98077: grouped2.append('Woodinville: North King County')\n",
    "    if i ==  98072: grouped2.append('Woodinville: North King County')\n",
    "    if i ==  98075: grouped2.append('Sammamish: East King County')\n",
    "    if i ==  98074: grouped2.append('Sammamish: East King County')\n",
    "    if i ==  98070: grouped2.append('Vashon: South King County')\n",
    "    if i ==  98065: grouped2.append('Snaqualmie: East King County')\n",
    "    if i ==  98059: grouped2.append('Renton: West King County')\n",
    "    if i ==  98058: grouped2.append('Renton: West King County')\n",
    "    if i ==  98056: grouped2.append('Renton: West King County')\n",
    "    if i ==  98055: grouped2.append('Renton: West King County')\n",
    "    if i ==  98053: grouped2.append('Redmond: North King County')\n",
    "    if i ==  98052: grouped2.append('Redmond: North King County')\n",
    "    if i ==  98045: grouped2.append('North Bend: East King County')\n",
    "    if i ==  98042: grouped2.append('Kent: South King County')\n",
    "    if i ==  98032: grouped2.append('Kent: South King County')\n",
    "    if i ==  98031: grouped2.append('Kent: South King County')\n",
    "    if i ==  98030: grouped2.append('Kent: South King County')\n",
    "    if i ==  98040: grouped2.append('Mercer Island: West King County')\n",
    "    if i ==  98039: grouped2.append('Medina: West King County')\n",
    "    if i ==  98038: grouped2.append('Maple Valley: South King County')\n",
    "    if i ==  98034: grouped2.append('Kirkland: North King County')\n",
    "    if i ==  98033: grouped2.append('Kirkland: North King County')\n",
    "    if i ==  98029: grouped2.append('Issaquah: East King County')\n",
    "    if i ==  98027: grouped2.append('Issaquah: East King County')\n",
    "    if i ==  98028: grouped2.append('Kenmore: North King County')\n",
    "    if i ==  98024: grouped2.append('Fall city: East King County')\n",
    "    if i ==  98023: grouped2.append('Federal Way: South King County')\n",
    "    if i ==  98003: grouped2.append('Federal Way: South King County')\n",
    "    if i ==  98008: grouped2.append('Bellueve: West King County')\n",
    "    if i ==  98007: grouped2.append('Bellueve: West King County')\n",
    "    if i ==  98006: grouped2.append('Bellueve: West King County')\n",
    "    if i ==  98005: grouped2.append('Bellueve: West King County')\n",
    "    if i ==  98004: grouped2.append('Bellueve: West King County')\n",
    "    if i ==  98010: grouped2.append('Black Diamond: South King County')\n",
    "    if i ==  98011: grouped2.append('Bothell: North King County')\n",
    "    if i ==  98014: grouped2.append('Camation: East King County')\n",
    "    if i ==  98019: grouped2.append('Duvall: East King County')\n",
    "    if i ==  98022: grouped2.append('Enumclaw: South King County')\n",
    "    if i ==  98198: grouped2.append('Des Moines: South King County')\n",
    "    if i ==  98188: grouped2.append('Mc Micken Heights: South King County')\n",
    "    if i ==  98178: grouped2.append('Bryn Mawr-Skyway: West King County')\n",
    "    if i ==  98177: grouped2.append('Spring Beach: North King County')\n",
    "    if i ==  98168: grouped2.append('Riverton-Boulevard Park: West King County')\n",
    "    if i ==  98166: grouped2.append('Gregory Heights: West King County')\n",
    "    if i ==  98155: grouped2.append('Shorline: North King County')\n",
    "    if i ==  98133: grouped2.append('Shorline: North King County')\n",
    "    if i ==  98148: grouped2.append('Normandy Park: South King County')\n",
    "    if i ==  98146: grouped2.append('White Center: West King County')\n",
    "    if i ==  98199: grouped2.append('Seattle (Magnolia: West)')\n",
    "    if i ==  98119: grouped2.append('Seattle (North Queen Anne: West)')\n",
    "    if i ==  98116: grouped2.append('Seattle (North Admiral: West)')\n",
    "    if i ==  98109: grouped2.append('Seattle (Queen Anne: West)')\n",
    "    if i ==  98102: grouped2.append('Seattle (Capitol Hill: West)')\n",
    "    if i ==  98144: grouped2.append('Seattle (Jimi Hendrix: East)')\n",
    "    if i ==  98122: grouped2.append('Seattle (Central District: East)')\n",
    "    if i ==  98112: grouped2.append('Seattle (Arboretum: East)')\n",
    "    if i ==  98136: grouped2.append('Seattle (Gatewood: South)')\n",
    "    if i ==  98126: grouped2.append('Seattle (High Point: South)')\n",
    "    if i ==  98118: grouped2.append('Seattle (Hillman City: South)')\n",
    "    if i ==  98108: grouped2.append('Seattle (Georgerown: South)')\n",
    "    if i ==  98106: grouped2.append('Seattle (Delridge: South)')\n",
    "    if i ==  98107: grouped2.append('Seattle (West Woodland: South)')\n",
    "    if i ==  98125: grouped2.append('Seattle (North Seattle: North)')\n",
    "    if i ==  98117: grouped2.append('Seattle (Whittier: North)')\n",
    "    if i ==  98115: grouped2.append('Seattle (Wedgwood: North)')\n",
    "    if i ==  98105: grouped2.append('Seattle (University District: North)')\n",
    "    if i ==  98103: grouped2.append('Seattle (Phinney Ridge: North)')\n",
    "grouped2 = collections.Counter(grouped2)\n",
    "grouped2"
   ]
  },
  {
   "cell_type": "code",
   "execution_count": 66,
   "metadata": {},
   "outputs": [
    {
     "data": {
      "text/plain": [
       "32"
      ]
     },
     "execution_count": 66,
     "metadata": {},
     "output_type": "execute_result"
    }
   ],
   "source": [
    "city = []\n",
    "for i in grouped2:\n",
    "    if i[:2] == 'Se':continue\n",
    "    city.append(i.split(':',1)[0])\n",
    "len(city)"
   ]
  },
  {
   "cell_type": "code",
   "execution_count": 67,
   "metadata": {},
   "outputs": [
    {
     "data": {
      "text/plain": [
       "33"
      ]
     },
     "execution_count": 67,
     "metadata": {},
     "output_type": "execute_result"
    }
   ],
   "source": [
    "county = []\n",
    "counter = 0\n",
    "while counter < 33:\n",
    "    county.append('King County')\n",
    "    counter+= 1\n",
    "len(county)"
   ]
  },
  {
   "cell_type": "code",
   "execution_count": 68,
   "metadata": {},
   "outputs": [
    {
     "data": {
      "text/plain": [
       "33"
      ]
     },
     "execution_count": 68,
     "metadata": {},
     "output_type": "execute_result"
    }
   ],
   "source": [
    "state = []\n",
    "counter = 0\n",
    "while counter < 33:\n",
    "    state.append('Washington')\n",
    "    counter+= 1\n",
    "len(state)"
   ]
  },
  {
   "cell_type": "code",
   "execution_count": 69,
   "metadata": {
    "scrolled": true
   },
   "outputs": [
    {
     "data": {
      "text/plain": [
       "32"
      ]
     },
     "execution_count": 69,
     "metadata": {},
     "output_type": "execute_result"
    }
   ],
   "source": [
    "grouped = []\n",
    "for i in grouped2:\n",
    "    if i[:2] == 'Se':continue\n",
    "    i=i.split(':',2)[1]\n",
    "    grouped.append(i)\n",
    "len(grouped)"
   ]
  },
  {
   "cell_type": "code",
   "execution_count": 70,
   "metadata": {},
   "outputs": [
    {
     "data": {
      "text/plain": [
       "32"
      ]
     },
     "execution_count": 70,
     "metadata": {},
     "output_type": "execute_result"
    }
   ],
   "source": [
    "color = []\n",
    "for i in grouped:\n",
    "    if i == ' South King County':color.append('blue')\n",
    "    if i == ' North King County':color.append('red')\n",
    "    if i == ' West King County':color.append('purple')\n",
    "    if i == ' East King County':color.append('gold')\n",
    "len(color)"
   ]
  },
  {
   "cell_type": "code",
   "execution_count": 97,
   "metadata": {},
   "outputs": [
    {
     "data": {
      "text/plain": [
       "32"
      ]
     },
     "execution_count": 97,
     "metadata": {},
     "output_type": "execute_result"
    }
   ],
   "source": [
    "Latitude = []\n",
    "for i in grouped2:\n",
    "    if i == 'Des Moines: South King County':Latitude.append(47.3911294)\n",
    "    if i == 'Mc Micken Heights: South King County':Latitude.append(47.4531965)\n",
    "    if i == 'Bryn Mawr-Skyway: West King County':Latitude.append(47.4943000)\n",
    "    if i == 'Spring Beach: North King County':Latitude.append(47.7400975)\n",
    "    if i == 'Riverton-Boulevard Park: West King County':Latitude.append(47.495792)\n",
    "    if i == 'Gregory Heights: West King County':Latitude.append(47.455900)\n",
    "    if i == 'Shorline: North King County':Latitude.append(47.755653)\n",
    "    if i == 'Normandy Park: South King County':Latitude.append(47.435664924)\n",
    "    if i == 'White Center: West King County':Latitude.append(47.51732)\n",
    "    if i == 'Auburn: South King County':Latitude.append(47.307323)\n",
    "    if i == 'Woodinville: North King County':Latitude.append(47.7542651)\n",
    "    if i == 'Sammamish: East King County':Latitude.append(47.618198)\n",
    "    if i == 'Vashon: South King County':Latitude.append(47.409665028 )\n",
    "    if i == 'Snaqualmie: East King County':Latitude.append(47.52871 )\n",
    "    if i == 'Renton: West King County':Latitude.append(47.482880)\n",
    "    if i == 'Redmond: North King County':Latitude.append(47.673988)\n",
    "    if i == 'North Bend: East King County':Latitude.append(47.502357)\n",
    "    if i == 'Kent: South King County':Latitude.append(47.378010)\n",
    "    if i == 'Mercer Island: West King County':Latitude.append(47.570656)\n",
    "    if i == 'Medina: West King County':Latitude.append(47.62093)\n",
    "    if i == 'Maple Valley: South King County':Latitude.append(47.373348 )\n",
    "    if i == 'Kirkland: North King County':Latitude.append(47.6814876)\n",
    "    if i == 'Issaquah: East King County':Latitude.append(47.530102)\n",
    "    if i == 'Kenmore: North King County':Latitude.append(47.7532046)\n",
    "    if i == 'Fall city: East King County':Latitude.append(47.567326)\n",
    "    if i == 'Federal Way: South King County':Latitude.append(47.322323)\n",
    "    if i == 'Enumclaw: South King County':Latitude.append(47.201499194)\n",
    "    if i == 'Duvall: East King County':Latitude.append(47.733830398 )\n",
    "    if i == 'Camation: East King County':Latitude.append(47.648234)\n",
    "    if i == 'Bothell: North King County':Latitude.append(47.77167)\n",
    "    if i == 'Black Diamond: South King County':Latitude.append(47.317332064)\n",
    "    if i == 'Bellueve: West King County':Latitude.append(47.610378)\n",
    "len(Latitude)"
   ]
  },
  {
   "cell_type": "code",
   "execution_count": 98,
   "metadata": {},
   "outputs": [],
   "source": [
    "Longitude = []\n",
    "for i in grouped2:\n",
    "    if i == 'Des Moines: South King County':Longitude.append(-122.31546)\n",
    "    if i == 'Mc Micken Heights: South King County':Longitude.append(-122.285282)\n",
    "    if i == 'Bryn Mawr-Skyway: West King County':Longitude.append(-122.2409200)\n",
    "    if i == 'Spring Beach: North King County':Longitude.append(-122.3734629)\n",
    "    if i == 'Riverton-Boulevard Park: West King County':Longitude.append(-122.312698)\n",
    "    if i == 'Gregory Heights: West King County':Longitude.append(-122.361000)\n",
    "    if i == 'Shorline: North King County':Longitude.append(-122.341515)\n",
    "    if i == 'Normandy Park: South King County':Longitude.append( -122.339331976)\n",
    "    if i == 'White Center: West King County':Longitude.append(-122.35485)\n",
    "    if i == 'Auburn: South King County':Longitude.append(-122.228455)\n",
    "    if i == 'Woodinville: North King County':Longitude.append(-122.1634582)\n",
    "    if i == 'Sammamish: East King County':Longitude.append(-122.054672)\n",
    "    if i == 'Vashon: South King County':Longitude.append(-122.467664796)\n",
    "    if i == 'Snaqualmie: East King County':Longitude.append(-121.82539)\n",
    "    if i == 'Renton: West King County':Longitude.append(-122.217064)\n",
    "    if i == 'Redmond: North King County':Longitude.append(-122.121513)\n",
    "    if i == 'North Bend: East King County':Longitude.append(-121.797867)\n",
    "    if i == 'Kent: South King County':Longitude.append(-122.237381)\n",
    "    if i == 'Mercer Island: West King County':Longitude.append(-122.222069)\n",
    "    if i == 'Medina: West King County':Longitude.append( -122.22762)\n",
    "    if i == 'Maple Valley: South King County':Longitude.append(-122.036926)\n",
    "    if i == 'Kirkland: North King County':Longitude.append(-122.2087353)\n",
    "    if i == 'Issaquah: East King County':Longitude.append(-122.032616)\n",
    "    if i == 'Kenmore: North King County':Longitude.append(-122.24631)\n",
    "    if i == 'Fall city: East King County':Longitude.append(-121.888725)\n",
    "    if i == 'Federal Way: South King County':Longitude.append( -122.312622)\n",
    "    if i == 'Enumclaw: South King County':Longitude.append( -121.989829374)\n",
    "    if i == 'Duvall: East King County':Longitude.append(-121.971996112)\n",
    "    if i == 'Camation: East King County':Longitude.append( -121.90863)\n",
    "    if i == 'Bothell: North King County':Longitude.append( -122.204421)\n",
    "    if i == 'Black Diamond: South King County':Longitude.append( -122.008833298)\n",
    "    if i == 'Bellueve: West King County':Longitude.append(-122.200676)"
   ]
  },
  {
   "cell_type": "code",
   "execution_count": 118,
   "metadata": {},
   "outputs": [
    {
     "data": {
      "text/plain": [
       "32"
      ]
     },
     "execution_count": 118,
     "metadata": {},
     "output_type": "execute_result"
    }
   ],
   "source": [
    "len(Longitude)"
   ]
  },
  {
   "cell_type": "code",
   "execution_count": 119,
   "metadata": {},
   "outputs": [
    {
     "data": {
      "text/plain": [
       "10"
      ]
     },
     "execution_count": 119,
     "metadata": {},
     "output_type": "execute_result"
    }
   ],
   "source": [
    "trace1 = []\n",
    "for i,x in enumerate(grouped):\n",
    "    if x == ' South King County':trace1.append(Longitude[i])\n",
    "len(trace1)"
   ]
  },
  {
   "cell_type": "code",
   "execution_count": 120,
   "metadata": {},
   "outputs": [
    {
     "data": {
      "text/plain": [
       "7"
      ]
     },
     "execution_count": 120,
     "metadata": {},
     "output_type": "execute_result"
    }
   ],
   "source": [
    "trace2 = []\n",
    "for i,x in enumerate(grouped):\n",
    "    if x == ' North King County':trace2.append(Longitude[i])\n",
    "len(trace2)"
   ]
  },
  {
   "cell_type": "code",
   "execution_count": 121,
   "metadata": {},
   "outputs": [
    {
     "data": {
      "text/plain": [
       "8"
      ]
     },
     "execution_count": 121,
     "metadata": {},
     "output_type": "execute_result"
    }
   ],
   "source": [
    "trace3 = []\n",
    "for i,x in enumerate(grouped):\n",
    "    if x == ' West King County':trace3.append(Longitude[i])\n",
    "len(trace3)"
   ]
  },
  {
   "cell_type": "code",
   "execution_count": 124,
   "metadata": {},
   "outputs": [
    {
     "data": {
      "text/plain": [
       "7"
      ]
     },
     "execution_count": 124,
     "metadata": {},
     "output_type": "execute_result"
    }
   ],
   "source": [
    "trace4 = []\n",
    "for i,x in enumerate(grouped):\n",
    "    if x == ' East King County':trace4.append(Longitude[i])\n",
    "len(trace4)"
   ]
  },
  {
   "cell_type": "code",
   "execution_count": 125,
   "metadata": {},
   "outputs": [
    {
     "data": {
      "text/plain": [
       "10"
      ]
     },
     "execution_count": 125,
     "metadata": {},
     "output_type": "execute_result"
    }
   ],
   "source": [
    "trace11 = []\n",
    "for i,x in enumerate(grouped):\n",
    "    if x == ' South King County':trace11.append(Latitude[i])\n",
    "len(trace11)"
   ]
  },
  {
   "cell_type": "code",
   "execution_count": 126,
   "metadata": {},
   "outputs": [
    {
     "data": {
      "text/plain": [
       "7"
      ]
     },
     "execution_count": 126,
     "metadata": {},
     "output_type": "execute_result"
    }
   ],
   "source": [
    "trace22 = []\n",
    "for i,x in enumerate(grouped):\n",
    "    if x == ' North King County':trace22.append(Latitude[i])\n",
    "len(trace22)"
   ]
  },
  {
   "cell_type": "code",
   "execution_count": 127,
   "metadata": {},
   "outputs": [
    {
     "data": {
      "text/plain": [
       "8"
      ]
     },
     "execution_count": 127,
     "metadata": {},
     "output_type": "execute_result"
    }
   ],
   "source": [
    "trace33 = []\n",
    "for i,x in enumerate(grouped):\n",
    "    if x == ' West King County':trace33.append(Latitude[i])\n",
    "len(trace33)"
   ]
  },
  {
   "cell_type": "code",
   "execution_count": 128,
   "metadata": {},
   "outputs": [
    {
     "data": {
      "text/plain": [
       "7"
      ]
     },
     "execution_count": 128,
     "metadata": {},
     "output_type": "execute_result"
    }
   ],
   "source": [
    "trace44 = []\n",
    "for i,x in enumerate(grouped):\n",
    "    if x == ' East King County':trace44.append(Latitude[i])\n",
    "len(trace44)"
   ]
  },
  {
   "cell_type": "code",
   "execution_count": 129,
   "metadata": {
    "scrolled": true
   },
   "outputs": [
    {
     "data": {
      "text/plain": [
       "10"
      ]
     },
     "execution_count": 129,
     "metadata": {},
     "output_type": "execute_result"
    }
   ],
   "source": [
    "city1 = []\n",
    "for i,x in enumerate(grouped):\n",
    "    if x == ' South King County':city1.append(city[i])\n",
    "len(city1)"
   ]
  },
  {
   "cell_type": "code",
   "execution_count": 130,
   "metadata": {},
   "outputs": [
    {
     "data": {
      "text/plain": [
       "7"
      ]
     },
     "execution_count": 130,
     "metadata": {},
     "output_type": "execute_result"
    }
   ],
   "source": [
    "city2 = []\n",
    "for i,x in enumerate(grouped):\n",
    "    if x == ' North King County':city2.append(city[i])\n",
    "len(city2)"
   ]
  },
  {
   "cell_type": "code",
   "execution_count": 131,
   "metadata": {},
   "outputs": [
    {
     "data": {
      "text/plain": [
       "8"
      ]
     },
     "execution_count": 131,
     "metadata": {},
     "output_type": "execute_result"
    }
   ],
   "source": [
    "city3 = []\n",
    "for i,x in enumerate(grouped):\n",
    "    if x == ' West King County':city3.append(city[i])\n",
    "len(city3)"
   ]
  },
  {
   "cell_type": "code",
   "execution_count": 132,
   "metadata": {},
   "outputs": [
    {
     "data": {
      "text/plain": [
       "7"
      ]
     },
     "execution_count": 132,
     "metadata": {},
     "output_type": "execute_result"
    }
   ],
   "source": [
    "city4 = []\n",
    "for i,x in enumerate(grouped):\n",
    "    if x == ' East King County':city4.append(city[i])\n",
    "len(city4)"
   ]
  },
  {
   "cell_type": "code",
   "execution_count": 140,
   "metadata": {},
   "outputs": [],
   "source": [
    "import plotly.graph_objects as go\n",
    "import plotly.express as px\n",
    "mapbox_access_token = open(\"mapdata.mapbox_token.txt\").read()\n",
    "\n",
    "fig = go.Figure()\n",
    " \n",
    "fig.add_trace(go.Scattermapbox(\n",
    "    mode=\"markers\",\n",
    "    name= 'North Coast',\n",
    "    textposition=\"bottom center\",\n",
    "    lon =trace2 , lat = trace22,text = city2, \n",
    "    hoverinfo='text',\n",
    "    opacity = .6,\n",
    "    marker=go.scattermapbox.Marker(size=29,color='red')))\n",
    "\n",
    "fig.add_trace(go.Scattermapbox(\n",
    "    mode=\"markers\",\n",
    "    name = 'East Coast',\n",
    "    textposition=\"bottom center\",\n",
    "    lon =trace4 , lat = trace44,text = city4, \n",
    "    hoverinfo='text',\n",
    "    opacity = .6,\n",
    "    marker=go.scattermapbox.Marker(size=29,color='gold')))\n",
    "\n",
    "fig.add_trace(go.Scattermapbox(\n",
    "    mode=\"markers\",\n",
    "    name = 'West Coast',\n",
    "    textposition=\"bottom center\",\n",
    "    lon =trace3 , lat = trace33,text = city3, \n",
    "    hoverinfo='text',\n",
    "    opacity = .6,\n",
    "    marker=go.scattermapbox.Marker(size=29,color='purple')))\n",
    "\n",
    "fig.add_trace(go.Scattermapbox(\n",
    "    mode=\"markers\",\n",
    "    name = 'North Coast',\n",
    "    textposition=\"bottom center\",\n",
    "    lon =trace1 , lat = trace11,text = city1, \n",
    "    hoverinfo='text',\n",
    "    opacity = .6,\n",
    "    marker=go.scattermapbox.Marker(size=29,color='blue')))\n",
    "\n",
    "\n",
    "fig.update_layout(\n",
    "    mapbox_style=\"open-street-map\",\n",
    "     title=dict(\n",
    "       text='<b>King county</b><br><sup>US county in Washington State</sup>',\n",
    "       font=dict(size= 29,color='black')),\n",
    "    height=1000,\n",
    "    legend_title_text='Coast of King County',\n",
    "    hoverlabel=dict(\n",
    "        bgcolor=\"white\",\n",
    "        font_size=16,\n",
    "        font_family=\"Rockwell\"),\n",
    "    showlegend=True,\n",
    "    autosize=True,\n",
    "    mapbox=dict(\n",
    "        accesstoken=mapbox_access_token,\n",
    "        bearing = 0,\n",
    "        center=dict(\n",
    "            lat=47.608013,\n",
    "            lon=-122.335167\n",
    "        ),\n",
    "        pitch=0,\n",
    "        zoom=8\n",
    "    ),\n",
    ")\n",
    "\n",
    "#fig.show()\n",
    "\n",
    "fig.write_html('first_figure.html',auto_open=True)"
   ]
  },
  {
   "cell_type": "code",
   "execution_count": null,
   "metadata": {},
   "outputs": [],
   "source": []
  },
  {
   "cell_type": "code",
   "execution_count": null,
   "metadata": {},
   "outputs": [],
   "source": []
  }
 ],
 "metadata": {
  "kernelspec": {
   "display_name": "Python 3",
   "language": "python",
   "name": "python3"
  },
  "language_info": {
   "codemirror_mode": {
    "name": "ipython",
    "version": 3
   },
   "file_extension": ".py",
   "mimetype": "text/x-python",
   "name": "python",
   "nbconvert_exporter": "python",
   "pygments_lexer": "ipython3",
   "version": "3.8.5"
  }
 },
 "nbformat": 4,
 "nbformat_minor": 4
}
