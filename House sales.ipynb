{
 "cells": [
  {
   "cell_type": "markdown",
   "metadata": {},
   "source": [
    " # Objective"
   ]
  },
  {
   "cell_type": "markdown",
   "metadata": {},
   "source": [
    "__Predict the sale price of the houses as accurately as possible by modeling the dataset with a multivariate linear regression.__"
   ]
  },
  {
   "cell_type": "markdown",
   "metadata": {},
   "source": [
    "# Datasets"
   ]
  },
  {
   "cell_type": "markdown",
   "metadata": {},
   "source": [
    "There will be one dataset used in this project\n",
    "\n",
    "_Kc_House_Data.csv_\n",
    " - _Columns in the Dataset_\n",
    "     - _id_\n",
    "     - _date_\n",
    "     - _price_\n",
    "     - _bedrooms_\n",
    "     - _view_\n",
    "     - _sqft_above_\n",
    "     - _sqft_living_\n",
    "     - _sqft_lot_\n",
    "     - _floors_\n",
    "     - _waterfront_\n",
    "     - _grade_\n",
    "     - _sdft_basement_\n",
    "     - _yr_built_\n",
    "     - _yr_renovated_\n",
    "     - _zipcode_\n",
    "     - _lot_\n",
    "     - _long_\n",
    "     - _sqft_living15_\n",
    "     - _sqft_lat15_"
   ]
  },
  {
   "cell_type": "markdown",
   "metadata": {},
   "source": [
    "# Approaches"
   ]
  },
  {
   "cell_type": "markdown",
   "metadata": {},
   "source": [
    "As you know the objective of this project is to anaylze the dataset and predict the prices of houses as precisely as possible using the dataset.\n",
    "\n",
    "Before we dive into predicitng the prices or even creating a regression model the first must significant thing is to understand the theme of the objective by having foundemental approaches. When it comes to houses or prices of houses location is key to understand what type of house will be expected and the price range. The approaches will dive into why location has an affect of the type of the houses and of course the  priceses, the location of the houses in the dataset will also be analyzed and the potential variables that may be used to predict the prices of the houses will be explored and selected. \n",
    "\n",
    "__This is the blueprint of the approaches:__\n",
    "   - Why Location is Important: Case Studies\n",
    "   - Analyze the Location of Dataset: King County\n",
    "   - Analyze Seattle\n",
    "   - Analyze Variables\n",
    "   - Final Selections of Variables\n",
    "   - Implementing Variables on Linear Analyzes"
   ]
  },
  {
   "cell_type": "markdown",
   "metadata": {},
   "source": [
    "# Why Location is Important (with case studies)"
   ]
  },
  {
   "cell_type": "markdown",
   "metadata": {},
   "source": [
    "The one thing that people forget when picking out houses or evaluating price ranges of houses is location. Location is a crucial thing to consider. Why? Beacuse location creates desirability, desirability directs demand and the higher the demand the higher the real estate prices. However the question is, What makes a location more preferable over another location? What drives desireability in a loction?\n",
    "\n",
    "__These are the main factors that make a location a desirabel place to live in:__\n",
    "  - Quality of Local Schools\n",
    "  - Proximity to Shopping and Entertainment\n",
    "  - Employment opportunities\n",
    "  - Accessibility\n",
    "  - Socio - Economic level\n",
    "  - Environment Centers\n",
    "  - Sport Centers\n",
    "  - Low Crime Rates\n",
    "  - Easy Access to Major Highways"
   ]
  },
  {
   "cell_type": "markdown",
   "metadata": {},
   "source": [
    "### Quality of Local Schools"
   ]
  },
  {
   "cell_type": "markdown",
   "metadata": {},
   "source": [
    "How and why do schools have any correlation to the prices of houses, what is it about school district that makes the real estates raise their prices. school district can make or break a home sale, schools extremely surprising. A strong school district high test scores adds to the value of the neighbourhood in that particular area. School districts in ares with lower test scores might not be as appealing to the eyse of home buyers. Parents and couples who may want to start a familt will be magnetic towards areas with strong school district beacuse they want their children to be able have a good and safe education system, school also are foundations for a safe and community"
   ]
  },
  {
   "cell_type": "markdown",
   "metadata": {},
   "source": [
    "### Proximity to Shopping and Entertainment"
   ]
  },
  {
   "cell_type": "markdown",
   "metadata": {},
   "source": [
    "What really cueses the price premiums of houses close to shopping centers. The obvious explanation is that the fact of being convenience is a major key factor. The store located within a close distance to housues and housing estates saves nerby families and home owners time and money. That would have been spent on gasoline and traveling to groceirs with a higher distance mileage. A typical American goes shoping 1.9 times oer week, therefor if shopping centers where a mile to four miles away from homes it resutls to likely saving 6,000 dollars or so in auto expenxses. Thats why the average residenta property value of neighborhoods with exactly one supermarket is 193,695 dollars. when the average number of stores id five or more, values are almost twice as great at a whopping 362,160 dollars. "
   ]
  },
  {
   "cell_type": "markdown",
   "metadata": {},
   "source": []
  },
  {
   "cell_type": "code",
   "execution_count": 298,
   "metadata": {},
   "outputs": [],
   "source": [
    "import pandas as pd\n",
    "import collections\n",
    "from matplotlib import pyplot as plt"
   ]
  },
  {
   "cell_type": "code",
   "execution_count": 299,
   "metadata": {
    "scrolled": true
   },
   "outputs": [],
   "source": [
    "# The data frame is called house_info\n",
    "raw_info = pd.read_csv(\"kc_house_data.csv\",error_bad_lines=False)"
   ]
  },
  {
   "cell_type": "code",
   "execution_count": 300,
   "metadata": {},
   "outputs": [
    {
     "data": {
      "text/html": [
       "<div>\n",
       "<style scoped>\n",
       "    .dataframe tbody tr th:only-of-type {\n",
       "        vertical-align: middle;\n",
       "    }\n",
       "\n",
       "    .dataframe tbody tr th {\n",
       "        vertical-align: top;\n",
       "    }\n",
       "\n",
       "    .dataframe thead th {\n",
       "        text-align: right;\n",
       "    }\n",
       "</style>\n",
       "<table border=\"1\" class=\"dataframe\">\n",
       "  <thead>\n",
       "    <tr style=\"text-align: right;\">\n",
       "      <th></th>\n",
       "      <th>id</th>\n",
       "      <th>date</th>\n",
       "      <th>price</th>\n",
       "      <th>bedrooms</th>\n",
       "      <th>bathrooms</th>\n",
       "      <th>sqft_living</th>\n",
       "      <th>sqft_lot</th>\n",
       "      <th>floors</th>\n",
       "      <th>waterfront</th>\n",
       "      <th>view</th>\n",
       "      <th>...</th>\n",
       "      <th>grade</th>\n",
       "      <th>sqft_above</th>\n",
       "      <th>sqft_basement</th>\n",
       "      <th>yr_built</th>\n",
       "      <th>yr_renovated</th>\n",
       "      <th>zipcode</th>\n",
       "      <th>lat</th>\n",
       "      <th>long</th>\n",
       "      <th>sqft_living15</th>\n",
       "      <th>sqft_lot15</th>\n",
       "    </tr>\n",
       "  </thead>\n",
       "  <tbody>\n",
       "    <tr>\n",
       "      <th>0</th>\n",
       "      <td>7129300520</td>\n",
       "      <td>10/13/2014</td>\n",
       "      <td>221900.0</td>\n",
       "      <td>3</td>\n",
       "      <td>1.00</td>\n",
       "      <td>1180</td>\n",
       "      <td>5650</td>\n",
       "      <td>1.0</td>\n",
       "      <td>NaN</td>\n",
       "      <td>0.0</td>\n",
       "      <td>...</td>\n",
       "      <td>7</td>\n",
       "      <td>1180</td>\n",
       "      <td>0.0</td>\n",
       "      <td>1955</td>\n",
       "      <td>0.0</td>\n",
       "      <td>98178</td>\n",
       "      <td>47.5112</td>\n",
       "      <td>-122.257</td>\n",
       "      <td>1340</td>\n",
       "      <td>5650</td>\n",
       "    </tr>\n",
       "    <tr>\n",
       "      <th>1</th>\n",
       "      <td>6414100192</td>\n",
       "      <td>12/9/2014</td>\n",
       "      <td>538000.0</td>\n",
       "      <td>3</td>\n",
       "      <td>2.25</td>\n",
       "      <td>2570</td>\n",
       "      <td>7242</td>\n",
       "      <td>2.0</td>\n",
       "      <td>0.0</td>\n",
       "      <td>0.0</td>\n",
       "      <td>...</td>\n",
       "      <td>7</td>\n",
       "      <td>2170</td>\n",
       "      <td>400.0</td>\n",
       "      <td>1951</td>\n",
       "      <td>1991.0</td>\n",
       "      <td>98125</td>\n",
       "      <td>47.7210</td>\n",
       "      <td>-122.319</td>\n",
       "      <td>1690</td>\n",
       "      <td>7639</td>\n",
       "    </tr>\n",
       "    <tr>\n",
       "      <th>2</th>\n",
       "      <td>5631500400</td>\n",
       "      <td>2/25/2015</td>\n",
       "      <td>180000.0</td>\n",
       "      <td>2</td>\n",
       "      <td>1.00</td>\n",
       "      <td>770</td>\n",
       "      <td>10000</td>\n",
       "      <td>1.0</td>\n",
       "      <td>0.0</td>\n",
       "      <td>0.0</td>\n",
       "      <td>...</td>\n",
       "      <td>6</td>\n",
       "      <td>770</td>\n",
       "      <td>0.0</td>\n",
       "      <td>1933</td>\n",
       "      <td>NaN</td>\n",
       "      <td>98028</td>\n",
       "      <td>47.7379</td>\n",
       "      <td>-122.233</td>\n",
       "      <td>2720</td>\n",
       "      <td>8062</td>\n",
       "    </tr>\n",
       "    <tr>\n",
       "      <th>3</th>\n",
       "      <td>2487200875</td>\n",
       "      <td>12/9/2014</td>\n",
       "      <td>604000.0</td>\n",
       "      <td>4</td>\n",
       "      <td>3.00</td>\n",
       "      <td>1960</td>\n",
       "      <td>5000</td>\n",
       "      <td>1.0</td>\n",
       "      <td>0.0</td>\n",
       "      <td>0.0</td>\n",
       "      <td>...</td>\n",
       "      <td>7</td>\n",
       "      <td>1050</td>\n",
       "      <td>910.0</td>\n",
       "      <td>1965</td>\n",
       "      <td>0.0</td>\n",
       "      <td>98136</td>\n",
       "      <td>47.5208</td>\n",
       "      <td>-122.393</td>\n",
       "      <td>1360</td>\n",
       "      <td>5000</td>\n",
       "    </tr>\n",
       "    <tr>\n",
       "      <th>4</th>\n",
       "      <td>1954400510</td>\n",
       "      <td>2/18/2015</td>\n",
       "      <td>510000.0</td>\n",
       "      <td>3</td>\n",
       "      <td>2.00</td>\n",
       "      <td>1680</td>\n",
       "      <td>8080</td>\n",
       "      <td>1.0</td>\n",
       "      <td>0.0</td>\n",
       "      <td>0.0</td>\n",
       "      <td>...</td>\n",
       "      <td>8</td>\n",
       "      <td>1680</td>\n",
       "      <td>0.0</td>\n",
       "      <td>1987</td>\n",
       "      <td>0.0</td>\n",
       "      <td>98074</td>\n",
       "      <td>47.6168</td>\n",
       "      <td>-122.045</td>\n",
       "      <td>1800</td>\n",
       "      <td>7503</td>\n",
       "    </tr>\n",
       "    <tr>\n",
       "      <th>...</th>\n",
       "      <td>...</td>\n",
       "      <td>...</td>\n",
       "      <td>...</td>\n",
       "      <td>...</td>\n",
       "      <td>...</td>\n",
       "      <td>...</td>\n",
       "      <td>...</td>\n",
       "      <td>...</td>\n",
       "      <td>...</td>\n",
       "      <td>...</td>\n",
       "      <td>...</td>\n",
       "      <td>...</td>\n",
       "      <td>...</td>\n",
       "      <td>...</td>\n",
       "      <td>...</td>\n",
       "      <td>...</td>\n",
       "      <td>...</td>\n",
       "      <td>...</td>\n",
       "      <td>...</td>\n",
       "      <td>...</td>\n",
       "      <td>...</td>\n",
       "    </tr>\n",
       "    <tr>\n",
       "      <th>21592</th>\n",
       "      <td>263000018</td>\n",
       "      <td>5/21/2014</td>\n",
       "      <td>360000.0</td>\n",
       "      <td>3</td>\n",
       "      <td>2.50</td>\n",
       "      <td>1530</td>\n",
       "      <td>1131</td>\n",
       "      <td>3.0</td>\n",
       "      <td>0.0</td>\n",
       "      <td>0.0</td>\n",
       "      <td>...</td>\n",
       "      <td>8</td>\n",
       "      <td>1530</td>\n",
       "      <td>0.0</td>\n",
       "      <td>2009</td>\n",
       "      <td>0.0</td>\n",
       "      <td>98103</td>\n",
       "      <td>47.6993</td>\n",
       "      <td>-122.346</td>\n",
       "      <td>1530</td>\n",
       "      <td>1509</td>\n",
       "    </tr>\n",
       "    <tr>\n",
       "      <th>21593</th>\n",
       "      <td>6600060120</td>\n",
       "      <td>2/23/2015</td>\n",
       "      <td>400000.0</td>\n",
       "      <td>4</td>\n",
       "      <td>2.50</td>\n",
       "      <td>2310</td>\n",
       "      <td>5813</td>\n",
       "      <td>2.0</td>\n",
       "      <td>0.0</td>\n",
       "      <td>0.0</td>\n",
       "      <td>...</td>\n",
       "      <td>8</td>\n",
       "      <td>2310</td>\n",
       "      <td>0.0</td>\n",
       "      <td>2014</td>\n",
       "      <td>0.0</td>\n",
       "      <td>98146</td>\n",
       "      <td>47.5107</td>\n",
       "      <td>-122.362</td>\n",
       "      <td>1830</td>\n",
       "      <td>7200</td>\n",
       "    </tr>\n",
       "    <tr>\n",
       "      <th>21594</th>\n",
       "      <td>1523300141</td>\n",
       "      <td>6/23/2014</td>\n",
       "      <td>402101.0</td>\n",
       "      <td>2</td>\n",
       "      <td>0.75</td>\n",
       "      <td>1020</td>\n",
       "      <td>1350</td>\n",
       "      <td>2.0</td>\n",
       "      <td>0.0</td>\n",
       "      <td>0.0</td>\n",
       "      <td>...</td>\n",
       "      <td>7</td>\n",
       "      <td>1020</td>\n",
       "      <td>0.0</td>\n",
       "      <td>2009</td>\n",
       "      <td>0.0</td>\n",
       "      <td>98144</td>\n",
       "      <td>47.5944</td>\n",
       "      <td>-122.299</td>\n",
       "      <td>1020</td>\n",
       "      <td>2007</td>\n",
       "    </tr>\n",
       "    <tr>\n",
       "      <th>21595</th>\n",
       "      <td>291310100</td>\n",
       "      <td>1/16/2015</td>\n",
       "      <td>400000.0</td>\n",
       "      <td>3</td>\n",
       "      <td>2.50</td>\n",
       "      <td>1600</td>\n",
       "      <td>2388</td>\n",
       "      <td>2.0</td>\n",
       "      <td>NaN</td>\n",
       "      <td>0.0</td>\n",
       "      <td>...</td>\n",
       "      <td>8</td>\n",
       "      <td>1600</td>\n",
       "      <td>0.0</td>\n",
       "      <td>2004</td>\n",
       "      <td>0.0</td>\n",
       "      <td>98027</td>\n",
       "      <td>47.5345</td>\n",
       "      <td>-122.069</td>\n",
       "      <td>1410</td>\n",
       "      <td>1287</td>\n",
       "    </tr>\n",
       "    <tr>\n",
       "      <th>21596</th>\n",
       "      <td>1523300157</td>\n",
       "      <td>10/15/2014</td>\n",
       "      <td>325000.0</td>\n",
       "      <td>2</td>\n",
       "      <td>0.75</td>\n",
       "      <td>1020</td>\n",
       "      <td>1076</td>\n",
       "      <td>2.0</td>\n",
       "      <td>0.0</td>\n",
       "      <td>0.0</td>\n",
       "      <td>...</td>\n",
       "      <td>7</td>\n",
       "      <td>1020</td>\n",
       "      <td>0.0</td>\n",
       "      <td>2008</td>\n",
       "      <td>0.0</td>\n",
       "      <td>98144</td>\n",
       "      <td>47.5941</td>\n",
       "      <td>-122.299</td>\n",
       "      <td>1020</td>\n",
       "      <td>1357</td>\n",
       "    </tr>\n",
       "  </tbody>\n",
       "</table>\n",
       "<p>21597 rows × 21 columns</p>\n",
       "</div>"
      ],
      "text/plain": [
       "               id        date     price  bedrooms  bathrooms  sqft_living  \\\n",
       "0      7129300520  10/13/2014  221900.0         3       1.00         1180   \n",
       "1      6414100192   12/9/2014  538000.0         3       2.25         2570   \n",
       "2      5631500400   2/25/2015  180000.0         2       1.00          770   \n",
       "3      2487200875   12/9/2014  604000.0         4       3.00         1960   \n",
       "4      1954400510   2/18/2015  510000.0         3       2.00         1680   \n",
       "...           ...         ...       ...       ...        ...          ...   \n",
       "21592   263000018   5/21/2014  360000.0         3       2.50         1530   \n",
       "21593  6600060120   2/23/2015  400000.0         4       2.50         2310   \n",
       "21594  1523300141   6/23/2014  402101.0         2       0.75         1020   \n",
       "21595   291310100   1/16/2015  400000.0         3       2.50         1600   \n",
       "21596  1523300157  10/15/2014  325000.0         2       0.75         1020   \n",
       "\n",
       "       sqft_lot  floors  waterfront  view  ...  grade  sqft_above  \\\n",
       "0          5650     1.0         NaN   0.0  ...      7        1180   \n",
       "1          7242     2.0         0.0   0.0  ...      7        2170   \n",
       "2         10000     1.0         0.0   0.0  ...      6         770   \n",
       "3          5000     1.0         0.0   0.0  ...      7        1050   \n",
       "4          8080     1.0         0.0   0.0  ...      8        1680   \n",
       "...         ...     ...         ...   ...  ...    ...         ...   \n",
       "21592      1131     3.0         0.0   0.0  ...      8        1530   \n",
       "21593      5813     2.0         0.0   0.0  ...      8        2310   \n",
       "21594      1350     2.0         0.0   0.0  ...      7        1020   \n",
       "21595      2388     2.0         NaN   0.0  ...      8        1600   \n",
       "21596      1076     2.0         0.0   0.0  ...      7        1020   \n",
       "\n",
       "       sqft_basement yr_built  yr_renovated  zipcode      lat     long  \\\n",
       "0                0.0     1955           0.0    98178  47.5112 -122.257   \n",
       "1              400.0     1951        1991.0    98125  47.7210 -122.319   \n",
       "2                0.0     1933           NaN    98028  47.7379 -122.233   \n",
       "3              910.0     1965           0.0    98136  47.5208 -122.393   \n",
       "4                0.0     1987           0.0    98074  47.6168 -122.045   \n",
       "...              ...      ...           ...      ...      ...      ...   \n",
       "21592            0.0     2009           0.0    98103  47.6993 -122.346   \n",
       "21593            0.0     2014           0.0    98146  47.5107 -122.362   \n",
       "21594            0.0     2009           0.0    98144  47.5944 -122.299   \n",
       "21595            0.0     2004           0.0    98027  47.5345 -122.069   \n",
       "21596            0.0     2008           0.0    98144  47.5941 -122.299   \n",
       "\n",
       "       sqft_living15  sqft_lot15  \n",
       "0               1340        5650  \n",
       "1               1690        7639  \n",
       "2               2720        8062  \n",
       "3               1360        5000  \n",
       "4               1800        7503  \n",
       "...              ...         ...  \n",
       "21592           1530        1509  \n",
       "21593           1830        7200  \n",
       "21594           1020        2007  \n",
       "21595           1410        1287  \n",
       "21596           1020        1357  \n",
       "\n",
       "[21597 rows x 21 columns]"
      ]
     },
     "execution_count": 300,
     "metadata": {},
     "output_type": "execute_result"
    }
   ],
   "source": [
    "raw_info"
   ]
  },
  {
   "cell_type": "code",
   "execution_count": 301,
   "metadata": {},
   "outputs": [],
   "source": [
    "house_info = pd.DataFrame({'Bedrooms':raw_info.bedrooms, 'Bathrooms':raw_info.bathrooms, 'Floors':raw_info.floors, \n",
    "                           'Year Built':raw_info.yr_built, 'Year Renoveted':raw_info.yr_renovated,\n",
    "                           'Size of Basement':raw_info.sqft_basement,'Condition':raw_info.condition,\n",
    "                          'Size of Above':raw_info.sqft_above,'Location':raw_info.zipcode,\n",
    "                          'Price':raw_info.price})"
   ]
  },
  {
   "cell_type": "code",
   "execution_count": 302,
   "metadata": {},
   "outputs": [
    {
     "data": {
      "text/html": [
       "<div>\n",
       "<style scoped>\n",
       "    .dataframe tbody tr th:only-of-type {\n",
       "        vertical-align: middle;\n",
       "    }\n",
       "\n",
       "    .dataframe tbody tr th {\n",
       "        vertical-align: top;\n",
       "    }\n",
       "\n",
       "    .dataframe thead th {\n",
       "        text-align: right;\n",
       "    }\n",
       "</style>\n",
       "<table border=\"1\" class=\"dataframe\">\n",
       "  <thead>\n",
       "    <tr style=\"text-align: right;\">\n",
       "      <th></th>\n",
       "      <th>Bedrooms</th>\n",
       "      <th>Bathrooms</th>\n",
       "      <th>Floors</th>\n",
       "      <th>Year Built</th>\n",
       "      <th>Year Renoveted</th>\n",
       "      <th>Size of Basement</th>\n",
       "      <th>Condition</th>\n",
       "      <th>Size of Above</th>\n",
       "      <th>Location</th>\n",
       "      <th>Price</th>\n",
       "    </tr>\n",
       "  </thead>\n",
       "  <tbody>\n",
       "    <tr>\n",
       "      <th>0</th>\n",
       "      <td>3</td>\n",
       "      <td>1.00</td>\n",
       "      <td>1.0</td>\n",
       "      <td>1955</td>\n",
       "      <td>0.0</td>\n",
       "      <td>0.0</td>\n",
       "      <td>3</td>\n",
       "      <td>1180</td>\n",
       "      <td>98178</td>\n",
       "      <td>221900.0</td>\n",
       "    </tr>\n",
       "    <tr>\n",
       "      <th>1</th>\n",
       "      <td>3</td>\n",
       "      <td>2.25</td>\n",
       "      <td>2.0</td>\n",
       "      <td>1951</td>\n",
       "      <td>1991.0</td>\n",
       "      <td>400.0</td>\n",
       "      <td>3</td>\n",
       "      <td>2170</td>\n",
       "      <td>98125</td>\n",
       "      <td>538000.0</td>\n",
       "    </tr>\n",
       "    <tr>\n",
       "      <th>2</th>\n",
       "      <td>2</td>\n",
       "      <td>1.00</td>\n",
       "      <td>1.0</td>\n",
       "      <td>1933</td>\n",
       "      <td>NaN</td>\n",
       "      <td>0.0</td>\n",
       "      <td>3</td>\n",
       "      <td>770</td>\n",
       "      <td>98028</td>\n",
       "      <td>180000.0</td>\n",
       "    </tr>\n",
       "    <tr>\n",
       "      <th>3</th>\n",
       "      <td>4</td>\n",
       "      <td>3.00</td>\n",
       "      <td>1.0</td>\n",
       "      <td>1965</td>\n",
       "      <td>0.0</td>\n",
       "      <td>910.0</td>\n",
       "      <td>5</td>\n",
       "      <td>1050</td>\n",
       "      <td>98136</td>\n",
       "      <td>604000.0</td>\n",
       "    </tr>\n",
       "    <tr>\n",
       "      <th>4</th>\n",
       "      <td>3</td>\n",
       "      <td>2.00</td>\n",
       "      <td>1.0</td>\n",
       "      <td>1987</td>\n",
       "      <td>0.0</td>\n",
       "      <td>0.0</td>\n",
       "      <td>3</td>\n",
       "      <td>1680</td>\n",
       "      <td>98074</td>\n",
       "      <td>510000.0</td>\n",
       "    </tr>\n",
       "    <tr>\n",
       "      <th>...</th>\n",
       "      <td>...</td>\n",
       "      <td>...</td>\n",
       "      <td>...</td>\n",
       "      <td>...</td>\n",
       "      <td>...</td>\n",
       "      <td>...</td>\n",
       "      <td>...</td>\n",
       "      <td>...</td>\n",
       "      <td>...</td>\n",
       "      <td>...</td>\n",
       "    </tr>\n",
       "    <tr>\n",
       "      <th>21592</th>\n",
       "      <td>3</td>\n",
       "      <td>2.50</td>\n",
       "      <td>3.0</td>\n",
       "      <td>2009</td>\n",
       "      <td>0.0</td>\n",
       "      <td>0.0</td>\n",
       "      <td>3</td>\n",
       "      <td>1530</td>\n",
       "      <td>98103</td>\n",
       "      <td>360000.0</td>\n",
       "    </tr>\n",
       "    <tr>\n",
       "      <th>21593</th>\n",
       "      <td>4</td>\n",
       "      <td>2.50</td>\n",
       "      <td>2.0</td>\n",
       "      <td>2014</td>\n",
       "      <td>0.0</td>\n",
       "      <td>0.0</td>\n",
       "      <td>3</td>\n",
       "      <td>2310</td>\n",
       "      <td>98146</td>\n",
       "      <td>400000.0</td>\n",
       "    </tr>\n",
       "    <tr>\n",
       "      <th>21594</th>\n",
       "      <td>2</td>\n",
       "      <td>0.75</td>\n",
       "      <td>2.0</td>\n",
       "      <td>2009</td>\n",
       "      <td>0.0</td>\n",
       "      <td>0.0</td>\n",
       "      <td>3</td>\n",
       "      <td>1020</td>\n",
       "      <td>98144</td>\n",
       "      <td>402101.0</td>\n",
       "    </tr>\n",
       "    <tr>\n",
       "      <th>21595</th>\n",
       "      <td>3</td>\n",
       "      <td>2.50</td>\n",
       "      <td>2.0</td>\n",
       "      <td>2004</td>\n",
       "      <td>0.0</td>\n",
       "      <td>0.0</td>\n",
       "      <td>3</td>\n",
       "      <td>1600</td>\n",
       "      <td>98027</td>\n",
       "      <td>400000.0</td>\n",
       "    </tr>\n",
       "    <tr>\n",
       "      <th>21596</th>\n",
       "      <td>2</td>\n",
       "      <td>0.75</td>\n",
       "      <td>2.0</td>\n",
       "      <td>2008</td>\n",
       "      <td>0.0</td>\n",
       "      <td>0.0</td>\n",
       "      <td>3</td>\n",
       "      <td>1020</td>\n",
       "      <td>98144</td>\n",
       "      <td>325000.0</td>\n",
       "    </tr>\n",
       "  </tbody>\n",
       "</table>\n",
       "<p>21597 rows × 10 columns</p>\n",
       "</div>"
      ],
      "text/plain": [
       "       Bedrooms  Bathrooms  Floors  Year Built  Year Renoveted  \\\n",
       "0             3       1.00     1.0        1955             0.0   \n",
       "1             3       2.25     2.0        1951          1991.0   \n",
       "2             2       1.00     1.0        1933             NaN   \n",
       "3             4       3.00     1.0        1965             0.0   \n",
       "4             3       2.00     1.0        1987             0.0   \n",
       "...         ...        ...     ...         ...             ...   \n",
       "21592         3       2.50     3.0        2009             0.0   \n",
       "21593         4       2.50     2.0        2014             0.0   \n",
       "21594         2       0.75     2.0        2009             0.0   \n",
       "21595         3       2.50     2.0        2004             0.0   \n",
       "21596         2       0.75     2.0        2008             0.0   \n",
       "\n",
       "      Size of Basement  Condition  Size of Above  Location     Price  \n",
       "0                  0.0          3           1180     98178  221900.0  \n",
       "1                400.0          3           2170     98125  538000.0  \n",
       "2                  0.0          3            770     98028  180000.0  \n",
       "3                910.0          5           1050     98136  604000.0  \n",
       "4                  0.0          3           1680     98074  510000.0  \n",
       "...                ...        ...            ...       ...       ...  \n",
       "21592              0.0          3           1530     98103  360000.0  \n",
       "21593              0.0          3           2310     98146  400000.0  \n",
       "21594              0.0          3           1020     98144  402101.0  \n",
       "21595              0.0          3           1600     98027  400000.0  \n",
       "21596              0.0          3           1020     98144  325000.0  \n",
       "\n",
       "[21597 rows x 10 columns]"
      ]
     },
     "execution_count": 302,
     "metadata": {},
     "output_type": "execute_result"
    }
   ],
   "source": [
    "house_info"
   ]
  },
  {
   "cell_type": "code",
   "execution_count": 303,
   "metadata": {},
   "outputs": [
    {
     "data": {
      "text/plain": [
       "3     9824\n",
       "4     6882\n",
       "2     2760\n",
       "5     1601\n",
       "6      272\n",
       "1      196\n",
       "7       38\n",
       "8       13\n",
       "9        6\n",
       "10       3\n",
       "33       1\n",
       "11       1\n",
       "Name: Bedrooms, dtype: int64"
      ]
     },
     "execution_count": 303,
     "metadata": {},
     "output_type": "execute_result"
    }
   ],
   "source": [
    "house_info[\"Bedrooms\"].value_counts()"
   ]
  },
  {
   "cell_type": "code",
   "execution_count": 304,
   "metadata": {},
   "outputs": [
    {
     "data": {
      "text/plain": [
       "min      80000.0\n",
       "max    1250000.0\n",
       "Name: Price, dtype: float64"
      ]
     },
     "execution_count": 304,
     "metadata": {},
     "output_type": "execute_result"
    }
   ],
   "source": [
    "house_info.loc[house_info[\"Bedrooms\"]==1, \"Price\"].agg(('min','max'))"
   ]
  },
  {
   "cell_type": "code",
   "execution_count": 305,
   "metadata": {},
   "outputs": [
    {
     "data": {
      "text/plain": [
       "min      78000.0\n",
       "max    3280000.0\n",
       "Name: Price, dtype: float64"
      ]
     },
     "execution_count": 305,
     "metadata": {},
     "output_type": "execute_result"
    }
   ],
   "source": [
    "house_info.loc[house_info[\"Bedrooms\"]==2, \"Price\"].agg(('min','max'))"
   ]
  },
  {
   "cell_type": "code",
   "execution_count": 306,
   "metadata": {},
   "outputs": [
    {
     "data": {
      "text/plain": [
       "min      82000.0\n",
       "max    3800000.0\n",
       "Name: Price, dtype: float64"
      ]
     },
     "execution_count": 306,
     "metadata": {},
     "output_type": "execute_result"
    }
   ],
   "source": [
    "house_info.loc[house_info[\"Bedrooms\"]==3, \"Price\"].agg(('min','max'))"
   ]
  },
  {
   "cell_type": "code",
   "execution_count": 307,
   "metadata": {},
   "outputs": [
    {
     "data": {
      "text/plain": [
       "min     100000.0\n",
       "max    4490000.0\n",
       "Name: Price, dtype: float64"
      ]
     },
     "execution_count": 307,
     "metadata": {},
     "output_type": "execute_result"
    }
   ],
   "source": [
    "house_info.loc[house_info[\"Bedrooms\"]==4, \"Price\"].agg(('min',max))"
   ]
  },
  {
   "cell_type": "code",
   "execution_count": 308,
   "metadata": {},
   "outputs": [
    {
     "data": {
      "text/plain": [
       "min     133000.0\n",
       "max    7060000.0\n",
       "Name: Price, dtype: float64"
      ]
     },
     "execution_count": 308,
     "metadata": {},
     "output_type": "execute_result"
    }
   ],
   "source": [
    "house_info.loc[house_info[\"Bedrooms\"]==5, \"Price\"].agg((min,max))"
   ]
  },
  {
   "cell_type": "code",
   "execution_count": 309,
   "metadata": {},
   "outputs": [
    {
     "data": {
      "text/plain": [
       "min     175000.0\n",
       "max    7700000.0\n",
       "Name: Price, dtype: float64"
      ]
     },
     "execution_count": 309,
     "metadata": {},
     "output_type": "execute_result"
    }
   ],
   "source": [
    "house_info.loc[house_info[\"Bedrooms\"]==6, \"Price\"].agg((min,max))"
   ]
  },
  {
   "cell_type": "code",
   "execution_count": 310,
   "metadata": {},
   "outputs": [
    {
     "data": {
      "text/plain": [
       "min     280000.0\n",
       "max    3200000.0\n",
       "Name: Price, dtype: float64"
      ]
     },
     "execution_count": 310,
     "metadata": {},
     "output_type": "execute_result"
    }
   ],
   "source": [
    "house_info.loc[house_info[\"Bedrooms\"]==7, \"Price\"].agg((min,max))"
   ]
  },
  {
   "cell_type": "code",
   "execution_count": 311,
   "metadata": {},
   "outputs": [
    {
     "data": {
      "text/plain": [
       "min     340000.0\n",
       "max    3300000.0\n",
       "Name: Price, dtype: float64"
      ]
     },
     "execution_count": 311,
     "metadata": {},
     "output_type": "execute_result"
    }
   ],
   "source": [
    "house_info.loc[house_info[\"Bedrooms\"]==8, \"Price\"].agg((min,max))"
   ]
  },
  {
   "cell_type": "code",
   "execution_count": 312,
   "metadata": {},
   "outputs": [
    {
     "data": {
      "text/plain": [
       "min     450000.0\n",
       "max    1400000.0\n",
       "Name: Price, dtype: float64"
      ]
     },
     "execution_count": 312,
     "metadata": {},
     "output_type": "execute_result"
    }
   ],
   "source": [
    "house_info.loc[house_info[\"Bedrooms\"]==9, \"Price\"].agg((min,max))"
   ]
  },
  {
   "cell_type": "code",
   "execution_count": 313,
   "metadata": {},
   "outputs": [
    {
     "data": {
      "text/plain": [
       "min     650000.0\n",
       "max    1150000.0\n",
       "Name: Price, dtype: float64"
      ]
     },
     "execution_count": 313,
     "metadata": {},
     "output_type": "execute_result"
    }
   ],
   "source": [
    "house_info.loc[house_info[\"Bedrooms\"]==10, \"Price\"].agg((min,max))"
   ]
  },
  {
   "cell_type": "code",
   "execution_count": 314,
   "metadata": {
    "scrolled": true
   },
   "outputs": [
    {
     "data": {
      "text/plain": [
       "8748    520000.0\n",
       "Name: Price, dtype: float64"
      ]
     },
     "execution_count": 314,
     "metadata": {},
     "output_type": "execute_result"
    }
   ],
   "source": [
    "house_info.loc[house_info[\"Bedrooms\"]==11, \"Price\"]"
   ]
  },
  {
   "cell_type": "code",
   "execution_count": 315,
   "metadata": {},
   "outputs": [
    {
     "data": {
      "text/plain": [
       "15856    640000.0\n",
       "Name: Price, dtype: float64"
      ]
     },
     "execution_count": 315,
     "metadata": {},
     "output_type": "execute_result"
    }
   ],
   "source": [
    "house_info.loc[house_info[\"Bedrooms\"]==33, \"Price\"]"
   ]
  },
  {
   "cell_type": "code",
   "execution_count": 316,
   "metadata": {},
   "outputs": [
    {
     "data": {
      "text/plain": [
       "2.50    5377\n",
       "1.00    3851\n",
       "1.75    3048\n",
       "2.25    2047\n",
       "2.00    1930\n",
       "1.50    1445\n",
       "2.75    1185\n",
       "3.00     753\n",
       "3.50     731\n",
       "3.25     589\n",
       "3.75     155\n",
       "4.00     136\n",
       "4.50     100\n",
       "4.25      79\n",
       "0.75      71\n",
       "4.75      23\n",
       "5.00      21\n",
       "5.25      13\n",
       "5.50      10\n",
       "1.25       9\n",
       "6.00       6\n",
       "5.75       4\n",
       "0.50       4\n",
       "6.25       2\n",
       "8.00       2\n",
       "6.75       2\n",
       "6.50       2\n",
       "7.75       1\n",
       "7.50       1\n",
       "Name: Bathrooms, dtype: int64"
      ]
     },
     "execution_count": 316,
     "metadata": {},
     "output_type": "execute_result"
    }
   ],
   "source": [
    "house_info[\"Bathrooms\"].value_counts()"
   ]
  },
  {
   "cell_type": "code",
   "execution_count": 317,
   "metadata": {},
   "outputs": [
    {
     "data": {
      "text/plain": [
       "min     80000.0\n",
       "max    785000.0\n",
       "Name: Price, dtype: float64"
      ]
     },
     "execution_count": 317,
     "metadata": {},
     "output_type": "execute_result"
    }
   ],
   "source": [
    "house_info.loc[house_info[\"Bathrooms\"]==.75, \"Price\"].agg((min,max))"
   ]
  },
  {
   "cell_type": "code",
   "execution_count": 318,
   "metadata": {},
   "outputs": [
    {
     "data": {
      "text/plain": [
       "min    109000.0\n",
       "max    312500.0\n",
       "Name: Price, dtype: float64"
      ]
     },
     "execution_count": 318,
     "metadata": {},
     "output_type": "execute_result"
    }
   ],
   "source": [
    "house_info.loc[house_info[\"Bathrooms\"]==.50, \"Price\"].agg((min,max))"
   ]
  },
  {
   "cell_type": "code",
   "execution_count": 319,
   "metadata": {},
   "outputs": [
    {
     "data": {
      "text/plain": [
       "min      78000.0\n",
       "max    1300000.0\n",
       "Name: Price, dtype: float64"
      ]
     },
     "execution_count": 319,
     "metadata": {},
     "output_type": "execute_result"
    }
   ],
   "source": [
    "house_info.loc[house_info[\"Bathrooms\"]==1, \"Price\"].agg((min,max))"
   ]
  },
  {
   "cell_type": "code",
   "execution_count": 320,
   "metadata": {},
   "outputs": [
    {
     "data": {
      "text/plain": [
       "min     275000.0\n",
       "max    1390000.0\n",
       "Name: Price, dtype: float64"
      ]
     },
     "execution_count": 320,
     "metadata": {},
     "output_type": "execute_result"
    }
   ],
   "source": [
    "house_info.loc[house_info[\"Bathrooms\"]==1.25, \"Price\"].agg((min,max))"
   ]
  },
  {
   "cell_type": "code",
   "execution_count": 321,
   "metadata": {},
   "outputs": [
    {
     "data": {
      "text/plain": [
       "min     107000.0\n",
       "max    1500000.0\n",
       "Name: Price, dtype: float64"
      ]
     },
     "execution_count": 321,
     "metadata": {},
     "output_type": "execute_result"
    }
   ],
   "source": [
    "house_info.loc[house_info[\"Bathrooms\"]==1.50, \"Price\"].agg((min,max))"
   ]
  },
  {
   "cell_type": "code",
   "execution_count": 322,
   "metadata": {},
   "outputs": [
    {
     "data": {
      "text/plain": [
       "min     115000.0\n",
       "max    3280000.0\n",
       "Name: Price, dtype: float64"
      ]
     },
     "execution_count": 322,
     "metadata": {},
     "output_type": "execute_result"
    }
   ],
   "source": [
    "house_info.loc[house_info[\"Bathrooms\"]==1.75, \"Price\"].agg((min,max))"
   ]
  },
  {
   "cell_type": "code",
   "execution_count": 323,
   "metadata": {},
   "outputs": [
    {
     "data": {
      "text/plain": [
       "min     115000.0\n",
       "max    2200000.0\n",
       "Name: Price, dtype: float64"
      ]
     },
     "execution_count": 323,
     "metadata": {},
     "output_type": "execute_result"
    }
   ],
   "source": [
    "house_info.loc[house_info[\"Bathrooms\"]==2.00, \"Price\"].agg((min,max))"
   ]
  },
  {
   "cell_type": "code",
   "execution_count": 324,
   "metadata": {},
   "outputs": [
    {
     "data": {
      "text/plain": [
       "min     153503.0\n",
       "max    3070000.0\n",
       "Name: Price, dtype: float64"
      ]
     },
     "execution_count": 324,
     "metadata": {},
     "output_type": "execute_result"
    }
   ],
   "source": [
    "house_info.loc[house_info[\"Bathrooms\"]==2.50, \"Price\"].agg((min,max))"
   ]
  },
  {
   "cell_type": "code",
   "execution_count": 325,
   "metadata": {},
   "outputs": [
    {
     "data": {
      "text/plain": [
       "min     183750.0\n",
       "max    2700000.0\n",
       "Name: Price, dtype: float64"
      ]
     },
     "execution_count": 325,
     "metadata": {},
     "output_type": "execute_result"
    }
   ],
   "source": [
    "house_info.loc[house_info[\"Bathrooms\"]==2.75, \"Price\"].agg((min,max))"
   ]
  },
  {
   "cell_type": "code",
   "execution_count": 326,
   "metadata": {},
   "outputs": [
    {
     "data": {
      "text/plain": [
       "min     154000.0\n",
       "max    4490000.0\n",
       "Name: Price, dtype: float64"
      ]
     },
     "execution_count": 326,
     "metadata": {},
     "output_type": "execute_result"
    }
   ],
   "source": [
    "house_info.loc[house_info[\"Bathrooms\"]==3.00, \"Price\"].agg((min,max))"
   ]
  },
  {
   "cell_type": "code",
   "execution_count": 327,
   "metadata": {},
   "outputs": [
    {
     "data": {
      "text/plain": [
       "min     216650.0\n",
       "max    3710000.0\n",
       "Name: Price, dtype: float64"
      ]
     },
     "execution_count": 327,
     "metadata": {},
     "output_type": "execute_result"
    }
   ],
   "source": [
    "house_info.loc[house_info[\"Bathrooms\"]==3.50, \"Price\"].agg((min,max))"
   ]
  },
  {
   "cell_type": "code",
   "execution_count": 328,
   "metadata": {},
   "outputs": [
    {
     "data": {
      "text/plain": [
       "min     255000.0\n",
       "max    3650000.0\n",
       "Name: Price, dtype: float64"
      ]
     },
     "execution_count": 328,
     "metadata": {},
     "output_type": "execute_result"
    }
   ],
   "source": [
    "house_info.loc[house_info[\"Bathrooms\"]==3.75, \"Price\"].agg((min,max))"
   ]
  },
  {
   "cell_type": "code",
   "execution_count": 329,
   "metadata": {},
   "outputs": [
    {
     "data": {
      "text/plain": [
       "min     265000.0\n",
       "max    3400000.0\n",
       "Name: Price, dtype: float64"
      ]
     },
     "execution_count": 329,
     "metadata": {},
     "output_type": "execute_result"
    }
   ],
   "source": [
    "house_info.loc[house_info[\"Bathrooms\"]==4.00, \"Price\"].agg((min,max))"
   ]
  },
  {
   "cell_type": "code",
   "execution_count": 330,
   "metadata": {},
   "outputs": [
    {
     "data": {
      "text/plain": [
       "min     290000.0\n",
       "max    7060000.0\n",
       "Name: Price, dtype: float64"
      ]
     },
     "execution_count": 330,
     "metadata": {},
     "output_type": "execute_result"
    }
   ],
   "source": [
    "house_info.loc[house_info[\"Bathrooms\"]==4.50, \"Price\"].agg((min,max))"
   ]
  },
  {
   "cell_type": "code",
   "execution_count": 331,
   "metadata": {},
   "outputs": [
    {
     "data": {
      "text/plain": [
       "min     480000.0\n",
       "max    3650000.0\n",
       "Name: Price, dtype: float64"
      ]
     },
     "execution_count": 331,
     "metadata": {},
     "output_type": "execute_result"
    }
   ],
   "source": [
    "house_info.loc[house_info[\"Bathrooms\"]==4.75, \"Price\"].agg((min,max))"
   ]
  },
  {
   "cell_type": "code",
   "execution_count": 332,
   "metadata": {},
   "outputs": [
    {
     "data": {
      "text/plain": [
       "min     343000.0\n",
       "max    5350000.0\n",
       "Name: Price, dtype: float64"
      ]
     },
     "execution_count": 332,
     "metadata": {},
     "output_type": "execute_result"
    }
   ],
   "source": [
    "house_info.loc[house_info[\"Bathrooms\"]==5.00, \"Price\"].agg((min,max))"
   ]
  },
  {
   "cell_type": "code",
   "execution_count": 333,
   "metadata": {},
   "outputs": [
    {
     "data": {
      "text/plain": [
       "min     925000.0\n",
       "max    4500000.0\n",
       "Name: Price, dtype: float64"
      ]
     },
     "execution_count": 333,
     "metadata": {},
     "output_type": "execute_result"
    }
   ],
   "source": [
    "house_info.loc[house_info[\"Bathrooms\"]==5.50, \"Price\"].agg((min,max))"
   ]
  },
  {
   "cell_type": "code",
   "execution_count": 334,
   "metadata": {},
   "outputs": [
    {
     "data": {
      "text/plain": [
       "min     540000.0\n",
       "max    5570000.0\n",
       "Name: Price, dtype: float64"
      ]
     },
     "execution_count": 334,
     "metadata": {},
     "output_type": "execute_result"
    }
   ],
   "source": [
    "house_info.loc[house_info[\"Bathrooms\"]==5.75, \"Price\"].agg((min,max))"
   ]
  },
  {
   "cell_type": "code",
   "execution_count": 335,
   "metadata": {},
   "outputs": [
    {
     "data": {
      "text/plain": [
       "min     900000.0\n",
       "max    5300000.0\n",
       "Name: Price, dtype: float64"
      ]
     },
     "execution_count": 335,
     "metadata": {},
     "output_type": "execute_result"
    }
   ],
   "source": [
    "house_info.loc[house_info[\"Bathrooms\"]==6, \"Price\"].agg((min,max))"
   ]
  },
  {
   "cell_type": "code",
   "execution_count": 336,
   "metadata": {},
   "outputs": [
    {
     "data": {
      "text/plain": [
       "min     900000.0\n",
       "max    5300000.0\n",
       "Name: Price, dtype: float64"
      ]
     },
     "execution_count": 336,
     "metadata": {},
     "output_type": "execute_result"
    }
   ],
   "source": [
    "house_info.loc[house_info[\"Bathrooms\"]==6, \"Price\"].agg((min,max))"
   ]
  },
  {
   "cell_type": "code",
   "execution_count": 337,
   "metadata": {},
   "outputs": [
    {
     "data": {
      "text/plain": [
       "min    1180000.0\n",
       "max    2240000.0\n",
       "Name: Price, dtype: float64"
      ]
     },
     "execution_count": 337,
     "metadata": {},
     "output_type": "execute_result"
    }
   ],
   "source": [
    "house_info.loc[house_info[\"Bathrooms\"]==6.50, \"Price\"].agg((min,max))"
   ]
  },
  {
   "cell_type": "code",
   "execution_count": 338,
   "metadata": {},
   "outputs": [
    {
     "data": {
      "text/plain": [
       "min     800000.0\n",
       "max    4670000.0\n",
       "Name: Price, dtype: float64"
      ]
     },
     "execution_count": 338,
     "metadata": {},
     "output_type": "execute_result"
    }
   ],
   "source": [
    "house_info.loc[house_info[\"Bathrooms\"]==6.75, \"Price\"].agg((min,max))"
   ]
  },
  {
   "cell_type": "code",
   "execution_count": 339,
   "metadata": {},
   "outputs": [
    {
     "data": {
      "text/plain": [
       "min   NaN\n",
       "max   NaN\n",
       "Name: Price, dtype: float64"
      ]
     },
     "execution_count": 339,
     "metadata": {},
     "output_type": "execute_result"
    }
   ],
   "source": [
    "house_info.loc[house_info[\"Bathrooms\"]==7.00, \"Price\"].agg((min,max))"
   ]
  },
  {
   "cell_type": "code",
   "execution_count": 340,
   "metadata": {},
   "outputs": [
    {
     "data": {
      "text/plain": [
       "min    450000.0\n",
       "max    450000.0\n",
       "Name: Price, dtype: float64"
      ]
     },
     "execution_count": 340,
     "metadata": {},
     "output_type": "execute_result"
    }
   ],
   "source": [
    "house_info.loc[house_info[\"Bathrooms\"]==7.50, \"Price\"].agg((min,max))"
   ]
  },
  {
   "cell_type": "code",
   "execution_count": 341,
   "metadata": {},
   "outputs": [
    {
     "data": {
      "text/plain": [
       "min    6890000.0\n",
       "max    6890000.0\n",
       "Name: Price, dtype: float64"
      ]
     },
     "execution_count": 341,
     "metadata": {},
     "output_type": "execute_result"
    }
   ],
   "source": [
    "house_info.loc[house_info[\"Bathrooms\"]==7.75, \"Price\"].agg((min,max))"
   ]
  },
  {
   "cell_type": "code",
   "execution_count": 342,
   "metadata": {},
   "outputs": [
    {
     "data": {
      "text/plain": [
       "min    2280000.0\n",
       "max    7700000.0\n",
       "Name: Price, dtype: float64"
      ]
     },
     "execution_count": 342,
     "metadata": {},
     "output_type": "execute_result"
    }
   ],
   "source": [
    "house_info.loc[house_info[\"Bathrooms\"]==8.00, \"Price\"].agg((min,max))"
   ]
  },
  {
   "cell_type": "code",
   "execution_count": 343,
   "metadata": {},
   "outputs": [
    {
     "data": {
      "text/plain": [
       "0.0       17011\n",
       "2014.0       73\n",
       "2003.0       31\n",
       "2013.0       31\n",
       "2007.0       30\n",
       "          ...  \n",
       "1948.0        1\n",
       "1951.0        1\n",
       "1971.0        1\n",
       "1934.0        1\n",
       "1944.0        1\n",
       "Name: Year Renoveted, Length: 70, dtype: int64"
      ]
     },
     "execution_count": 343,
     "metadata": {},
     "output_type": "execute_result"
    }
   ],
   "source": [
    "house_info[\"Year Renoveted\"].value_counts()"
   ]
  },
  {
   "cell_type": "code",
   "execution_count": 344,
   "metadata": {
    "tags": []
   },
   "outputs": [
    {
     "data": {
      "text/plain": [
       "Counter({2015.0: 14,\n",
       "         2014.0: 73,\n",
       "         2013.0: 31,\n",
       "         2012.0: 8,\n",
       "         2011.0: 9,\n",
       "         2010.0: 15,\n",
       "         2009.0: 21,\n",
       "         2008.0: 15,\n",
       "         2007.0: 30,\n",
       "         2006.0: 20,\n",
       "         2005.0: 29,\n",
       "         2004.0: 22,\n",
       "         2003.0: 31,\n",
       "         2002.0: 17,\n",
       "         2001.0: 15,\n",
       "         2000.0: 29,\n",
       "         1999.0: 15,\n",
       "         1998.0: 16,\n",
       "         1997.0: 12,\n",
       "         1996.0: 11,\n",
       "         1995.0: 12,\n",
       "         1994.0: 14,\n",
       "         1993.0: 12,\n",
       "         1992.0: 13,\n",
       "         1991.0: 16,\n",
       "         1990.0: 22,\n",
       "         1989.0: 20,\n",
       "         1988.0: 11,\n",
       "         1987.0: 14,\n",
       "         1986.0: 14,\n",
       "         1985.0: 14,\n",
       "         1984.0: 16,\n",
       "         1983.0: 15,\n",
       "         1982.0: 8,\n",
       "         1981.0: 4,\n",
       "         1980.0: 8,\n",
       "         1979.0: 7,\n",
       "         1978.0: 3,\n",
       "         1977.0: 7,\n",
       "         1976.0: 1,\n",
       "         1975.0: 5,\n",
       "         1974.0: 2,\n",
       "         1973.0: 4,\n",
       "         1972.0: 3,\n",
       "         1971.0: 1,\n",
       "         1970.0: 9,\n",
       "         1969.0: 4,\n",
       "         1968.0: 7,\n",
       "         1967.0: 2,\n",
       "         1965.0: 4,\n",
       "         1964.0: 5,\n",
       "         1963.0: 4,\n",
       "         1962.0: 2,\n",
       "         1960.0: 3,\n",
       "         1959.0: 1,\n",
       "         1958.0: 3,\n",
       "         1957.0: 2,\n",
       "         1956.0: 3,\n",
       "         1955.0: 3,\n",
       "         1954.0: 1,\n",
       "         1953.0: 1,\n",
       "         1951.0: 1,\n",
       "         1950.0: 1,\n",
       "         1948.0: 1,\n",
       "         1946.0: 1,\n",
       "         1945.0: 3,\n",
       "         1944.0: 1,\n",
       "         1940.0: 2,\n",
       "         1934.0: 1})"
      ]
     },
     "execution_count": 344,
     "metadata": {},
     "output_type": "execute_result"
    }
   ],
   "source": [
    "grouped_year = []\n",
    "for i in house_info[\"Year Renoveted\"].dropna():\n",
    "        if i == 0.00:continue\n",
    "        grouped_year.append(i)\n",
    "        grouped_year.sort(reverse=True)\n",
    "\n",
    "grouped_year = collections.Counter(grouped_year)\n",
    "grouped_year"
   ]
  },
  {
   "cell_type": "code",
   "execution_count": 345,
   "metadata": {},
   "outputs": [
    {
     "data": {
      "text/plain": [
       "2014    559\n",
       "2006    453\n",
       "2005    450\n",
       "2004    433\n",
       "2003    420\n",
       "       ... \n",
       "1933     30\n",
       "1901     29\n",
       "1902     27\n",
       "1935     24\n",
       "1934     21\n",
       "Name: Year Built, Length: 116, dtype: int64"
      ]
     },
     "execution_count": 345,
     "metadata": {},
     "output_type": "execute_result"
    }
   ],
   "source": [
    "house_info[\"Year Built\"].value_counts()"
   ]
  },
  {
   "cell_type": "code",
   "execution_count": 346,
   "metadata": {
    "scrolled": true
   },
   "outputs": [
    {
     "data": {
      "text/plain": [
       "Counter({2015: 38,\n",
       "         2014: 559,\n",
       "         2013: 201,\n",
       "         2012: 170,\n",
       "         2011: 130,\n",
       "         2010: 143,\n",
       "         2009: 230,\n",
       "         2008: 367,\n",
       "         2007: 417,\n",
       "         2006: 453,\n",
       "         2005: 450,\n",
       "         2004: 433,\n",
       "         2003: 420,\n",
       "         2002: 222,\n",
       "         2001: 305,\n",
       "         2000: 218,\n",
       "         1999: 263,\n",
       "         1998: 239,\n",
       "         1997: 177,\n",
       "         1996: 194,\n",
       "         1995: 169,\n",
       "         1994: 249,\n",
       "         1993: 202,\n",
       "         1992: 198,\n",
       "         1991: 224,\n",
       "         1990: 317,\n",
       "         1989: 290,\n",
       "         1988: 270,\n",
       "         1987: 294,\n",
       "         1986: 215,\n",
       "         1985: 227,\n",
       "         1984: 229,\n",
       "         1983: 212,\n",
       "         1982: 105,\n",
       "         1981: 199,\n",
       "         1980: 240,\n",
       "         1979: 343,\n",
       "         1978: 387,\n",
       "         1977: 417,\n",
       "         1976: 253,\n",
       "         1975: 189,\n",
       "         1974: 162,\n",
       "         1973: 149,\n",
       "         1972: 149,\n",
       "         1971: 104,\n",
       "         1970: 132,\n",
       "         1969: 280,\n",
       "         1968: 381,\n",
       "         1967: 350,\n",
       "         1966: 249,\n",
       "         1965: 187,\n",
       "         1964: 172,\n",
       "         1963: 255,\n",
       "         1962: 312,\n",
       "         1961: 224,\n",
       "         1960: 248,\n",
       "         1959: 334,\n",
       "         1958: 224,\n",
       "         1957: 198,\n",
       "         1956: 198,\n",
       "         1955: 271,\n",
       "         1954: 305,\n",
       "         1953: 222,\n",
       "         1952: 220,\n",
       "         1951: 229,\n",
       "         1950: 249,\n",
       "         1949: 195,\n",
       "         1948: 234,\n",
       "         1947: 263,\n",
       "         1946: 126,\n",
       "         1945: 95,\n",
       "         1944: 140,\n",
       "         1943: 170,\n",
       "         1942: 223,\n",
       "         1941: 161,\n",
       "         1940: 156,\n",
       "         1939: 106,\n",
       "         1938: 52,\n",
       "         1937: 68,\n",
       "         1936: 40,\n",
       "         1935: 24,\n",
       "         1934: 21,\n",
       "         1933: 30,\n",
       "         1932: 38,\n",
       "         1931: 61,\n",
       "         1930: 90,\n",
       "         1929: 114,\n",
       "         1928: 126,\n",
       "         1927: 115,\n",
       "         1926: 180,\n",
       "         1925: 165,\n",
       "         1924: 139,\n",
       "         1923: 84,\n",
       "         1922: 95,\n",
       "         1921: 76,\n",
       "         1920: 98,\n",
       "         1919: 88,\n",
       "         1918: 120,\n",
       "         1917: 56,\n",
       "         1916: 79,\n",
       "         1915: 64,\n",
       "         1914: 54,\n",
       "         1913: 58,\n",
       "         1912: 79,\n",
       "         1911: 73,\n",
       "         1910: 134,\n",
       "         1909: 94,\n",
       "         1908: 86,\n",
       "         1907: 65,\n",
       "         1906: 92,\n",
       "         1905: 74,\n",
       "         1904: 45,\n",
       "         1903: 46,\n",
       "         1902: 27,\n",
       "         1901: 29,\n",
       "         1900: 87})"
      ]
     },
     "execution_count": 346,
     "metadata": {},
     "output_type": "execute_result"
    }
   ],
   "source": [
    "grouped_year_built = []\n",
    "for i in house_info[\"Year Built\"].dropna():\n",
    "        if i == 0.00:continue\n",
    "        grouped_year_built.append(i)\n",
    "        grouped_year_built.sort(reverse=True)\n",
    "\n",
    "grouped_year_built = collections.Counter(grouped_year_built)\n",
    "grouped_year_built"
   ]
  },
  {
   "cell_type": "code",
   "execution_count": 347,
   "metadata": {},
   "outputs": [
    {
     "data": {
      "text/plain": [
       "1.0    10673\n",
       "2.0     8235\n",
       "1.5     1910\n",
       "3.0      611\n",
       "2.5      161\n",
       "3.5        7\n",
       "Name: Floors, dtype: int64"
      ]
     },
     "execution_count": 347,
     "metadata": {},
     "output_type": "execute_result"
    }
   ],
   "source": [
    "house_info[\"Floors\"].value_counts()"
   ]
  },
  {
   "cell_type": "code",
   "execution_count": 348,
   "metadata": {},
   "outputs": [
    {
     "data": {
      "text/plain": [
       "min      78000.0\n",
       "max    4670000.0\n",
       "Name: Price, dtype: float64"
      ]
     },
     "execution_count": 348,
     "metadata": {},
     "output_type": "execute_result"
    }
   ],
   "source": [
    "house_info.loc[house_info[\"Floors\"]==1.00, \"Price\"].agg((min,max))"
   ]
  },
  {
   "cell_type": "code",
   "execution_count": 349,
   "metadata": {},
   "outputs": [
    {
     "data": {
      "text/plain": [
       "min      92000.0\n",
       "max    3650000.0\n",
       "Name: Price, dtype: float64"
      ]
     },
     "execution_count": 349,
     "metadata": {},
     "output_type": "execute_result"
    }
   ],
   "source": [
    "house_info.loc[house_info[\"Floors\"]==1.50, \"Price\"].agg((min,max))"
   ]
  },
  {
   "cell_type": "code",
   "execution_count": 350,
   "metadata": {},
   "outputs": [
    {
     "data": {
      "text/plain": [
       "min      90000.0\n",
       "max    7060000.0\n",
       "Name: Price, dtype: float64"
      ]
     },
     "execution_count": 350,
     "metadata": {},
     "output_type": "execute_result"
    }
   ],
   "source": [
    "house_info.loc[house_info[\"Floors\"]==2.00, \"Price\"].agg((min,max))"
   ]
  },
  {
   "cell_type": "code",
   "execution_count": 351,
   "metadata": {},
   "outputs": [
    {
     "data": {
      "text/plain": [
       "min     255000.0\n",
       "max    7700000.0\n",
       "Name: Price, dtype: float64"
      ]
     },
     "execution_count": 351,
     "metadata": {},
     "output_type": "execute_result"
    }
   ],
   "source": [
    "house_info.loc[house_info[\"Floors\"]==2.50, \"Price\"].agg((min,max))"
   ]
  },
  {
   "cell_type": "code",
   "execution_count": 352,
   "metadata": {},
   "outputs": [
    {
     "data": {
      "text/plain": [
       "min     205000.0\n",
       "max    3100000.0\n",
       "Name: Price, dtype: float64"
      ]
     },
     "execution_count": 352,
     "metadata": {},
     "output_type": "execute_result"
    }
   ],
   "source": [
    "house_info.loc[house_info[\"Floors\"]==3.00, \"Price\"].agg((min,max))"
   ]
  },
  {
   "cell_type": "code",
   "execution_count": 353,
   "metadata": {},
   "outputs": [
    {
     "data": {
      "text/plain": [
       "min     435000.0\n",
       "max    3300000.0\n",
       "Name: Price, dtype: float64"
      ]
     },
     "execution_count": 353,
     "metadata": {},
     "output_type": "execute_result"
    }
   ],
   "source": [
    "house_info.loc[house_info[\"Floors\"]==3.50, \"Price\"].agg((min,max))"
   ]
  },
  {
   "cell_type": "code",
   "execution_count": 354,
   "metadata": {},
   "outputs": [
    {
     "data": {
      "text/plain": [
       "3    14020\n",
       "4     5677\n",
       "5     1701\n",
       "2      170\n",
       "1       29\n",
       "Name: Condition, dtype: int64"
      ]
     },
     "execution_count": 354,
     "metadata": {},
     "output_type": "execute_result"
    }
   ],
   "source": [
    "house_info[\"Condition\"].value_counts()"
   ]
  },
  {
   "cell_type": "code",
   "execution_count": 355,
   "metadata": {},
   "outputs": [
    {
     "data": {
      "text/plain": [
       "min      78000.0\n",
       "max    1500000.0\n",
       "Name: Price, dtype: float64"
      ]
     },
     "execution_count": 355,
     "metadata": {},
     "output_type": "execute_result"
    }
   ],
   "source": [
    "house_info.loc[house_info[\"Condition\"]==1.00, \"Price\"].agg((min,max))"
   ]
  },
  {
   "cell_type": "code",
   "execution_count": 356,
   "metadata": {},
   "outputs": [
    {
     "data": {
      "text/plain": [
       "min      80000.0\n",
       "max    2560000.0\n",
       "Name: Price, dtype: float64"
      ]
     },
     "execution_count": 356,
     "metadata": {},
     "output_type": "execute_result"
    }
   ],
   "source": [
    "house_info.loc[house_info[\"Condition\"]==2.00, \"Price\"].agg((min,max))"
   ]
  },
  {
   "cell_type": "code",
   "execution_count": 357,
   "metadata": {},
   "outputs": [
    {
     "data": {
      "text/plain": [
       "min      82000.0\n",
       "max    7060000.0\n",
       "Name: Price, dtype: float64"
      ]
     },
     "execution_count": 357,
     "metadata": {},
     "output_type": "execute_result"
    }
   ],
   "source": [
    "house_info.loc[house_info[\"Condition\"]==3.00, \"Price\"].agg((min,max))"
   ]
  },
  {
   "cell_type": "code",
   "execution_count": 358,
   "metadata": {},
   "outputs": [
    {
     "data": {
      "text/plain": [
       "min      89000.0\n",
       "max    7700000.0\n",
       "Name: Price, dtype: float64"
      ]
     },
     "execution_count": 358,
     "metadata": {},
     "output_type": "execute_result"
    }
   ],
   "source": [
    "house_info.loc[house_info[\"Condition\"]==4.00, \"Price\"].agg((min,max))"
   ]
  },
  {
   "cell_type": "code",
   "execution_count": 359,
   "metadata": {},
   "outputs": [
    {
     "data": {
      "text/plain": [
       "min     110000.0\n",
       "max    3650000.0\n",
       "Name: Price, dtype: float64"
      ]
     },
     "execution_count": 359,
     "metadata": {},
     "output_type": "execute_result"
    }
   ],
   "source": [
    "house_info.loc[house_info[\"Condition\"]==5.00, \"Price\"].agg((min,max))"
   ]
  },
  {
   "cell_type": "code",
   "execution_count": 360,
   "metadata": {},
   "outputs": [
    {
     "data": {
      "text/plain": [
       "98103    602\n",
       "98038    589\n",
       "98115    583\n",
       "98052    574\n",
       "98117    553\n",
       "        ... \n",
       "98102    104\n",
       "98010    100\n",
       "98024     80\n",
       "98148     57\n",
       "98039     50\n",
       "Name: Location, Length: 70, dtype: int64"
      ]
     },
     "execution_count": 360,
     "metadata": {},
     "output_type": "execute_result"
    }
   ],
   "source": [
    "house_info[\"Location\"].value_counts()"
   ]
  },
  {
   "cell_type": "code",
   "execution_count": 361,
   "metadata": {},
   "outputs": [
    {
     "data": {
      "text/plain": [
       "21597"
      ]
     },
     "execution_count": 361,
     "metadata": {},
     "output_type": "execute_result"
    }
   ],
   "source": [
    "grouped_loca = []\n",
    "for i in house_info[\"Location\"].dropna():\n",
    "        if i == 0.00:continue\n",
    "        grouped_loca.append(i)\n",
    "        grouped_loca.sort(reverse=True)\n",
    "len(grouped_loca)"
   ]
  },
  {
   "cell_type": "code",
   "execution_count": 362,
   "metadata": {},
   "outputs": [
    {
     "data": {
      "text/plain": [
       "Counter({'Seattle (Magnolia: West)': 317,\n",
       "         'Des Moines: South King County': 280,\n",
       "         'Mc Micken Heights: South King County': 136,\n",
       "         'Bryn Mawr-Skyway: West King County': 262,\n",
       "         'Spring Beach: North King County': 255,\n",
       "         'Riverton-Boulevard Park: West King County': 269,\n",
       "         'Gregory Heights: West King County': 254,\n",
       "         'Shorline: North King County': 939,\n",
       "         'Normandy Park: South King County': 57,\n",
       "         'White Center: West King County': 288,\n",
       "         'Seattle (Jimi Hendrix: East)': 343,\n",
       "         'Seattle (Gatewood: South)': 263,\n",
       "         'Seattle (High Point: South)': 354,\n",
       "         'Seattle (North Seattle: North)': 409,\n",
       "         'Seattle (Central District: East)': 290,\n",
       "         'Seattle (North Queen Anne: West)': 184,\n",
       "         'Seattle (Hillman City: South)': 507,\n",
       "         'Seattle (Whittier: North)': 553,\n",
       "         'Seattle (North Admiral: West)': 330,\n",
       "         'Seattle (Wedgwood: North)': 583,\n",
       "         'Seattle (Arboretum: East)': 269,\n",
       "         'Seattle (Queen Anne: West)': 109,\n",
       "         'Seattle (Georgerown: South)': 186,\n",
       "         'Seattle (West Woodland: South)': 266,\n",
       "         'Seattle (Delridge: South)': 335,\n",
       "         'Seattle (University District: North)': 229,\n",
       "         'Seattle (Phinney Ridge: North)': 602,\n",
       "         'Seattle (Capitol Hill: West)': 104,\n",
       "         'Auburn: South King County': 911,\n",
       "         'Woodinville: North King County': 471,\n",
       "         'Sammamish: East King County': 800,\n",
       "         'Vashon: South King County': 117,\n",
       "         'Snaqualmie: East King County': 308,\n",
       "         'Renton: West King County': 1597,\n",
       "         'Redmond: North King County': 977,\n",
       "         'North Bend: East King County': 220,\n",
       "         'Kent: South King County': 1201,\n",
       "         'Mercer Island: West King County': 282,\n",
       "         'Medina: West King County': 50,\n",
       "         'Maple Valley: South King County': 589,\n",
       "         'Kirkland: North King County': 977,\n",
       "         'Issaquah: East King County': 733,\n",
       "         'Kenmore: North King County': 283,\n",
       "         'Fall city: East King County': 80,\n",
       "         'Federal Way: South King County': 779,\n",
       "         'Enumclaw: South King County': 233,\n",
       "         'Duvall: East King County': 190,\n",
       "         'Camation: East King County': 124,\n",
       "         'Bothell: North King County': 195,\n",
       "         'Black Diamond: South King County': 100,\n",
       "         'Bellueve: West King County': 1407})"
      ]
     },
     "execution_count": 362,
     "metadata": {},
     "output_type": "execute_result"
    }
   ],
   "source": [
    "grouped2 = []\n",
    "for i in grouped_loca:\n",
    "    if i ==  98092 :grouped2.append('Auburn: South King County')\n",
    "    if i ==  98002: grouped2.append('Auburn: South King County')\n",
    "    if i ==  98001: grouped2.append('Auburn: South King County')\n",
    "    if i ==  98077: grouped2.append('Woodinville: North King County')\n",
    "    if i ==  98072: grouped2.append('Woodinville: North King County')\n",
    "    if i ==  98075: grouped2.append('Sammamish: East King County')\n",
    "    if i ==  98074: grouped2.append('Sammamish: East King County')\n",
    "    if i ==  98070: grouped2.append('Vashon: South King County')\n",
    "    if i ==  98065: grouped2.append('Snaqualmie: East King County')\n",
    "    if i ==  98059: grouped2.append('Renton: West King County')\n",
    "    if i ==  98058: grouped2.append('Renton: West King County')\n",
    "    if i ==  98056: grouped2.append('Renton: West King County')\n",
    "    if i ==  98055: grouped2.append('Renton: West King County')\n",
    "    if i ==  98053: grouped2.append('Redmond: North King County')\n",
    "    if i ==  98052: grouped2.append('Redmond: North King County')\n",
    "    if i ==  98045: grouped2.append('North Bend: East King County')\n",
    "    if i ==  98042: grouped2.append('Kent: South King County')\n",
    "    if i ==  98032: grouped2.append('Kent: South King County')\n",
    "    if i ==  98031: grouped2.append('Kent: South King County')\n",
    "    if i ==  98030: grouped2.append('Kent: South King County')\n",
    "    if i ==  98040: grouped2.append('Mercer Island: West King County')\n",
    "    if i ==  98039: grouped2.append('Medina: West King County')\n",
    "    if i ==  98038: grouped2.append('Maple Valley: South King County')\n",
    "    if i ==  98034: grouped2.append('Kirkland: North King County')\n",
    "    if i ==  98033: grouped2.append('Kirkland: North King County')\n",
    "    if i ==  98029: grouped2.append('Issaquah: East King County')\n",
    "    if i ==  98027: grouped2.append('Issaquah: East King County')\n",
    "    if i ==  98028: grouped2.append('Kenmore: North King County')\n",
    "    if i ==  98024: grouped2.append('Fall city: East King County')\n",
    "    if i ==  98023: grouped2.append('Federal Way: South King County')\n",
    "    if i ==  98003: grouped2.append('Federal Way: South King County')\n",
    "    if i ==  98008: grouped2.append('Bellueve: West King County')\n",
    "    if i ==  98007: grouped2.append('Bellueve: West King County')\n",
    "    if i ==  98006: grouped2.append('Bellueve: West King County')\n",
    "    if i ==  98005: grouped2.append('Bellueve: West King County')\n",
    "    if i ==  98004: grouped2.append('Bellueve: West King County')\n",
    "    if i ==  98010: grouped2.append('Black Diamond: South King County')\n",
    "    if i ==  98011: grouped2.append('Bothell: North King County')\n",
    "    if i ==  98014: grouped2.append('Camation: East King County')\n",
    "    if i ==  98019: grouped2.append('Duvall: East King County')\n",
    "    if i ==  98022: grouped2.append('Enumclaw: South King County')\n",
    "    if i ==  98198: grouped2.append('Des Moines: South King County')\n",
    "    if i ==  98188: grouped2.append('Mc Micken Heights: South King County')\n",
    "    if i ==  98178: grouped2.append('Bryn Mawr-Skyway: West King County')\n",
    "    if i ==  98177: grouped2.append('Spring Beach: North King County')\n",
    "    if i ==  98168: grouped2.append('Riverton-Boulevard Park: West King County')\n",
    "    if i ==  98166: grouped2.append('Gregory Heights: West King County')\n",
    "    if i ==  98155: grouped2.append('Shorline: North King County')\n",
    "    if i ==  98133: grouped2.append('Shorline: North King County')\n",
    "    if i ==  98148: grouped2.append('Normandy Park: South King County')\n",
    "    if i ==  98146: grouped2.append('White Center: West King County')\n",
    "    if i ==  98199: grouped2.append('Seattle (Magnolia: West)')\n",
    "    if i ==  98119: grouped2.append('Seattle (North Queen Anne: West)')\n",
    "    if i ==  98116: grouped2.append('Seattle (North Admiral: West)')\n",
    "    if i ==  98109: grouped2.append('Seattle (Queen Anne: West)')\n",
    "    if i ==  98102: grouped2.append('Seattle (Capitol Hill: West)')\n",
    "    if i ==  98144: grouped2.append('Seattle (Jimi Hendrix: East)')\n",
    "    if i ==  98122: grouped2.append('Seattle (Central District: East)')\n",
    "    if i ==  98112: grouped2.append('Seattle (Arboretum: East)')\n",
    "    if i ==  98136: grouped2.append('Seattle (Gatewood: South)')\n",
    "    if i ==  98126: grouped2.append('Seattle (High Point: South)')\n",
    "    if i ==  98118: grouped2.append('Seattle (Hillman City: South)')\n",
    "    if i ==  98108: grouped2.append('Seattle (Georgerown: South)')\n",
    "    if i ==  98106: grouped2.append('Seattle (Delridge: South)')\n",
    "    if i ==  98107: grouped2.append('Seattle (West Woodland: South)')\n",
    "    if i ==  98125: grouped2.append('Seattle (North Seattle: North)')\n",
    "    if i ==  98117: grouped2.append('Seattle (Whittier: North)')\n",
    "    if i ==  98115: grouped2.append('Seattle (Wedgwood: North)')\n",
    "    if i ==  98105: grouped2.append('Seattle (University District: North)')\n",
    "    if i ==  98103: grouped2.append('Seattle (Phinney Ridge: North)')\n",
    "grouped2 = collections.Counter(grouped2)\n",
    "grouped2"
   ]
  },
  {
   "cell_type": "code",
   "execution_count": 363,
   "metadata": {},
   "outputs": [
    {
     "data": {
      "text/plain": [
       "32"
      ]
     },
     "execution_count": 363,
     "metadata": {},
     "output_type": "execute_result"
    }
   ],
   "source": [
    "city = []\n",
    "for i in grouped2:\n",
    "    if i[:2] == 'Se':continue\n",
    "    city.append(i.split(':',1)[0])\n",
    "len(city)"
   ]
  },
  {
   "cell_type": "code",
   "execution_count": 364,
   "metadata": {},
   "outputs": [
    {
     "data": {
      "text/plain": [
       "33"
      ]
     },
     "execution_count": 364,
     "metadata": {},
     "output_type": "execute_result"
    }
   ],
   "source": [
    "county = []\n",
    "counter = 0\n",
    "while counter < 33:\n",
    "    county.append('King County')\n",
    "    counter+= 1\n",
    "len(county)"
   ]
  },
  {
   "cell_type": "code",
   "execution_count": 365,
   "metadata": {},
   "outputs": [
    {
     "data": {
      "text/plain": [
       "33"
      ]
     },
     "execution_count": 365,
     "metadata": {},
     "output_type": "execute_result"
    }
   ],
   "source": [
    "state = []\n",
    "counter = 0\n",
    "while counter < 33:\n",
    "    state.append('Washington')\n",
    "    counter+= 1\n",
    "len(state)"
   ]
  },
  {
   "cell_type": "code",
   "execution_count": 366,
   "metadata": {
    "scrolled": true
   },
   "outputs": [
    {
     "data": {
      "text/plain": [
       "32"
      ]
     },
     "execution_count": 366,
     "metadata": {},
     "output_type": "execute_result"
    }
   ],
   "source": [
    "grouped = []\n",
    "for i in grouped2:\n",
    "    if i[:2] == 'Se':continue\n",
    "    i=i.split(':',2)[1]\n",
    "    grouped.append(i)\n",
    "len(grouped)"
   ]
  },
  {
   "cell_type": "code",
   "execution_count": 367,
   "metadata": {},
   "outputs": [
    {
     "data": {
      "text/plain": [
       "32"
      ]
     },
     "execution_count": 367,
     "metadata": {},
     "output_type": "execute_result"
    }
   ],
   "source": [
    "color = []\n",
    "for i in grouped:\n",
    "    if i == ' South King County':color.append('blue')\n",
    "    if i == ' North King County':color.append('red')\n",
    "    if i == ' West King County':color.append('purple')\n",
    "    if i == ' East King County':color.append('gold')\n",
    "len(color)"
   ]
  },
  {
   "cell_type": "code",
   "execution_count": 368,
   "metadata": {},
   "outputs": [
    {
     "data": {
      "text/plain": [
       "32"
      ]
     },
     "execution_count": 368,
     "metadata": {},
     "output_type": "execute_result"
    }
   ],
   "source": [
    "Latitude = []\n",
    "for i in grouped2:\n",
    "    if i == 'Des Moines: South King County':Latitude.append(47.3911294)\n",
    "    if i == 'Mc Micken Heights: South King County':Latitude.append(47.4531965)\n",
    "    if i == 'Bryn Mawr-Skyway: West King County':Latitude.append(47.4943000)\n",
    "    if i == 'Spring Beach: North King County':Latitude.append(47.7400975)\n",
    "    if i == 'Riverton-Boulevard Park: West King County':Latitude.append(47.495792)\n",
    "    if i == 'Gregory Heights: West King County':Latitude.append(47.455900)\n",
    "    if i == 'Shorline: North King County':Latitude.append(47.755653)\n",
    "    if i == 'Normandy Park: South King County':Latitude.append(47.435664924)\n",
    "    if i == 'White Center: West King County':Latitude.append(47.51732)\n",
    "    if i == 'Auburn: South King County':Latitude.append(47.307323)\n",
    "    if i == 'Woodinville: North King County':Latitude.append(47.7542651)\n",
    "    if i == 'Sammamish: East King County':Latitude.append(47.618198)\n",
    "    if i == 'Vashon: South King County':Latitude.append(47.409665028 )\n",
    "    if i == 'Snaqualmie: East King County':Latitude.append(47.52871 )\n",
    "    if i == 'Renton: West King County':Latitude.append(47.482880)\n",
    "    if i == 'Redmond: North King County':Latitude.append(47.673988)\n",
    "    if i == 'North Bend: East King County':Latitude.append(47.502357)\n",
    "    if i == 'Kent: South King County':Latitude.append(47.378010)\n",
    "    if i == 'Mercer Island: West King County':Latitude.append(47.570656)\n",
    "    if i == 'Medina: West King County':Latitude.append(47.62093)\n",
    "    if i == 'Maple Valley: South King County':Latitude.append(47.373348 )\n",
    "    if i == 'Kirkland: North King County':Latitude.append(47.6814876)\n",
    "    if i == 'Issaquah: East King County':Latitude.append(47.530102)\n",
    "    if i == 'Kenmore: North King County':Latitude.append(47.7532046)\n",
    "    if i == 'Fall city: East King County':Latitude.append(47.567326)\n",
    "    if i == 'Federal Way: South King County':Latitude.append(47.322323)\n",
    "    if i == 'Enumclaw: South King County':Latitude.append(47.201499194)\n",
    "    if i == 'Duvall: East King County':Latitude.append(47.733830398 )\n",
    "    if i == 'Camation: East King County':Latitude.append(47.648234)\n",
    "    if i == 'Bothell: North King County':Latitude.append(47.77167)\n",
    "    if i == 'Black Diamond: South King County':Latitude.append(47.317332064)\n",
    "    if i == 'Bellueve: West King County':Latitude.append(47.610378)\n",
    "len(Latitude)"
   ]
  },
  {
   "cell_type": "code",
   "execution_count": 369,
   "metadata": {},
   "outputs": [],
   "source": [
    "Longitude = []\n",
    "for i in grouped2:\n",
    "    if i == 'Des Moines: South King County':Longitude.append(-122.31546)\n",
    "    if i == 'Mc Micken Heights: South King County':Longitude.append(-122.285282)\n",
    "    if i == 'Bryn Mawr-Skyway: West King County':Longitude.append(-122.2409200)\n",
    "    if i == 'Spring Beach: North King County':Longitude.append(-122.3734629)\n",
    "    if i == 'Riverton-Boulevard Park: West King County':Longitude.append(-122.312698)\n",
    "    if i == 'Gregory Heights: West King County':Longitude.append(-122.361000)\n",
    "    if i == 'Shorline: North King County':Longitude.append(-122.341515)\n",
    "    if i == 'Normandy Park: South King County':Longitude.append( -122.339331976)\n",
    "    if i == 'White Center: West King County':Longitude.append(-122.35485)\n",
    "    if i == 'Auburn: South King County':Longitude.append(-122.228455)\n",
    "    if i == 'Woodinville: North King County':Longitude.append(-122.1634582)\n",
    "    if i == 'Sammamish: East King County':Longitude.append(-122.054672)\n",
    "    if i == 'Vashon: South King County':Longitude.append(-122.467664796)\n",
    "    if i == 'Snaqualmie: East King County':Longitude.append(-121.82539)\n",
    "    if i == 'Renton: West King County':Longitude.append(-122.217064)\n",
    "    if i == 'Redmond: North King County':Longitude.append(-122.121513)\n",
    "    if i == 'North Bend: East King County':Longitude.append(-121.797867)\n",
    "    if i == 'Kent: South King County':Longitude.append(-122.237381)\n",
    "    if i == 'Mercer Island: West King County':Longitude.append(-122.222069)\n",
    "    if i == 'Medina: West King County':Longitude.append( -122.22762)\n",
    "    if i == 'Maple Valley: South King County':Longitude.append(-122.036926)\n",
    "    if i == 'Kirkland: North King County':Longitude.append(-122.2087353)\n",
    "    if i == 'Issaquah: East King County':Longitude.append(-122.032616)\n",
    "    if i == 'Kenmore: North King County':Longitude.append(-122.24631)\n",
    "    if i == 'Fall city: East King County':Longitude.append(-121.888725)\n",
    "    if i == 'Federal Way: South King County':Longitude.append( -122.312622)\n",
    "    if i == 'Enumclaw: South King County':Longitude.append( -121.989829374)\n",
    "    if i == 'Duvall: East King County':Longitude.append(-121.971996112)\n",
    "    if i == 'Camation: East King County':Longitude.append( -121.90863)\n",
    "    if i == 'Bothell: North King County':Longitude.append( -122.204421)\n",
    "    if i == 'Black Diamond: South King County':Longitude.append( -122.008833298)\n",
    "    if i == 'Bellueve: West King County':Longitude.append(-122.200676)"
   ]
  },
  {
   "cell_type": "code",
   "execution_count": 370,
   "metadata": {},
   "outputs": [
    {
     "data": {
      "text/plain": [
       "32"
      ]
     },
     "execution_count": 370,
     "metadata": {},
     "output_type": "execute_result"
    }
   ],
   "source": [
    "len(Longitude)"
   ]
  },
  {
   "cell_type": "code",
   "execution_count": 371,
   "metadata": {},
   "outputs": [
    {
     "data": {
      "text/plain": [
       "10"
      ]
     },
     "execution_count": 371,
     "metadata": {},
     "output_type": "execute_result"
    }
   ],
   "source": [
    "trace1 = []\n",
    "for i,x in enumerate(grouped):\n",
    "    if x == ' South King County':trace1.append(Longitude[i])\n",
    "len(trace1)"
   ]
  },
  {
   "cell_type": "code",
   "execution_count": 372,
   "metadata": {},
   "outputs": [
    {
     "data": {
      "text/plain": [
       "7"
      ]
     },
     "execution_count": 372,
     "metadata": {},
     "output_type": "execute_result"
    }
   ],
   "source": [
    "trace2 = []\n",
    "for i,x in enumerate(grouped):\n",
    "    if x == ' North King County':trace2.append(Longitude[i])\n",
    "len(trace2)"
   ]
  },
  {
   "cell_type": "code",
   "execution_count": 373,
   "metadata": {},
   "outputs": [
    {
     "data": {
      "text/plain": [
       "8"
      ]
     },
     "execution_count": 373,
     "metadata": {},
     "output_type": "execute_result"
    }
   ],
   "source": [
    "trace3 = []\n",
    "for i,x in enumerate(grouped):\n",
    "    if x == ' West King County':trace3.append(Longitude[i])\n",
    "len(trace3)"
   ]
  },
  {
   "cell_type": "code",
   "execution_count": 374,
   "metadata": {},
   "outputs": [
    {
     "data": {
      "text/plain": [
       "7"
      ]
     },
     "execution_count": 374,
     "metadata": {},
     "output_type": "execute_result"
    }
   ],
   "source": [
    "trace4 = []\n",
    "for i,x in enumerate(grouped):\n",
    "    if x == ' East King County':trace4.append(Longitude[i])\n",
    "len(trace4)"
   ]
  },
  {
   "cell_type": "code",
   "execution_count": 375,
   "metadata": {},
   "outputs": [
    {
     "data": {
      "text/plain": [
       "10"
      ]
     },
     "execution_count": 375,
     "metadata": {},
     "output_type": "execute_result"
    }
   ],
   "source": [
    "trace11 = []\n",
    "for i,x in enumerate(grouped):\n",
    "    if x == ' South King County':trace11.append(Latitude[i])\n",
    "len(trace11)"
   ]
  },
  {
   "cell_type": "code",
   "execution_count": 376,
   "metadata": {},
   "outputs": [
    {
     "data": {
      "text/plain": [
       "7"
      ]
     },
     "execution_count": 376,
     "metadata": {},
     "output_type": "execute_result"
    }
   ],
   "source": [
    "trace22 = []\n",
    "for i,x in enumerate(grouped):\n",
    "    if x == ' North King County':trace22.append(Latitude[i])\n",
    "len(trace22)"
   ]
  },
  {
   "cell_type": "code",
   "execution_count": 377,
   "metadata": {},
   "outputs": [
    {
     "data": {
      "text/plain": [
       "8"
      ]
     },
     "execution_count": 377,
     "metadata": {},
     "output_type": "execute_result"
    }
   ],
   "source": [
    "trace33 = []\n",
    "for i,x in enumerate(grouped):\n",
    "    if x == ' West King County':trace33.append(Latitude[i])\n",
    "len(trace33)"
   ]
  },
  {
   "cell_type": "code",
   "execution_count": 378,
   "metadata": {},
   "outputs": [
    {
     "data": {
      "text/plain": [
       "7"
      ]
     },
     "execution_count": 378,
     "metadata": {},
     "output_type": "execute_result"
    }
   ],
   "source": [
    "trace44 = []\n",
    "for i,x in enumerate(grouped):\n",
    "    if x == ' East King County':trace44.append(Latitude[i])\n",
    "len(trace44)"
   ]
  },
  {
   "cell_type": "code",
   "execution_count": 379,
   "metadata": {
    "scrolled": true
   },
   "outputs": [
    {
     "data": {
      "text/plain": [
       "10"
      ]
     },
     "execution_count": 379,
     "metadata": {},
     "output_type": "execute_result"
    }
   ],
   "source": [
    "city1 = []\n",
    "for i,x in enumerate(grouped):\n",
    "    if x == ' South King County':city1.append(city[i])\n",
    "len(city1)"
   ]
  },
  {
   "cell_type": "code",
   "execution_count": 380,
   "metadata": {},
   "outputs": [
    {
     "data": {
      "text/plain": [
       "7"
      ]
     },
     "execution_count": 380,
     "metadata": {},
     "output_type": "execute_result"
    }
   ],
   "source": [
    "city2 = []\n",
    "for i,x in enumerate(grouped):\n",
    "    if x == ' North King County':city2.append(city[i])\n",
    "len(city2)"
   ]
  },
  {
   "cell_type": "code",
   "execution_count": 381,
   "metadata": {},
   "outputs": [
    {
     "data": {
      "text/plain": [
       "8"
      ]
     },
     "execution_count": 381,
     "metadata": {},
     "output_type": "execute_result"
    }
   ],
   "source": [
    "city3 = []\n",
    "for i,x in enumerate(grouped):\n",
    "    if x == ' West King County':city3.append(city[i])\n",
    "len(city3)"
   ]
  },
  {
   "cell_type": "code",
   "execution_count": 382,
   "metadata": {},
   "outputs": [
    {
     "data": {
      "text/plain": [
       "7"
      ]
     },
     "execution_count": 382,
     "metadata": {},
     "output_type": "execute_result"
    }
   ],
   "source": [
    "city4 = []\n",
    "for i,x in enumerate(grouped):\n",
    "    if x == ' East King County':city4.append(city[i])\n",
    "len(city4)"
   ]
  },
  {
   "cell_type": "code",
   "execution_count": 383,
   "metadata": {},
   "outputs": [],
   "source": [
    "import plotly.graph_objects as go\n",
    "import plotly.express as px\n",
    "mapbox_access_token = open(\"mapdata.mapbox_token.txt\").read()\n",
    "\n",
    "fig = go.Figure()\n",
    " \n",
    "fig.add_trace(go.Scattermapbox(\n",
    "    mode=\"markers\",\n",
    "    name= 'North Coast',\n",
    "    textposition=\"bottom center\",\n",
    "    lon =trace2 , lat = trace22,text = city2, \n",
    "    hoverinfo='text',\n",
    "    opacity = .6,\n",
    "    marker=go.scattermapbox.Marker(size=29,color='red')))\n",
    "\n",
    "fig.add_trace(go.Scattermapbox(\n",
    "    mode=\"markers\",\n",
    "    name = 'East Coast',\n",
    "    textposition=\"bottom center\",\n",
    "    lon =trace4 , lat = trace44,text = city4, \n",
    "    hoverinfo='text',\n",
    "    opacity = .6,\n",
    "    marker=go.scattermapbox.Marker(size=29,color='gold')))\n",
    "\n",
    "fig.add_trace(go.Scattermapbox(\n",
    "    mode=\"markers\",\n",
    "    name = 'West Coast',\n",
    "    textposition=\"bottom center\",\n",
    "    lon =trace3 , lat = trace33,text = city3, \n",
    "    hoverinfo='text',\n",
    "    opacity = .6,\n",
    "    marker=go.scattermapbox.Marker(size=29,color='purple')))\n",
    "\n",
    "fig.add_trace(go.Scattermapbox(\n",
    "    mode=\"markers\",\n",
    "    name = 'South Coast',\n",
    "    textposition=\"bottom center\",\n",
    "    lon =trace1 , lat = trace11,text = city1, \n",
    "    hoverinfo='text',\n",
    "    opacity = .6,\n",
    "    marker=go.scattermapbox.Marker(size=29,color='blue')))\n",
    "\n",
    "\n",
    "fig.update_layout(\n",
    "    mapbox_style=\"open-street-map\",\n",
    "     title=dict(\n",
    "       text='<b>King county</b><br><sup>US county in Washington State</sup>',\n",
    "       font=dict(size= 29,color='black')),\n",
    "    height=1000,\n",
    "    legend_title_text='Coast of King County',\n",
    "    hoverlabel=dict(\n",
    "        bgcolor=\"white\",\n",
    "        font_size=16,\n",
    "        font_family=\"Rockwell\"),\n",
    "    showlegend=True,\n",
    "    autosize=True,\n",
    "    mapbox=dict(\n",
    "        accesstoken=mapbox_access_token,\n",
    "        bearing = 0,\n",
    "        center=dict(\n",
    "            lat=47.608013,\n",
    "            lon=-122.335167\n",
    "        ),\n",
    "        pitch=0,\n",
    "        zoom=8\n",
    "    ),\n",
    ")\n",
    "\n",
    "#fig.show()\n",
    "\n",
    "fig.write_html('first_figure.html',auto_open=True)"
   ]
  },
  {
   "cell_type": "code",
   "execution_count": 384,
   "metadata": {},
   "outputs": [
    {
     "data": {
      "text/plain": [
       "18"
      ]
     },
     "execution_count": 384,
     "metadata": {},
     "output_type": "execute_result"
    }
   ],
   "source": [
    "grrouped3 = ['Magnolia: West Seattle',\n",
    "             'North Queen Anne: West Seattle',\n",
    "             'North Admiral: West Seattle',\n",
    "             'Queen Anne: West Seattle',\n",
    "             'Capitol Hill: West Seattle',\n",
    "             'Jimi Hendrix: East Seattle',\n",
    "             'Central District: East Seattle',\n",
    "             'Arboretum: East Seattle',\n",
    "             'North Seattle: North Seattle',\n",
    "             'Whittier: North Seattle',\n",
    "             'Wedgwood: North Seattle',\n",
    "             'University District: North Seattle',\n",
    "             'Phinney Ridge: North Seattle',\n",
    "             'Gatewood: South Seattle',\n",
    "             'High Point: South Seattle',\n",
    "             'Delridge: South Seattle',\n",
    "             'West Woodland: South Seattle',\n",
    "             'Phinney Ridge: South Seattle']\n",
    "len(grrouped3)"
   ]
  },
  {
   "cell_type": "code",
   "execution_count": 385,
   "metadata": {},
   "outputs": [
    {
     "data": {
      "text/plain": [
       "17"
      ]
     },
     "execution_count": 385,
     "metadata": {},
     "output_type": "execute_result"
    }
   ],
   "source": [
    "Latitude1 = []\n",
    "for i in grrouped3:\n",
    "    if i == 'Magnolia: West Seattle':Latitude1.append(47.640541)\n",
    "    if i == 'North Queen Anne: West Seattle':Latitude1.append(47.6471)\n",
    "    if i == 'North Admiral: West Seattle':Latitude1.append(47.6062095)\n",
    "    if i == 'Queen Anne: West Seattle':Latitude1.append(47.6323268)\n",
    "    if i == 'Capitol Hill: West Seattle':Latitude1.append(47.625305)\n",
    "    if i == 'Jimi Hendrix: East Seattle':Latitude1.append(47.6036)\n",
    "    if i == 'Central District: East Seattle':Latitude1.append(47.6088)\n",
    "    if i == 'Arboretum: East Seattle':Latitude1.append(47.639793)\n",
    "    if i == 'North Seattle: North Seattle':Latitude1.append(47.60621)\n",
    "    if i == 'Whittier: North Seattle':Latitude1.append(47.2898355)\n",
    "    if i == 'Wedgwood: North Seattle':Latitude1.append(47.690109)\n",
    "    if i == 'University District: North Seattle':Latitude1.append(47.6597)\n",
    "    if i == 'Phinney Ridge: North Seattle':Latitude1.append(47.6747833)\n",
    "    if i == 'Gatewood: South Seattle':Latitude1.append( 47.60621)\n",
    "    if i == 'High Point: South Seattle':Latitude1.append(47.60621)\n",
    "    if i == 'Delridge: South Seattle':Latitude1.append(47.60621)\n",
    "    if i == 'West Woodland: South Seattle':Latitude1.append(47.668392)\n",
    "    if i == 'Hillman City: South Seattle':Latitude1.append(47.6747833)\n",
    "len(Latitude1)"
   ]
  },
  {
   "cell_type": "code",
   "execution_count": 386,
   "metadata": {},
   "outputs": [
    {
     "data": {
      "text/plain": [
       "17"
      ]
     },
     "execution_count": 386,
     "metadata": {},
     "output_type": "execute_result"
    }
   ],
   "source": [
    "Longitude1 = []\n",
    "for i in grrouped3:\n",
    "    if i == 'Magnolia: West Seattle':Longitude1.append(-122.399452)\n",
    "    if i == 'North Queen Anne: West Seattle':Longitude1.append(-122.3652)\n",
    "    if i == 'North Admiral: West Seattle':Longitude1.append(-122.33207)\n",
    "    if i == 'Queen Anne: West Seattle':Longitude1.append(-122.35686)\n",
    "    if i == 'Capitol Hill: West Seattle':Longitude1.append(-122.32218)\n",
    "    if i == 'Jimi Hendrix: East Seattle':Longitude1.append(-122.3294)\n",
    "    if i == 'Central District: East Seattle':Longitude1.append(-122.2964)\n",
    "    if i == 'Arboretum: East Seattle':Longitude1.append(-122.294472)\n",
    "    if i == 'North Seattle: North Seattle':Longitude1.append(-122.33207)\n",
    "    if i == 'Whittier: North Seattle':Longitude1.append(-121.3175932)\n",
    "    if i == 'Wedgwood: North Seattle':Longitude1.append( -122.29052)\n",
    "    if i == 'University District: North Seattle':Longitude1.append(-122.3083)\n",
    "    if i == 'Phinney Ridge: North Seattle':Longitude1.append(-122.35660)\n",
    "    if i == 'Gatewood: South Seattle':Longitude1.append( -122.33207)\n",
    "    if i == 'High Point: South Seattle':Longitude1.append(-122.33207)\n",
    "    if i == 'Delridge: South Seattle':Longitude1.append(-122.33207)\n",
    "    if i == 'West Woodland: South Seattle':Longitude1.append(-122.350868)\n",
    "    if i == 'Hillman City: South Seattle':Longitude1.append(-122.35660)\n",
    "len(Longitude1)"
   ]
  },
  {
   "cell_type": "code",
   "execution_count": 387,
   "metadata": {},
   "outputs": [],
   "source": [
    "import plotly.graph_objects as go\n",
    "import plotly.express as px\n",
    "mapbox_access_token = open(\"mapdata.mapbox_token.txt\").read()\n",
    "\n",
    "fig = go.Figure()\n",
    " \n",
    "fig.add_trace(go.Scattermapbox(\n",
    "    mode=\"markers\",\n",
    "    name= 'North Seattle',\n",
    "    textposition=\"bottom center\",\n",
    "    lon =[-122.298,-122.3726289,-122.290527,-122.35660,-122.366196],\n",
    "    lat = [47.72037,47.6909311,47.690109,47.6747833,47.668689],text = ['North Seattle','Whittier',\n",
    "                                                'Wedgwood','Phinney Ridge','West Woodland'], \n",
    "    hoverinfo='text',\n",
    "    opacity = .6,\n",
    "    marker=go.scattermapbox.Marker(size=29,color='red')))\n",
    "\n",
    "fig.add_trace(go.Scattermapbox(\n",
    "    mode=\"markers\",\n",
    "    name = 'East Seattle',\n",
    "    textposition=\"bottom center\",\n",
    "    lon =[-122.30533,-122.294472,-122.32218,-122.3083], lat = [47.61307,47.639793,47.625305,47.6597],text = \n",
    "    ['Central District','Arboretum','Capitol Hill','University District'], \n",
    "    hoverinfo='text',\n",
    "    opacity = .6,\n",
    "    marker=go.scattermapbox.Marker(size=29,color='gold')))\n",
    "\n",
    "fig.add_trace(go.Scattermapbox(\n",
    "    mode=\"markers\",\n",
    "    name = 'West Seattle',\n",
    "    textposition=\"bottom center\",\n",
    "    lon =[-122.335167,-122.399452,-122.3652,-122.385615124,-122.35686] , \n",
    "    lat = [47.608013,47.640541,47.6471,47.5762976948,47.6323268 ],\n",
    "    text = ['Jimi Hendrix','Magnolia','North Queen Anne','North Admiral','Queen Anne'], \n",
    "    hoverinfo='text',\n",
    "    opacity = .6,\n",
    "    marker=go.scattermapbox.Marker(size=29,color='purple')))\n",
    "\n",
    "fig.add_trace(go.Scattermapbox(\n",
    "    mode=\"markers\",\n",
    "    name = 'South Seattle',\n",
    "    textposition=\"bottom center\",\n",
    "    lon =[-122.3833318,-122.369068,-122.367898528,-122.280412,-122.322136] , \n",
    "    lat = [47.5363811878,47.550264, 47.5393645092,47.549469, 47.543172] ,\n",
    "    text = ['Gatewood','Delridge','High Point','Hillman City','Georgerown'] , \n",
    "    hoverinfo='text',\n",
    "    opacity = .6,\n",
    "    marker=go.scattermapbox.Marker(size=29,color='blue')))\n",
    "\n",
    "\n",
    "fig.update_layout(\n",
    "    mapbox_style=\"open-street-map\",\n",
    "     title=dict(\n",
    "       text='<b>King county</b><br><sup>US county in Washington State</sup>',\n",
    "       font=dict(size= 29,color='black')),\n",
    "    height=1000,\n",
    "    legend_title_text='Coast of King County',\n",
    "    hoverlabel=dict(\n",
    "        bgcolor=\"white\",\n",
    "        font_size=16,\n",
    "        font_family=\"Rockwell\"),\n",
    "    showlegend=True,\n",
    "    autosize=True,\n",
    "    mapbox=dict(\n",
    "        accesstoken=mapbox_access_token,\n",
    "        bearing = 0,\n",
    "        center=dict(\n",
    "            lat=47.608013,\n",
    "            lon=-122.335167\n",
    "        ),\n",
    "        pitch=0,\n",
    "        zoom=10\n",
    "    ),\n",
    ")\n",
    "\n",
    "#fig.show()\n",
    "\n",
    "fig.write_html('first_figure.html',auto_open=True)"
   ]
  },
  {
   "cell_type": "code",
   "execution_count": 91,
   "metadata": {},
   "outputs": [
    {
     "data": {
      "text/html": [
       "<div>\n",
       "<style scoped>\n",
       "    .dataframe tbody tr th:only-of-type {\n",
       "        vertical-align: middle;\n",
       "    }\n",
       "\n",
       "    .dataframe tbody tr th {\n",
       "        vertical-align: top;\n",
       "    }\n",
       "\n",
       "    .dataframe thead th {\n",
       "        text-align: right;\n",
       "    }\n",
       "</style>\n",
       "<table border=\"1\" class=\"dataframe\">\n",
       "  <thead>\n",
       "    <tr style=\"text-align: right;\">\n",
       "      <th></th>\n",
       "      <th>Bedrooms</th>\n",
       "      <th>Bathrooms</th>\n",
       "      <th>Floors</th>\n",
       "      <th>Year Built</th>\n",
       "      <th>Year Renoveted</th>\n",
       "      <th>Size of Basement</th>\n",
       "      <th>Condition</th>\n",
       "      <th>Size of Above</th>\n",
       "      <th>Location</th>\n",
       "      <th>Price</th>\n",
       "    </tr>\n",
       "  </thead>\n",
       "  <tbody>\n",
       "    <tr>\n",
       "      <th>0</th>\n",
       "      <td>3</td>\n",
       "      <td>1.00</td>\n",
       "      <td>1.0</td>\n",
       "      <td>1955</td>\n",
       "      <td>0.0</td>\n",
       "      <td>0.0</td>\n",
       "      <td>3</td>\n",
       "      <td>1180</td>\n",
       "      <td>98178</td>\n",
       "      <td>221900.0</td>\n",
       "    </tr>\n",
       "    <tr>\n",
       "      <th>1</th>\n",
       "      <td>3</td>\n",
       "      <td>2.25</td>\n",
       "      <td>2.0</td>\n",
       "      <td>1951</td>\n",
       "      <td>1991.0</td>\n",
       "      <td>400.0</td>\n",
       "      <td>3</td>\n",
       "      <td>2170</td>\n",
       "      <td>98125</td>\n",
       "      <td>538000.0</td>\n",
       "    </tr>\n",
       "    <tr>\n",
       "      <th>2</th>\n",
       "      <td>2</td>\n",
       "      <td>1.00</td>\n",
       "      <td>1.0</td>\n",
       "      <td>1933</td>\n",
       "      <td>NaN</td>\n",
       "      <td>0.0</td>\n",
       "      <td>3</td>\n",
       "      <td>770</td>\n",
       "      <td>98028</td>\n",
       "      <td>180000.0</td>\n",
       "    </tr>\n",
       "    <tr>\n",
       "      <th>3</th>\n",
       "      <td>4</td>\n",
       "      <td>3.00</td>\n",
       "      <td>1.0</td>\n",
       "      <td>1965</td>\n",
       "      <td>0.0</td>\n",
       "      <td>910.0</td>\n",
       "      <td>5</td>\n",
       "      <td>1050</td>\n",
       "      <td>98136</td>\n",
       "      <td>604000.0</td>\n",
       "    </tr>\n",
       "    <tr>\n",
       "      <th>4</th>\n",
       "      <td>3</td>\n",
       "      <td>2.00</td>\n",
       "      <td>1.0</td>\n",
       "      <td>1987</td>\n",
       "      <td>0.0</td>\n",
       "      <td>0.0</td>\n",
       "      <td>3</td>\n",
       "      <td>1680</td>\n",
       "      <td>98074</td>\n",
       "      <td>510000.0</td>\n",
       "    </tr>\n",
       "    <tr>\n",
       "      <th>...</th>\n",
       "      <td>...</td>\n",
       "      <td>...</td>\n",
       "      <td>...</td>\n",
       "      <td>...</td>\n",
       "      <td>...</td>\n",
       "      <td>...</td>\n",
       "      <td>...</td>\n",
       "      <td>...</td>\n",
       "      <td>...</td>\n",
       "      <td>...</td>\n",
       "    </tr>\n",
       "    <tr>\n",
       "      <th>21592</th>\n",
       "      <td>3</td>\n",
       "      <td>2.50</td>\n",
       "      <td>3.0</td>\n",
       "      <td>2009</td>\n",
       "      <td>0.0</td>\n",
       "      <td>0.0</td>\n",
       "      <td>3</td>\n",
       "      <td>1530</td>\n",
       "      <td>98103</td>\n",
       "      <td>360000.0</td>\n",
       "    </tr>\n",
       "    <tr>\n",
       "      <th>21593</th>\n",
       "      <td>4</td>\n",
       "      <td>2.50</td>\n",
       "      <td>2.0</td>\n",
       "      <td>2014</td>\n",
       "      <td>0.0</td>\n",
       "      <td>0.0</td>\n",
       "      <td>3</td>\n",
       "      <td>2310</td>\n",
       "      <td>98146</td>\n",
       "      <td>400000.0</td>\n",
       "    </tr>\n",
       "    <tr>\n",
       "      <th>21594</th>\n",
       "      <td>2</td>\n",
       "      <td>0.75</td>\n",
       "      <td>2.0</td>\n",
       "      <td>2009</td>\n",
       "      <td>0.0</td>\n",
       "      <td>0.0</td>\n",
       "      <td>3</td>\n",
       "      <td>1020</td>\n",
       "      <td>98144</td>\n",
       "      <td>402101.0</td>\n",
       "    </tr>\n",
       "    <tr>\n",
       "      <th>21595</th>\n",
       "      <td>3</td>\n",
       "      <td>2.50</td>\n",
       "      <td>2.0</td>\n",
       "      <td>2004</td>\n",
       "      <td>0.0</td>\n",
       "      <td>0.0</td>\n",
       "      <td>3</td>\n",
       "      <td>1600</td>\n",
       "      <td>98027</td>\n",
       "      <td>400000.0</td>\n",
       "    </tr>\n",
       "    <tr>\n",
       "      <th>21596</th>\n",
       "      <td>2</td>\n",
       "      <td>0.75</td>\n",
       "      <td>2.0</td>\n",
       "      <td>2008</td>\n",
       "      <td>0.0</td>\n",
       "      <td>0.0</td>\n",
       "      <td>3</td>\n",
       "      <td>1020</td>\n",
       "      <td>98144</td>\n",
       "      <td>325000.0</td>\n",
       "    </tr>\n",
       "  </tbody>\n",
       "</table>\n",
       "<p>21597 rows × 10 columns</p>\n",
       "</div>"
      ],
      "text/plain": [
       "       Bedrooms  Bathrooms  Floors  Year Built  Year Renoveted  \\\n",
       "0             3       1.00     1.0        1955             0.0   \n",
       "1             3       2.25     2.0        1951          1991.0   \n",
       "2             2       1.00     1.0        1933             NaN   \n",
       "3             4       3.00     1.0        1965             0.0   \n",
       "4             3       2.00     1.0        1987             0.0   \n",
       "...         ...        ...     ...         ...             ...   \n",
       "21592         3       2.50     3.0        2009             0.0   \n",
       "21593         4       2.50     2.0        2014             0.0   \n",
       "21594         2       0.75     2.0        2009             0.0   \n",
       "21595         3       2.50     2.0        2004             0.0   \n",
       "21596         2       0.75     2.0        2008             0.0   \n",
       "\n",
       "      Size of Basement  Condition  Size of Above  Location     Price  \n",
       "0                  0.0          3           1180     98178  221900.0  \n",
       "1                400.0          3           2170     98125  538000.0  \n",
       "2                  0.0          3            770     98028  180000.0  \n",
       "3                910.0          5           1050     98136  604000.0  \n",
       "4                  0.0          3           1680     98074  510000.0  \n",
       "...                ...        ...            ...       ...       ...  \n",
       "21592              0.0          3           1530     98103  360000.0  \n",
       "21593              0.0          3           2310     98146  400000.0  \n",
       "21594              0.0          3           1020     98144  402101.0  \n",
       "21595              0.0          3           1600     98027  400000.0  \n",
       "21596              0.0          3           1020     98144  325000.0  \n",
       "\n",
       "[21597 rows x 10 columns]"
      ]
     },
     "execution_count": 91,
     "metadata": {},
     "output_type": "execute_result"
    }
   ],
   "source": [
    "house_info"
   ]
  },
  {
   "cell_type": "code",
   "execution_count": 95,
   "metadata": {},
   "outputs": [
    {
     "data": {
      "text/plain": [
       "3     9824\n",
       "4     6882\n",
       "2     2760\n",
       "5     1601\n",
       "6      272\n",
       "1      196\n",
       "7       38\n",
       "8       13\n",
       "9        6\n",
       "10       3\n",
       "33       1\n",
       "11       1\n",
       "Name: Bedrooms, dtype: int64"
      ]
     },
     "execution_count": 95,
     "metadata": {},
     "output_type": "execute_result"
    }
   ],
   "source": [
    "house_info[\"Bedrooms\"].value_counts()"
   ]
  },
  {
   "cell_type": "code",
   "execution_count": 96,
   "metadata": {},
   "outputs": [
    {
     "data": {
      "text/plain": [
       "350000.0    172\n",
       "450000.0    172\n",
       "550000.0    159\n",
       "500000.0    152\n",
       "425000.0    150\n",
       "           ... \n",
       "285750.0      1\n",
       "162950.0      1\n",
       "612995.0      1\n",
       "255544.0      1\n",
       "897000.0      1\n",
       "Name: Price, Length: 3622, dtype: int64"
      ]
     },
     "execution_count": 96,
     "metadata": {},
     "output_type": "execute_result"
    }
   ],
   "source": [
    "house_info[\"Price\"].value_counts()"
   ]
  },
  {
   "cell_type": "code",
   "execution_count": 97,
   "metadata": {},
   "outputs": [
    {
     "data": {
      "text/plain": [
       "98103    602\n",
       "98038    589\n",
       "98115    583\n",
       "98052    574\n",
       "98117    553\n",
       "        ... \n",
       "98102    104\n",
       "98010    100\n",
       "98024     80\n",
       "98148     57\n",
       "98039     50\n",
       "Name: Location, Length: 70, dtype: int64"
      ]
     },
     "execution_count": 97,
     "metadata": {},
     "output_type": "execute_result"
    }
   ],
   "source": [
    "house_info[\"Location\"].value_counts()"
   ]
  },
  {
   "cell_type": "code",
   "execution_count": 388,
   "metadata": {
    "tags": []
   },
   "outputs": [
    {
     "data": {
      "text/plain": [
       "4403"
      ]
     },
     "execution_count": 388,
     "metadata": {},
     "output_type": "execute_result"
    }
   ],
   "source": [
    "def PRICE_BEDROOM(AMOUNT_BEDROOM):\n",
    "    \n",
    "    locations = house_info['Location'].tolist()\n",
    "\n",
    "    amount_bed = house_info[\"Bedrooms\"].tolist()\n",
    "\n",
    "    bedrooms_index = []\n",
    "    for i,x in enumerate(amount_bed):\n",
    "        if x == AMOUNT_BEDROOM:bedrooms_index.append(i)\n",
    "    len(bedrooms_index)\n",
    "\n",
    "    bedrooms_southking = []\n",
    "    for i in bedrooms_index:\n",
    "        if locations[i] == 98092 : bedrooms_southking.append(i)\n",
    "        elif locations[i] == 98002 : bedrooms_southking.append(i)\n",
    "        elif locations[i] == 98001 : bedrooms_southking.append(i)\n",
    "        elif locations[i] == 98070 : bedrooms_southking.append(i)\n",
    "        elif locations[i] == 98038 : bedrooms_southking.append(i)\n",
    "        elif locations[i] == 98023 : bedrooms_southking.append(i)\n",
    "        elif locations[i] == 98003 : bedrooms_southking.append(i)\n",
    "        elif locations[i] == 98010 : bedrooms_southking.append(i)\n",
    "        elif locations[i] == 98022 : bedrooms_southking.append(i)\n",
    "        elif locations[i] == 98198 : bedrooms_southking.append(i)\n",
    "        elif locations[i] == 98188 : bedrooms_southking.append(i)\n",
    "        elif locations[i] == 98148 : bedrooms_southking.append(i)\n",
    "        elif locations[i] == 98042 : bedrooms_southking.append(i)\n",
    "        elif locations[i] == 98032 : bedrooms_southking.append(i)\n",
    "        elif locations[i] == 98031 : bedrooms_southking.append(i)\n",
    "        elif locations[i] == 98030 : bedrooms_southking.append(i)\n",
    "\n",
    "    price = house_info[\"Price\"].tolist()\n",
    "\n",
    "    price_southking = []\n",
    "    for i in bedrooms_southking:price_southking.append(price[i])\n",
    "    return(price_southking)\n",
    "\n",
    "no_of_bedrooms = house_info[\"Bedrooms\"].value_counts().index.tolist()\n",
    "price_bedrooms_southking = []\n",
    "for i in no_of_bedrooms:\n",
    "    price_bedrooms_southking.append(PRICE_BEDROOM(i))\n",
    "price_bedrooms_southking= sum(price_bedrooms_southking, [])\n",
    "len(price_bedrooms_southking)"
   ]
  },
  {
   "cell_type": "code",
   "execution_count": 389,
   "metadata": {},
   "outputs": [
    {
     "data": {
      "text/plain": [
       "4403"
      ]
     },
     "execution_count": 389,
     "metadata": {},
     "output_type": "execute_result"
    }
   ],
   "source": [
    "def AMOUNT_BEDROOMS(AMOUNT_BEDROOM):\n",
    "    locations = house_info['Location'].tolist()\n",
    "\n",
    "    amount_bed = house_info[\"Bedrooms\"].tolist()\n",
    "    X_value = []\n",
    "    bedroom_index = []\n",
    "    for i,x in enumerate(amount_bed):\n",
    "        if x == AMOUNT_BEDROOM:bedroom_index.append(i)\n",
    "\n",
    "    for i in bedroom_index:\n",
    "        if locations[i] == 98092 : X_value.append(AMOUNT_BEDROOM)\n",
    "        elif locations[i] == 98002 : X_value.append(AMOUNT_BEDROOM)\n",
    "        elif locations[i] == 98001 : X_value.append(AMOUNT_BEDROOM)\n",
    "        elif locations[i] == 98070 : X_value.append(AMOUNT_BEDROOM)\n",
    "        elif locations[i] == 98038 : X_value.append(AMOUNT_BEDROOM)\n",
    "        elif locations[i] == 98023 : X_value.append(AMOUNT_BEDROOM)\n",
    "        elif locations[i] == 98003 : X_value.append(AMOUNT_BEDROOM)\n",
    "        elif locations[i] == 98010 : X_value.append(AMOUNT_BEDROOM)\n",
    "        elif locations[i] == 98022 : X_value.append(AMOUNT_BEDROOM)\n",
    "        elif locations[i] == 98198: X_value.append(AMOUNT_BEDROOM)\n",
    "        elif locations[i] == 98188 : X_value.append(AMOUNT_BEDROOM)\n",
    "        elif locations[i] == 98148 : X_value.append(AMOUNT_BEDROOM)\n",
    "        elif locations[i] == 98042 : X_value.append(AMOUNT_BEDROOM)\n",
    "        elif locations[i] == 98032 : X_value.append(AMOUNT_BEDROOM)\n",
    "        elif locations[i] == 98031 : X_value.append(AMOUNT_BEDROOM)\n",
    "        elif locations[i] == 98030 : X_value.append(AMOUNT_BEDROOM)\n",
    "    return X_value\n",
    "no_of_bedrooms = house_info[\"Bedrooms\"].value_counts().index.tolist()\n",
    "amount_bedrooms_southking = []\n",
    "for i in no_of_bedrooms:\n",
    "    amount_bedrooms_southking.append(AMOUNT_BEDROOMS(i))\n",
    "amount_bedrooms_southking= sum(amount_bedrooms_southking, [])\n",
    "len(amount_bedrooms_southking)"
   ]
  },
  {
   "cell_type": "code",
   "execution_count": 390,
   "metadata": {
    "scrolled": true
   },
   "outputs": [
    {
     "data": {
      "text/plain": [
       "<bound method NDFrame.head of       Amount of Bedrooms     Price\n",
       "0                      3  257500.0\n",
       "1                      3  291850.0\n",
       "2                      3  323000.0\n",
       "3                      3  230000.0\n",
       "4                      3  329000.0\n",
       "...                  ...       ...\n",
       "4398                   1  375000.0\n",
       "4399                   1  285000.0\n",
       "4400                   1  570000.0\n",
       "4401                   1  229500.0\n",
       "4402                   7  280000.0\n",
       "\n",
       "[4403 rows x 2 columns]>"
      ]
     },
     "execution_count": 390,
     "metadata": {},
     "output_type": "execute_result"
    }
   ],
   "source": [
    "regressiondata1 = pd.DataFrame({'Amount of Bedrooms':amount_bedrooms_southking,\n",
    "                                'Price':price_bedrooms_southking})\n",
    "regressiondata1.head"
   ]
  },
  {
   "cell_type": "code",
   "execution_count": 132,
   "metadata": {},
   "outputs": [
    {
     "data": {
      "image/png": "[encoded data removed]",
      "text/plain": [
       "<Figure size 720x720 with 1 Axes>"
      ]
     },
     "metadata": {
      "needs_background": "light"
     },
     "output_type": "display_data"
    }
   ],
   "source": [
    "x = regressiondata1['Amount of Bedrooms']\n",
    "y = regressiondata1['Price']\n",
    "plt.scatter(x,y, cmap = 'Reds',edgecolor = 'black',\n",
    "            linewidth = 1,alpha = .75,color='blue',s=250) \n",
    "plt.gcf().set_size_inches((10,10))\n",
    "plt.show()\n",
    "#s:changes size,c:changes colour"
   ]
  },
  {
   "cell_type": "code",
   "execution_count": 126,
   "metadata": {
    "scrolled": true
   },
   "outputs": [
    {
     "data": {
      "text/plain": [
       "[323000.0,\n",
       " 285000.0,\n",
       " 1350000.0,\n",
       " 292500.0,\n",
       " 301000.0,\n",
       " 287000.0,\n",
       " 360000.0,\n",
       " 720000.0,\n",
       " 390000.0,\n",
       " 360000.0,\n",
       " 243500.0,\n",
       " 480000.0,\n",
       " 260000.0,\n",
       " 256883.0,\n",
       " 297000.0,\n",
       " 465000.0,\n",
       " 472000.0,\n",
       " 363000.0,\n",
       " 245000.0,\n",
       " 290000.0,\n",
       " 272500.0,\n",
       " 365000.0,\n",
       " 455000.0,\n",
       " 370000.0,\n",
       " 360000.0,\n",
       " 335000.0,\n",
       " 208633.0,\n",
       " 390000.0,\n",
       " 260000.0,\n",
       " 300000.0,\n",
       " 329500.0,\n",
       " 322500.0,\n",
       " 268000.0,\n",
       " 245000.0,\n",
       " 325000.0,\n",
       " 342500.0,\n",
       " 328500.0,\n",
       " 295000.0,\n",
       " 270500.0,\n",
       " 331500.0,\n",
       " 338900.0,\n",
       " 266000.0,\n",
       " 296000.0,\n",
       " 260000.0,\n",
       " 305000.0,\n",
       " 609900.0,\n",
       " 320000.0,\n",
       " 530000.0,\n",
       " 390000.0,\n",
       " 289950.0,\n",
       " 347500.0,\n",
       " 360000.0,\n",
       " 405000.0,\n",
       " 370000.0,\n",
       " 310950.0,\n",
       " 332000.0,\n",
       " 265000.0,\n",
       " 280000.0,\n",
       " 289999.0,\n",
       " 395000.0,\n",
       " 324000.0,\n",
       " 288400.0,\n",
       " 378000.0,\n",
       " 253000.0,\n",
       " 469500.0,\n",
       " 291000.0,\n",
       " 325000.0,\n",
       " 321500.0,\n",
       " 315000.0,\n",
       " 380000.0,\n",
       " 515000.0,\n",
       " 367000.0,\n",
       " 350900.0,\n",
       " 298900.0,\n",
       " 305000.0,\n",
       " 254000.0,\n",
       " 245000.0,\n",
       " 320000.0,\n",
       " 350000.0,\n",
       " 295700.0,\n",
       " 390000.0,\n",
       " 302495.0,\n",
       " 470000.0,\n",
       " 325000.0,\n",
       " 375000.0,\n",
       " 556000.0,\n",
       " 620000.0,\n",
       " 585000.0,\n",
       " 303700.0,\n",
       " 267000.0,\n",
       " 292000.0,\n",
       " 354000.0,\n",
       " 340000.0,\n",
       " 355000.0,\n",
       " 360000.0,\n",
       " 303000.0,\n",
       " 650000.0,\n",
       " 330000.0,\n",
       " 335000.0,\n",
       " 429000.0,\n",
       " 338000.0,\n",
       " 305000.0,\n",
       " 315000.0,\n",
       " 339000.0,\n",
       " 410500.0,\n",
       " 284200.0,\n",
       " 345000.0,\n",
       " 250000.0,\n",
       " 402500.0,\n",
       " 399950.0,\n",
       " 280000.0,\n",
       " 352000.0,\n",
       " 272000.0,\n",
       " 297000.0,\n",
       " 349000.0,\n",
       " 295000.0,\n",
       " 383000.0,\n",
       " 279000.0,\n",
       " 310000.0,\n",
       " 180500.0,\n",
       " 325000.0,\n",
       " 280000.0,\n",
       " 346300.0,\n",
       " 270000.0,\n",
       " 333000.0,\n",
       " 360000.0,\n",
       " 347000.0,\n",
       " 340000.0,\n",
       " 398000.0,\n",
       " 275000.0,\n",
       " 265000.0,\n",
       " 525000.0,\n",
       " 265000.0,\n",
       " 372400.0,\n",
       " 270000.0,\n",
       " 213550.0,\n",
       " 275000.0,\n",
       " 342000.0,\n",
       " 264900.0,\n",
       " 358000.0,\n",
       " 325000.0,\n",
       " 520000.0,\n",
       " 255000.0,\n",
       " 262000.0,\n",
       " 365000.0,\n",
       " 269950.0,\n",
       " 299500.0,\n",
       " 322500.0,\n",
       " 335000.0,\n",
       " 445000.0,\n",
       " 306000.0,\n",
       " 332000.0,\n",
       " 353000.0,\n",
       " 269000.0,\n",
       " 356500.0,\n",
       " 390000.0,\n",
       " 299900.0,\n",
       " 235000.0,\n",
       " 276000.0,\n",
       " 313000.0,\n",
       " 649000.0,\n",
       " 330000.0,\n",
       " 378500.0,\n",
       " 482000.0,\n",
       " 337500.0,\n",
       " 399950.0,\n",
       " 355000.0,\n",
       " 259000.0,\n",
       " 225000.0,\n",
       " 278000.0,\n",
       " 298500.0,\n",
       " 397000.0,\n",
       " 388000.0,\n",
       " 266000.0,\n",
       " 352000.0,\n",
       " 346950.0,\n",
       " 325900.0,\n",
       " 275000.0,\n",
       " 310000.0,\n",
       " 274900.0,\n",
       " 522000.0,\n",
       " 248000.0,\n",
       " 256000.0,\n",
       " 699000.0,\n",
       " 299950.0,\n",
       " 392000.0,\n",
       " 365000.0,\n",
       " 325000.0,\n",
       " 329500.0,\n",
       " 348000.0,\n",
       " 200000.0,\n",
       " 485000.0,\n",
       " 316000.0,\n",
       " 325000.0,\n",
       " 285000.0,\n",
       " 515000.0,\n",
       " 414000.0,\n",
       " 269000.0,\n",
       " 270000.0,\n",
       " 530000.0,\n",
       " 153503.0,\n",
       " 295000.0,\n",
       " 428000.0,\n",
       " 299000.0,\n",
       " 304000.0,\n",
       " 418000.0,\n",
       " 297500.0,\n",
       " 373000.0,\n",
       " 299950.0,\n",
       " 335000.0,\n",
       " 355000.0,\n",
       " 277950.0,\n",
       " 350000.0,\n",
       " 464000.0,\n",
       " 335000.0,\n",
       " 245000.0,\n",
       " 158000.0,\n",
       " 449900.0,\n",
       " 472500.0,\n",
       " 286950.0,\n",
       " 549950.0,\n",
       " 630000.0,\n",
       " 359950.0,\n",
       " 367000.0,\n",
       " 535000.0,\n",
       " 325000.0,\n",
       " 425000.0,\n",
       " 270000.0,\n",
       " 408500.0,\n",
       " 317000.0,\n",
       " 235500.0,\n",
       " 279000.0,\n",
       " 350000.0,\n",
       " 318700.0,\n",
       " 905000.0,\n",
       " 382450.0,\n",
       " 280000.0,\n",
       " 350000.0,\n",
       " 649950.0,\n",
       " 365070.0,\n",
       " 245000.0,\n",
       " 320000.0,\n",
       " 335000.0,\n",
       " 360000.0,\n",
       " 270000.0,\n",
       " 379260.0,\n",
       " 550000.0,\n",
       " 261500.0,\n",
       " 260000.0,\n",
       " 465000.0,\n",
       " 339000.0,\n",
       " 399000.0,\n",
       " 270000.0,\n",
       " 275000.0,\n",
       " 402000.0,\n",
       " 225000.0,\n",
       " 340000.0,\n",
       " 444900.0,\n",
       " 305000.0,\n",
       " 330000.0,\n",
       " 295500.0,\n",
       " 300000.0,\n",
       " 312000.0,\n",
       " 275000.0,\n",
       " 345000.0,\n",
       " 362300.0,\n",
       " 421000.0,\n",
       " 302500.0,\n",
       " 268000.0,\n",
       " 293000.0,\n",
       " 370000.0,\n",
       " 399950.0,\n",
       " 289950.0,\n",
       " 390000.0,\n",
       " 299800.0,\n",
       " 300000.0,\n",
       " 287000.0,\n",
       " 275000.0,\n",
       " 350000.0,\n",
       " 260000.0,\n",
       " 429000.0,\n",
       " 310000.0,\n",
       " 410000.0,\n",
       " 349000.0,\n",
       " 339900.0,\n",
       " 330000.0,\n",
       " 320000.0,\n",
       " 325000.0,\n",
       " 350000.0,\n",
       " 240000.0,\n",
       " 559000.0,\n",
       " 386500.0,\n",
       " 214100.0,\n",
       " 317000.0,\n",
       " 482000.0,\n",
       " 324950.0,\n",
       " 859000.0,\n",
       " 300000.0,\n",
       " 311000.0,\n",
       " 310000.0,\n",
       " 308130.0,\n",
       " 299000.0,\n",
       " 320000.0,\n",
       " 489000.0,\n",
       " 420000.0,\n",
       " 395000.0,\n",
       " 308000.0,\n",
       " 355000.0,\n",
       " 368000.0,\n",
       " 397450.0,\n",
       " 379000.0,\n",
       " 349000.0,\n",
       " 288000.0,\n",
       " 241500.0,\n",
       " 350000.0,\n",
       " 319950.0,\n",
       " 303500.0,\n",
       " 335000.0,\n",
       " 364250.0,\n",
       " 231000.0,\n",
       " 419000.0,\n",
       " 319900.0,\n",
       " 345000.0,\n",
       " 425000.0,\n",
       " 325000.0,\n",
       " 475000.0,\n",
       " 365000.0,\n",
       " 485000.0,\n",
       " 421000.0,\n",
       " 289000.0,\n",
       " 428400.0,\n",
       " 250000.0,\n",
       " 266000.0,\n",
       " 375000.0,\n",
       " 269000.0,\n",
       " 355425.0,\n",
       " 430000.0,\n",
       " 286000.0,\n",
       " 350000.0,\n",
       " 325000.0,\n",
       " 336000.0,\n",
       " 400000.0,\n",
       " 265000.0,\n",
       " 397500.0,\n",
       " 339000.0,\n",
       " 215000.0,\n",
       " 424000.0,\n",
       " 385000.0,\n",
       " 325000.0,\n",
       " 338500.0,\n",
       " 455000.0,\n",
       " 490000.0,\n",
       " 345950.0,\n",
       " 295000.0,\n",
       " 325000.0,\n",
       " 663000.0,\n",
       " 320000.0,\n",
       " 285000.0,\n",
       " 315000.0,\n",
       " 325900.0,\n",
       " 215000.0,\n",
       " 315000.0,\n",
       " 316500.0,\n",
       " 352500.0,\n",
       " 252000.0,\n",
       " 419000.0,\n",
       " 321000.0,\n",
       " 329950.0,\n",
       " 438900.0,\n",
       " 792500.0,\n",
       " 533000.0,\n",
       " 713900.0,\n",
       " 427500.0,\n",
       " 320000.0,\n",
       " 639900.0,\n",
       " 420000.0,\n",
       " 610000.0,\n",
       " 239975.0,\n",
       " 350000.0,\n",
       " 640000.0,\n",
       " 449000.0,\n",
       " 334000.0,\n",
       " 408000.0,\n",
       " 273000.0,\n",
       " 353500.0,\n",
       " 320000.0,\n",
       " 490000.0,\n",
       " 355000.0,\n",
       " 426500.0,\n",
       " 480000.0,\n",
       " 306500.0,\n",
       " 386000.0,\n",
       " 251100.0,\n",
       " 324950.0,\n",
       " 245000.0,\n",
       " 725000.0,\n",
       " 278500.0,\n",
       " 286000.0,\n",
       " 284000.0,\n",
       " 355000.0,\n",
       " 760000.0,\n",
       " 500000.0,\n",
       " 318400.0,\n",
       " 366000.0,\n",
       " 303000.0,\n",
       " 340000.0,\n",
       " 242550.0,\n",
       " 384900.0,\n",
       " 323000.0,\n",
       " 449950.0,\n",
       " 286000.0,\n",
       " 277000.0,\n",
       " 292000.0,\n",
       " 224950.0,\n",
       " 515000.0,\n",
       " 275000.0,\n",
       " 332500.0,\n",
       " 286651.0,\n",
       " 270000.0,\n",
       " 312000.0,\n",
       " 349900.0,\n",
       " 465000.0,\n",
       " 319990.0,\n",
       " 280500.0,\n",
       " 316000.0,\n",
       " 325000.0,\n",
       " 359500.0,\n",
       " 292000.0,\n",
       " 378800.0,\n",
       " 365000.0,\n",
       " 390000.0,\n",
       " 307550.0,\n",
       " 318200.0,\n",
       " 284000.0,\n",
       " 295000.0,\n",
       " 419900.0,\n",
       " 250000.0,\n",
       " 280017.0,\n",
       " 287000.0,\n",
       " 225000.0,\n",
       " 352500.0,\n",
       " 243500.0,\n",
       " 292500.0,\n",
       " 355000.0,\n",
       " 456500.0,\n",
       " 315000.0,\n",
       " 428900.0,\n",
       " 308950.0,\n",
       " 409000.0,\n",
       " 302000.0,\n",
       " 363500.0,\n",
       " 263000.0,\n",
       " 304000.0,\n",
       " 450000.0,\n",
       " 292500.0,\n",
       " 340000.0,\n",
       " 312500.0,\n",
       " 272000.0,\n",
       " 415000.0,\n",
       " 297500.0,\n",
       " 325000.0,\n",
       " 350000.0,\n",
       " 565000.0,\n",
       " 645000.0,\n",
       " 255000.0,\n",
       " 679000.0,\n",
       " 236775.0,\n",
       " 300000.0,\n",
       " 300000.0,\n",
       " 363000.0,\n",
       " 296000.0,\n",
       " 380000.0,\n",
       " 250000.0,\n",
       " 295000.0,\n",
       " 394000.0,\n",
       " 485000.0,\n",
       " 305000.0,\n",
       " 440000.0,\n",
       " 430000.0,\n",
       " 325000.0,\n",
       " 321000.0,\n",
       " 299995.0,\n",
       " 278800.0,\n",
       " 252500.0,\n",
       " 616000.0,\n",
       " 320000.0,\n",
       " 475000.0,\n",
       " 293000.0,\n",
       " 285000.0,\n",
       " 305000.0,\n",
       " 425000.0,\n",
       " 308000.0,\n",
       " 238000.0,\n",
       " 279000.0,\n",
       " 287000.0,\n",
       " 345000.0,\n",
       " 328000.0,\n",
       " 268000.0,\n",
       " 260000.0,\n",
       " 258000.0,\n",
       " 297000.0,\n",
       " 300000.0,\n",
       " 579000.0,\n",
       " 320900.0,\n",
       " 329000.0,\n",
       " 400000.0,\n",
       " 220000.0,\n",
       " 340000.0,\n",
       " 285000.0,\n",
       " 317000.0,\n",
       " 314950.0,\n",
       " 262000.0,\n",
       " 452000.0,\n",
       " 319000.0,\n",
       " 335000.0,\n",
       " 245000.0,\n",
       " 340000.0,\n",
       " 285000.0,\n",
       " 360000.0,\n",
       " 330000.0,\n",
       " 299900.0,\n",
       " 270000.0,\n",
       " 285000.0,\n",
       " 329950.0,\n",
       " 300000.0,\n",
       " 404000.0,\n",
       " 410000.0,\n",
       " 330000.0,\n",
       " 348000.0,\n",
       " 301000.0,\n",
       " 364988.0,\n",
       " 380000.0,\n",
       " 550000.0,\n",
       " 380000.0,\n",
       " 550000.0,\n",
       " 285000.0,\n",
       " 490600.0,\n",
       " 298000.0,\n",
       " 281000.0,\n",
       " 269000.0,\n",
       " 214000.0,\n",
       " 275000.0,\n",
       " 449000.0,\n",
       " 284000.0,\n",
       " 315000.0,\n",
       " 399900.0,\n",
       " 245000.0,\n",
       " 426000.0,\n",
       " 790000.0,\n",
       " 259875.0,\n",
       " 382500.0,\n",
       " 349950.0,\n",
       " 329800.0,\n",
       " 545000.0,\n",
       " 415000.0,\n",
       " 345000.0,\n",
       " 651000.0,\n",
       " 338000.0,\n",
       " 353000.0,\n",
       " 569999.0,\n",
       " 400000.0,\n",
       " 315000.0,\n",
       " 310000.0,\n",
       " 289000.0,\n",
       " 650000.0,\n",
       " 462000.0,\n",
       " 265000.0,\n",
       " 270000.0,\n",
       " 327500.0,\n",
       " 565000.0,\n",
       " 660000.0,\n",
       " 309000.0,\n",
       " 334950.0,\n",
       " 551870.0,\n",
       " 295000.0,\n",
       " 229950.0,\n",
       " 344900.0,\n",
       " 262000.0,\n",
       " 305000.0,\n",
       " 225000.0,\n",
       " 375000.0,\n",
       " 350000.0,\n",
       " 309900.0,\n",
       " 213400.0,\n",
       " 250600.0,\n",
       " 352000.0,\n",
       " 291500.0,\n",
       " 279000.0,\n",
       " 347500.0,\n",
       " 267500.0,\n",
       " 305000.0,\n",
       " 175000.0,\n",
       " 380000.0,\n",
       " 725000.0,\n",
       " 165000.0,\n",
       " 340000.0,\n",
       " 325000.0,\n",
       " 283200.0,\n",
       " 460000.0,\n",
       " 450000.0,\n",
       " 240000.0,\n",
       " 323800.0,\n",
       " 265000.0,\n",
       " 359950.0,\n",
       " 331950.0,\n",
       " 357000.0,\n",
       " 479000.0,\n",
       " 272000.0,\n",
       " 354000.0,\n",
       " 300000.0,\n",
       " 309950.0,\n",
       " 374950.0,\n",
       " 265500.0,\n",
       " 315000.0,\n",
       " 357000.0,\n",
       " 306000.0,\n",
       " 360000.0,\n",
       " 378000.0,\n",
       " 290000.0,\n",
       " 260000.0,\n",
       " 352000.0,\n",
       " 290000.0,\n",
       " 308950.0,\n",
       " 342000.0,\n",
       " 205000.0,\n",
       " 369950.0,\n",
       " 583000.0,\n",
       " 262000.0,\n",
       " 430000.0,\n",
       " 275000.0,\n",
       " 299000.0,\n",
       " 319000.0,\n",
       " 350000.0,\n",
       " 285000.0,\n",
       " 389950.0,\n",
       " 600000.0,\n",
       " 275000.0,\n",
       " 260000.0,\n",
       " 215000.0,\n",
       " 292500.0,\n",
       " 254000.0,\n",
       " 324360.0,\n",
       " 395000.0,\n",
       " 295000.0,\n",
       " 401500.0,\n",
       " 309900.0,\n",
       " 350000.0,\n",
       " 344200.0,\n",
       " 324000.0,\n",
       " 276200.0,\n",
       " 285000.0,\n",
       " 350000.0,\n",
       " 375000.0,\n",
       " 239950.0,\n",
       " 774950.0,\n",
       " 359000.0,\n",
       " 347500.0,\n",
       " 445000.0,\n",
       " 350000.0,\n",
       " 379900.0,\n",
       " 244615.0,\n",
       " 449500.0,\n",
       " 400000.0,\n",
       " 300000.0,\n",
       " 269100.0,\n",
       " 340000.0,\n",
       " 345000.0,\n",
       " 300000.0,\n",
       " 420000.0,\n",
       " 371000.0,\n",
       " 240000.0,\n",
       " 370000.0,\n",
       " 299000.0,\n",
       " 305000.0,\n",
       " 291000.0,\n",
       " 390000.0,\n",
       " 297262.0,\n",
       " 357000.0,\n",
       " 525000.0,\n",
       " 280000.0,\n",
       " 400000.0,\n",
       " 299990.0,\n",
       " 665000.0,\n",
       " 339950.0,\n",
       " 314500.0,\n",
       " 290000.0,\n",
       " 339500.0,\n",
       " 299900.0,\n",
       " 306000.0,\n",
       " 305000.0,\n",
       " 485000.0,\n",
       " 256750.0,\n",
       " 256000.0,\n",
       " 575000.0,\n",
       " 350000.0,\n",
       " 260000.0,\n",
       " 427000.0,\n",
       " 358500.0,\n",
       " 295000.0,\n",
       " 403900.0,\n",
       " 300000.0,\n",
       " 511000.0,\n",
       " 370000.0,\n",
       " 710000.0,\n",
       " 314950.0,\n",
       " 530000.0,\n",
       " 495000.0,\n",
       " 334950.0,\n",
       " 495000.0,\n",
       " 300000.0,\n",
       " 514500.0,\n",
       " 199000.0,\n",
       " 279900.0,\n",
       " 210000.0,\n",
       " 349950.0,\n",
       " 299999.0,\n",
       " 360000.0,\n",
       " 422000.0,\n",
       " 359900.0,\n",
       " 311000.0,\n",
       " 305000.0,\n",
       " 190000.0,\n",
       " 205000.0,\n",
       " 422500.0,\n",
       " 191950.0,\n",
       " 705000.0,\n",
       " 589450.0,\n",
       " 319950.0,\n",
       " 255000.0,\n",
       " 299950.0,\n",
       " 302500.0,\n",
       " 260000.0,\n",
       " 256000.0,\n",
       " 372000.0,\n",
       " 312000.0,\n",
       " 362000.0,\n",
       " 364900.0,\n",
       " 319950.0,\n",
       " 335000.0,\n",
       " 319000.0,\n",
       " 199950.0,\n",
       " 339950.0,\n",
       " 380000.0,\n",
       " 294400.0,\n",
       " 255000.0,\n",
       " 354000.0,\n",
       " 400000.0,\n",
       " 625000.0,\n",
       " 365000.0,\n",
       " 247000.0,\n",
       " 365000.0,\n",
       " 350500.0,\n",
       " 216300.0,\n",
       " 325000.0,\n",
       " 315000.0,\n",
       " 479000.0,\n",
       " 675000.0,\n",
       " 340000.0,\n",
       " 310000.0,\n",
       " 289000.0,\n",
       " 382500.0,\n",
       " 438950.0,\n",
       " 260000.0,\n",
       " 375000.0,\n",
       " 267000.0,\n",
       " 374950.0,\n",
       " 270000.0,\n",
       " 325000.0,\n",
       " 353000.0,\n",
       " 324950.0,\n",
       " 604000.0,\n",
       " 336500.0,\n",
       " 225000.0,\n",
       " 539500.0,\n",
       " 297000.0,\n",
       " 377500.0,\n",
       " 450000.0,\n",
       " 356000.0,\n",
       " 348450.0,\n",
       " 333000.0,\n",
       " 282000.0,\n",
       " 445000.0,\n",
       " 361500.0,\n",
       " 370000.0,\n",
       " 261500.0,\n",
       " 278000.0,\n",
       " 258500.0,\n",
       " 345500.0,\n",
       " 340000.0,\n",
       " 450000.0,\n",
       " 316000.0,\n",
       " 320000.0,\n",
       " 268000.0,\n",
       " 305000.0,\n",
       " 339950.0,\n",
       " 280000.0,\n",
       " 330000.0,\n",
       " 290000.0,\n",
       " 360000.0,\n",
       " 250000.0,\n",
       " 485000.0,\n",
       " 300000.0,\n",
       " 245000.0,\n",
       " 750000.0,\n",
       " 360000.0,\n",
       " 266950.0,\n",
       " 777700.0,\n",
       " 270000.0,\n",
       " 319950.0,\n",
       " 256900.0,\n",
       " 260000.0,\n",
       " 419000.0,\n",
       " 395000.0,\n",
       " 265000.0,\n",
       " 459950.0,\n",
       " 279000.0,\n",
       " 293500.0,\n",
       " 270000.0,\n",
       " 280000.0,\n",
       " 235000.0,\n",
       " 324900.0,\n",
       " 320000.0,\n",
       " 790000.0,\n",
       " 200000.0,\n",
       " 355000.0,\n",
       " 220000.0,\n",
       " 249900.0,\n",
       " 290000.0,\n",
       " 394000.0,\n",
       " 310000.0,\n",
       " 339950.0,\n",
       " 353500.0,\n",
       " 300000.0,\n",
       " 360000.0,\n",
       " 280000.0,\n",
       " 295000.0,\n",
       " 445000.0,\n",
       " 300000.0,\n",
       " 333000.0,\n",
       " 339995.0,\n",
       " 270000.0,\n",
       " 325000.0,\n",
       " 599950.0,\n",
       " 372000.0,\n",
       " 225000.0,\n",
       " 325000.0,\n",
       " 339100.0,\n",
       " 300000.0,\n",
       " 380000.0,\n",
       " 375000.0,\n",
       " 365000.0,\n",
       " 306000.0,\n",
       " 367950.0,\n",
       " 574000.0,\n",
       " 277500.0,\n",
       " 212000.0,\n",
       " 315000.0,\n",
       " 289000.0,\n",
       " 374950.0,\n",
       " 260000.0,\n",
       " 321500.0,\n",
       " 286000.0,\n",
       " 280000.0,\n",
       " 374000.0,\n",
       " 396500.0,\n",
       " 397000.0,\n",
       " 567500.0,\n",
       " 337000.0,\n",
       " 353500.0,\n",
       " 234000.0,\n",
       " 200126.0,\n",
       " 290700.0,\n",
       " 299999.0,\n",
       " 359800.0,\n",
       " 234500.0,\n",
       " 400000.0,\n",
       " 322000.0,\n",
       " 234950.0,\n",
       " 242050.0,\n",
       " 335000.0,\n",
       " 760000.0,\n",
       " 282000.0,\n",
       " 295000.0,\n",
       " 712000.0,\n",
       " 312200.0,\n",
       " 299000.0,\n",
       " 255000.0,\n",
       " 270000.0,\n",
       " 290000.0,\n",
       " 373500.0,\n",
       " 295000.0,\n",
       " 305950.0,\n",
       " 220000.0,\n",
       " 700000.0,\n",
       " 240000.0,\n",
       " 285000.0,\n",
       " 300000.0,\n",
       " 367000.0,\n",
       " 220000.0,\n",
       " 308000.0,\n",
       " 269950.0,\n",
       " 270000.0,\n",
       " 267000.0,\n",
       " 360000.0,\n",
       " 499000.0,\n",
       " 340000.0,\n",
       " 358800.0,\n",
       " 321000.0,\n",
       " 351000.0,\n",
       " 340000.0,\n",
       " 289000.0,\n",
       " 230000.0,\n",
       " 335000.0,\n",
       " 289950.0,\n",
       " 283500.0,\n",
       " 370000.0,\n",
       " 250000.0,\n",
       " 295000.0,\n",
       " 339999.0,\n",
       " 325000.0,\n",
       " 335000.0,\n",
       " 340000.0,\n",
       " 476000.0,\n",
       " 319000.0,\n",
       " 330000.0,\n",
       " 246000.0,\n",
       " 248000.0,\n",
       " 279000.0,\n",
       " 381500.0,\n",
       " 278226.0,\n",
       " 305000.0,\n",
       " 290000.0,\n",
       " 330000.0,\n",
       " 349950.0,\n",
       " 260000.0,\n",
       " 415000.0,\n",
       " 348000.0,\n",
       " 320000.0,\n",
       " 560000.0,\n",
       " 330000.0,\n",
       " 294000.0,\n",
       " 398000.0,\n",
       " 330000.0,\n",
       " 275000.0,\n",
       " 506000.0,\n",
       " 334950.0,\n",
       " 253000.0,\n",
       " 368000.0,\n",
       " 355900.0,\n",
       " 355000.0,\n",
       " 450000.0,\n",
       " 418200.0,\n",
       " 465000.0,\n",
       " 276900.0,\n",
       " 300000.0,\n",
       " 315000.0,\n",
       " 320000.0,\n",
       " 315000.0,\n",
       " 277500.0,\n",
       " 335000.0,\n",
       " 435000.0,\n",
       " 499950.0,\n",
       " 312000.0,\n",
       " 280000.0,\n",
       " 300499.0,\n",
       " 379950.0,\n",
       " 299250.0,\n",
       " 276000.0,\n",
       " 240000.0,\n",
       " 819000.0,\n",
       " 350000.0,\n",
       " 376950.0,\n",
       " 265000.0,\n",
       " 455000.0,\n",
       " 470000.0,\n",
       " 389950.0,\n",
       " 278000.0,\n",
       " 340000.0,\n",
       " 385000.0,\n",
       " 549000.0,\n",
       " 450000.0,\n",
       " 270000.0,\n",
       " 314000.0,\n",
       " 700000.0,\n",
       " 264500.0,\n",
       " 287500.0,\n",
       " 275000.0,\n",
       " 300000.0,\n",
       " 387990.0,\n",
       " 300000.0,\n",
       " 311500.0,\n",
       " 160000.0,\n",
       " 270000.0,\n",
       " 289950.0,\n",
       " 321000.0,\n",
       " 280000.0,\n",
       " 288000.0,\n",
       " 330000.0,\n",
       " 280000.0,\n",
       " 267000.0,\n",
       " ...]"
      ]
     },
     "execution_count": 126,
     "metadata": {},
     "output_type": "execute_result"
    }
   ],
   "source": [
    "def PRICE_BATHROOM(AMOUNT_BATHROOM):\n",
    "    \n",
    "    locations = house_info['Location'].tolist()\n",
    "\n",
    "    amount_bath = house_info[\"Bathrooms\"].tolist()\n",
    "\n",
    "    bathroom_index = []\n",
    "    for i,x in enumerate(amount_bath):\n",
    "        if x == AMOUNT_BATHROOM:bathroom_index.append(i)\n",
    "    len(bathroom_index)\n",
    "\n",
    "    bathroom_southking = []\n",
    "    for i in bathroom_index:\n",
    "        if locations[i] == 98092 : bathroom_southking.append(i)\n",
    "        elif locations[i] == 98002 : bathroom_southking.append(i)\n",
    "        elif locations[i] == 98001 : bathroom_southking.append(i)\n",
    "        elif locations[i] == 98070 : bathroom_southking.append(i)\n",
    "        elif locations[i] == 98038 : bathroom_southking.append(i)\n",
    "        elif locations[i] == 98023 : bathroom_southking.append(i)\n",
    "        elif locations[i] == 98003 : bathroom_southking.append(i)\n",
    "        elif locations[i] == 98010 : bathroom_southking.append(i)\n",
    "        elif locations[i] == 98022 : bathroom_southking.append(i)\n",
    "        elif locations[i] == 98198 : bathroom_southking.append(i)\n",
    "        elif locations[i] == 98188 : bathroom_southking.append(i)\n",
    "        elif locations[i] == 98148 : bathroom_southking.append(i)\n",
    "        elif locations[i] == 98042 : bathroom_southking.append(i)\n",
    "        elif locations[i] == 98032 : bathroom_southking.append(i)\n",
    "        elif locations[i] == 98031 : bathroom_southking.append(i)\n",
    "        elif locations[i] == 98030 : bathroom_southking.append(i)\n",
    "\n",
    "    price = house_info[\"Price\"].tolist()\n",
    "\n",
    "    price_southking = []\n",
    "    for i in bathroom_southking:price_southking.append(price[i])\n",
    "    return(price_southking)\n",
    "\n",
    "no_of_bathrooms = house_info[\"Bathrooms\"].value_counts().index.tolist()\n",
    "price_bathroom_southking = []\n",
    "for i in no_of_bathrooms:\n",
    "    price_bathroom_southking.append(PRICE_BATHROOM(i))\n",
    "price_bathroom_southking = sum(price_bathroom_southking, [])\n",
    "price_bathroom_southking"
   ]
  },
  {
   "cell_type": "code",
   "execution_count": 124,
   "metadata": {},
   "outputs": [
    {
     "data": {
      "text/plain": [
       "4403"
      ]
     },
     "execution_count": 124,
     "metadata": {},
     "output_type": "execute_result"
    }
   ],
   "source": [
    "def AMOUNT_BATHROOMS(AMOUNT_BATHROOM):\n",
    "    locations = house_info['Location'].tolist()\n",
    "\n",
    "    amount_bed = house_info[\"Bathrooms\"].tolist()\n",
    "    X_value = []\n",
    "    bathroom_index = []\n",
    "    for i,x in enumerate(amount_bed):\n",
    "        if x == AMOUNT_BATHROOM:bathroom_index.append(i)\n",
    "\n",
    "    for i in bathroom_index:\n",
    "        if locations[i] == 98092 : X_value.append(AMOUNT_BATHROOM)\n",
    "        elif locations[i] == 98002 : X_value.append(AMOUNT_BATHROOM)\n",
    "        elif locations[i] == 98001 : X_value.append(AMOUNT_BATHROOM)\n",
    "        elif locations[i] == 98070 : X_value.append(AMOUNT_BATHROOM)\n",
    "        elif locations[i] == 98038 : X_value.append(AMOUNT_BATHROOM)\n",
    "        elif locations[i] == 98023 : X_value.append(AMOUNT_BATHROOM)\n",
    "        elif locations[i] == 98003 : X_value.append(AMOUNT_BATHROOM)\n",
    "        elif locations[i] == 98010 : X_value.append(AMOUNT_BATHROOM)\n",
    "        elif locations[i] == 98022 : X_value.append(AMOUNT_BATHROOM)\n",
    "        elif locations[i] == 98198: X_value.append(AMOUNT_BATHROOM)\n",
    "        elif locations[i] == 98188 : X_value.append(AMOUNT_BATHROOM)\n",
    "        elif locations[i] == 98148 : X_value.append(AMOUNT_BATHROOM)\n",
    "        elif locations[i] == 98042 : X_value.append(AMOUNT_BATHROOM)\n",
    "        elif locations[i] == 98032 : X_value.append(AMOUNT_BATHROOM)\n",
    "        elif locations[i] == 98031 : X_value.append(AMOUNT_BATHROOM)\n",
    "        elif locations[i] == 98030 : X_value.append(AMOUNT_BATHROOM)\n",
    "    return X_value\n",
    "no_of_bathrooms = house_info[\"Bathrooms\"].value_counts().index.tolist()\n",
    "amount_bathrooms_southking = []\n",
    "for i in no_of_bathrooms:\n",
    "    amount_bathrooms_southking.append(AMOUNT_BATHROOMS(i))\n",
    "amount_bathrooms_southking= sum(amount_bathrooms_southking, [])\n",
    "len(amount_bathrooms_southking)"
   ]
  },
  {
   "cell_type": "code",
   "execution_count": 128,
   "metadata": {
    "scrolled": true
   },
   "outputs": [
    {
     "data": {
      "text/plain": [
       "<bound method NDFrame.head of       Amount of Bathrooms      Price\n",
       "0                    2.50   323000.0\n",
       "1                    2.50   285000.0\n",
       "2                    2.50  1350000.0\n",
       "3                    2.50   292500.0\n",
       "4                    2.50   301000.0\n",
       "...                   ...        ...\n",
       "4398                 5.00   784500.0\n",
       "4399                 5.00   480000.0\n",
       "4400                 5.00   343000.0\n",
       "4401                 5.25   300000.0\n",
       "4402                 0.50   312500.0\n",
       "\n",
       "[4403 rows x 2 columns]>"
      ]
     },
     "execution_count": 128,
     "metadata": {},
     "output_type": "execute_result"
    }
   ],
   "source": [
    "regressiondata2 = pd.DataFrame({'Amount of Bathrooms':amount_bathrooms_southking,\n",
    "                                'Price':price_bathroom_southking})\n",
    "regressiondata2.head"
   ]
  },
  {
   "cell_type": "code",
   "execution_count": 131,
   "metadata": {},
   "outputs": [
    {
     "data": {
      "image/png": "[encoded data removed]",
      "text/plain": [
       "<Figure size 720x720 with 1 Axes>"
      ]
     },
     "metadata": {
      "needs_background": "light"
     },
     "output_type": "display_data"
    }
   ],
   "source": [
    "x = regressiondata2['Amount of Bathrooms']\n",
    "y = regressiondata2['Price']\n",
    "plt.scatter(x,y, cmap = 'Reds',edgecolor = 'black',\n",
    "            linewidth = 1,alpha = .75,color='blue',s=250) \n",
    "plt.gcf().set_size_inches((10,10))\n",
    "plt.show()\n",
    "#s:changes size,c:changes colour"
   ]
  },
  {
   "cell_type": "code",
   "execution_count": 399,
   "metadata": {
    "scrolled": true
   },
   "outputs": [
    {
     "data": {
      "text/plain": [
       "4403"
      ]
     },
     "execution_count": 399,
     "metadata": {},
     "output_type": "execute_result"
    }
   ],
   "source": [
    "def PRICE_FLOORS(AMOUNT_FLOORS):\n",
    "    \n",
    "    locations = house_info['Location'].tolist()\n",
    "\n",
    "    amount_floors = house_info['Floors'].tolist()\n",
    "\n",
    "    floors_index = []\n",
    "    for i,x in enumerate(amount_floors):\n",
    "        if x == AMOUNT_FLOORS:floors_index.append(i)\n",
    "    len(floors_index)\n",
    "\n",
    "    floors_southking = []\n",
    "    for i in floors_index:\n",
    "        if locations[i] == 98092 : floors_southking.append(i)\n",
    "        elif locations[i] == 98002 : floors_southking.append(i)\n",
    "        elif locations[i] == 98001 : floors_southking.append(i)\n",
    "        elif locations[i] == 98070 : floors_southking.append(i)\n",
    "        elif locations[i] == 98038 : floors_southking.append(i)\n",
    "        elif locations[i] == 98023 : floors_southking.append(i)\n",
    "        elif locations[i] == 98003 : floors_southking.append(i)\n",
    "        elif locations[i] == 98010 : floors_southking.append(i)\n",
    "        elif locations[i] == 98022 : floors_southking.append(i)\n",
    "        elif locations[i] == 98198 : floors_southking.append(i)\n",
    "        elif locations[i] == 98188 : floors_southking.append(i)\n",
    "        elif locations[i] == 98148 : floors_southking.append(i)\n",
    "        elif locations[i] == 98042 : floors_southking.append(i)\n",
    "        elif locations[i] == 98032 : floors_southking.append(i)\n",
    "        elif locations[i] == 98031 : floors_southking.append(i)\n",
    "        elif locations[i] == 98030 : floors_southking.append(i)\n",
    "\n",
    "    price = house_info[\"Price\"].tolist()\n",
    "\n",
    "    price_southking = []\n",
    "    for i in floors_southking:price_southking.append(price[i])\n",
    "    return(price_southking)\n",
    "\n",
    "no_of_floors = house_info[\"Floors\"].value_counts().index.tolist()\n",
    "price_floors_southking = []\n",
    "for i in no_of_floors:\n",
    "    price_floors_southking.append(PRICE_FLOORS(i))\n",
    "price_floors_southking = sum(price_floors_southking, [])\n",
    "len(price_floors_southking)"
   ]
  },
  {
   "cell_type": "code",
   "execution_count": 400,
   "metadata": {},
   "outputs": [
    {
     "data": {
      "text/plain": [
       "4403"
      ]
     },
     "execution_count": 400,
     "metadata": {},
     "output_type": "execute_result"
    }
   ],
   "source": [
    "def AMOUNT_FLOORS(AMOUNT_FLOORS):\n",
    "    locations = house_info['Location'].tolist()\n",
    "\n",
    "    amount_floors = house_info[\"Floors\"].tolist()\n",
    "    X_value = []\n",
    "    floors_index = []\n",
    "    for i,x in enumerate(amount_floors):\n",
    "        if x == AMOUNT_FLOORS:floors_index.append(i)\n",
    "\n",
    "    for i in floors_index:\n",
    "        if locations[i] == 98092 : X_value.append(AMOUNT_FLOORS)\n",
    "        elif locations[i] == 98002 : X_value.append(AMOUNT_FLOORS)\n",
    "        elif locations[i] == 98001 : X_value.append(AMOUNT_FLOORS)\n",
    "        elif locations[i] == 98070 : X_value.append(AMOUNT_FLOORS)\n",
    "        elif locations[i] == 98038 : X_value.append(AMOUNT_FLOORS)\n",
    "        elif locations[i] == 98023 : X_value.append(AMOUNT_FLOORS)\n",
    "        elif locations[i] == 98003 : X_value.append(AMOUNT_FLOORS)\n",
    "        elif locations[i] == 98010 : X_value.append(AMOUNT_FLOORS)\n",
    "        elif locations[i] == 98022 : X_value.append(AMOUNT_FLOORS)\n",
    "        elif locations[i] == 98198: X_value.append(AMOUNT_FLOORS)\n",
    "        elif locations[i] == 98188 : X_value.append(AMOUNT_FLOORS)\n",
    "        elif locations[i] == 98148 : X_value.append(AMOUNT_FLOORS)\n",
    "        elif locations[i] == 98042 : X_value.append(AMOUNT_FLOORS)\n",
    "        elif locations[i] == 98032 : X_value.append(AMOUNT_FLOORS)\n",
    "        elif locations[i] == 98031 : X_value.append(AMOUNT_FLOORS)\n",
    "        elif locations[i] == 98030 : X_value.append(AMOUNT_FLOORS)\n",
    "    return X_value\n",
    "no_of_floors = house_info[\"Floors\"].value_counts().index.tolist()\n",
    "amount_floors_southking = []\n",
    "for i in no_of_floors:\n",
    "    amount_floors_southking.append(AMOUNT_FLOORS(i))\n",
    "amount_floors_southking= sum(amount_floors_southking, [])\n",
    "len(amount_floors_southking)"
   ]
  },
  {
   "cell_type": "code",
   "execution_count": 402,
   "metadata": {},
   "outputs": [
    {
     "data": {
      "text/plain": [
       "<bound method NDFrame.head of       Amount of Floors     Price\n",
       "0                  1.0  291850.0\n",
       "1                  1.0  189000.0\n",
       "2                  1.0  230000.0\n",
       "3                  1.0  252700.0\n",
       "4                  1.0  240000.0\n",
       "...                ...       ...\n",
       "4398               2.5  325000.0\n",
       "4399               2.5  345000.0\n",
       "4400               2.5  429900.0\n",
       "4401               2.5  552900.0\n",
       "4402               2.5  349950.0\n",
       "\n",
       "[4403 rows x 2 columns]>"
      ]
     },
     "execution_count": 402,
     "metadata": {},
     "output_type": "execute_result"
    }
   ],
   "source": [
    "regressiondata3 = pd.DataFrame({'Amount of Floors':amount_floors_southking,\n",
    "                                'Price':price_floors_southking})\n",
    "regressiondata3.head"
   ]
  },
  {
   "cell_type": "code",
   "execution_count": 404,
   "metadata": {},
   "outputs": [
    {
     "data": {
      "image/png": "[encoded data removed]",
      "text/plain": [
       "<Figure size 720x720 with 1 Axes>"
      ]
     },
     "metadata": {
      "needs_background": "light"
     },
     "output_type": "display_data"
    }
   ],
   "source": [
    "x = regressiondata3['Amount of Floors']\n",
    "y = regressiondata3['Price']\n",
    "plt.scatter(x,y, cmap = 'Reds',edgecolor = 'black',\n",
    "            linewidth = 1,alpha = .75,color='blue',s=250) \n",
    "plt.gcf().set_size_inches((10,10))\n",
    "plt.show()\n",
    "#s:changes size,c:changes colour"
   ]
  },
  {
   "cell_type": "code",
   "execution_count": 420,
   "metadata": {},
   "outputs": [
    {
     "data": {
      "text/plain": [
       "4403"
      ]
     },
     "execution_count": 420,
     "metadata": {},
     "output_type": "execute_result"
    }
   ],
   "source": [
    "def PRICE_YEARS_BUILT(YEAR_BUILT):\n",
    "    \n",
    "    locations = house_info['Location'].tolist()\n",
    "\n",
    "    year_built = house_info['Year Built'].tolist()\n",
    "\n",
    "    years_built_index = []\n",
    "    for i,x in enumerate(year_built):\n",
    "        if x == YEAR_BUILT:years_built_index.append(i)\n",
    "\n",
    "    years_built_southking = []\n",
    "    for i in years_built_index:\n",
    "        if locations[i] == 98092 : years_built_southking.append(i)\n",
    "        elif locations[i] == 98002 : years_built_southking.append(i)\n",
    "        elif locations[i] == 98001 : years_built_southking.append(i)\n",
    "        elif locations[i] == 98070 : years_built_southking.append(i)\n",
    "        elif locations[i] == 98038 : years_built_southking.append(i)\n",
    "        elif locations[i] == 98023 : years_built_southking.append(i)\n",
    "        elif locations[i] == 98003 : years_built_southking.append(i)\n",
    "        elif locations[i] == 98010 : years_built_southking.append(i)\n",
    "        elif locations[i] == 98022 : years_built_southking.append(i)\n",
    "        elif locations[i] == 98198 : years_built_southking.append(i)\n",
    "        elif locations[i] == 98188 : years_built_southking.append(i)\n",
    "        elif locations[i] == 98148 : years_built_southking.append(i)\n",
    "        elif locations[i] == 98042 : years_built_southking.append(i)\n",
    "        elif locations[i] == 98032 : years_built_southking.append(i)\n",
    "        elif locations[i] == 98031 : years_built_southking.append(i)\n",
    "        elif locations[i] == 98030 : years_built_southking.append(i)\n",
    "\n",
    "    price = house_info[\"Price\"].tolist()\n",
    "\n",
    "    price_southking = []\n",
    "    for i in years_built_southking:price_southking.append(price[i])\n",
    "    return(price_southking)\n",
    "\n",
    "no_of_Year = house_info[\"Year Built\"].value_counts().index.tolist()\n",
    "price_Year_southking = []\n",
    "for i in no_of_Year:\n",
    "    price_Year_southking.append(PRICE_YEARS_BUILT(i))\n",
    "price_Year_southking = sum(price_Year_southking, [])\n",
    "len(price_Year_southking)"
   ]
  },
  {
   "cell_type": "code",
   "execution_count": 425,
   "metadata": {},
   "outputs": [
    {
     "data": {
      "text/plain": [
       "4403"
      ]
     },
     "execution_count": 425,
     "metadata": {},
     "output_type": "execute_result"
    }
   ],
   "source": [
    "def AMOUNT_YEARS_BUILT(AMOUNT_YEARS):\n",
    "    locations = house_info['Location'].tolist()\n",
    "\n",
    "    years_built = house_info[\"Year Built\"].tolist()\n",
    "    X_value = []\n",
    "    years_index = []\n",
    "    for i,x in enumerate(years_built):\n",
    "        if x == AMOUNT_YEARS:years_index.append(i)\n",
    "\n",
    "    for i in years_index:\n",
    "        if locations[i] == 98092 : X_value.append(AMOUNT_YEARS)\n",
    "        elif locations[i] == 98002 : X_value.append(AMOUNT_YEARS)\n",
    "        elif locations[i] == 98001 : X_value.append(AMOUNT_YEARS)\n",
    "        elif locations[i] == 98070 : X_value.append(AMOUNT_YEARS)\n",
    "        elif locations[i] == 98038 : X_value.append(AMOUNT_YEARS)\n",
    "        elif locations[i] == 98023 : X_value.append(AMOUNT_YEARS)\n",
    "        elif locations[i] == 98003 : X_value.append(AMOUNT_YEARS)\n",
    "        elif locations[i] == 98010 : X_value.append(AMOUNT_YEARS)\n",
    "        elif locations[i] == 98022 : X_value.append(AMOUNT_YEARS)\n",
    "        elif locations[i] == 98198: X_value.append(AMOUNT_YEARS)\n",
    "        elif locations[i] == 98188 : X_value.append(AMOUNT_YEARS)\n",
    "        elif locations[i] == 98148 : X_value.append(AMOUNT_YEARS)\n",
    "        elif locations[i] == 98042 : X_value.append(AMOUNT_YEARS)\n",
    "        elif locations[i] == 98032 : X_value.append(AMOUNT_YEARS)\n",
    "        elif locations[i] == 98031 : X_value.append(AMOUNT_YEARS)\n",
    "        elif locations[i] == 98030 : X_value.append(AMOUNT_YEARS)\n",
    "    return X_value\n",
    "no_of_years = house_info[\"Year Built\"].value_counts().index.tolist()\n",
    "amount_years_southking = []\n",
    "for i in no_of_years:\n",
    "    amount_years_southking.append(AMOUNT_YEARS_BUILT(i))\n",
    "amount_years_southking= sum(amount_years_southking, [])\n",
    "len(amount_years_southking)"
   ]
  },
  {
   "cell_type": "code",
   "execution_count": 426,
   "metadata": {},
   "outputs": [
    {
     "data": {
      "text/plain": [
       "<bound method NDFrame.head of       Year Built     Price\n",
       "0           2014  379000.0\n",
       "1           2014  569950.0\n",
       "2           2014  255000.0\n",
       "3           2014  600600.0\n",
       "4           2014  329900.0\n",
       "...          ...       ...\n",
       "4398        1935  285000.0\n",
       "4399        1935  199990.0\n",
       "4400        1934  217000.0\n",
       "4401        1934  510000.0\n",
       "4402        1934  230000.0\n",
       "\n",
       "[4403 rows x 2 columns]>"
      ]
     },
     "execution_count": 426,
     "metadata": {},
     "output_type": "execute_result"
    }
   ],
   "source": [
    "regressiondata4 = pd.DataFrame({'Year Built':amount_years_southking,\n",
    "                                'Price':price_Year_southking})\n",
    "regressiondata4.head"
   ]
  },
  {
   "cell_type": "code",
   "execution_count": 427,
   "metadata": {},
   "outputs": [
    {
     "data": {
      "image/png": "[encoded data removed]",
      "text/plain": [
       "<Figure size 720x720 with 1 Axes>"
      ]
     },
     "metadata": {
      "needs_background": "light"
     },
     "output_type": "display_data"
    }
   ],
   "source": [
    "x = regressiondata4['Year Built']\n",
    "y = regressiondata4['Price']\n",
    "plt.scatter(x,y, cmap = 'Reds',edgecolor = 'black',\n",
    "            linewidth = 1,alpha = .75,color='blue',s=250) \n",
    "plt.gcf().set_size_inches((10,10))\n",
    "plt.show()\n",
    "#s:changes size,c:changes colour"
   ]
  },
  {
   "cell_type": "code",
   "execution_count": 439,
   "metadata": {},
   "outputs": [
    {
     "data": {
      "text/plain": [
       "3650"
      ]
     },
     "execution_count": 439,
     "metadata": {},
     "output_type": "execute_result"
    }
   ],
   "source": [
    "def YEAR_RENOVATED(YEAR):\n",
    "    \n",
    "    locations = house_info['Location'].tolist()\n",
    "\n",
    "    year = house_info['Year Renoveted'].tolist()\n",
    "\n",
    "    year_index = []\n",
    "    for i,x in enumerate(year):\n",
    "        if x == YEAR:year_index.append(i)\n",
    "\n",
    "    year_southking = []\n",
    "    for i in year_index:\n",
    "        if locations[i] == 98092 : year_southking.append(i)\n",
    "        elif locations[i] == 98002 : year_southking.append(i)\n",
    "        elif locations[i] == 98001 : year_southking.append(i)\n",
    "        elif locations[i] == 98070 : year_southking.append(i)\n",
    "        elif locations[i] == 98038 : year_southking.append(i)\n",
    "        elif locations[i] == 98023 : year_southking.append(i)\n",
    "        elif locations[i] == 98003 : year_southking.append(i)\n",
    "        elif locations[i] == 98010 : year_southking.append(i)\n",
    "        elif locations[i] == 98022 : year_southking.append(i)\n",
    "        elif locations[i] == 98198 : year_southking.append(i)\n",
    "        elif locations[i] == 98188 : year_southking.append(i)\n",
    "        elif locations[i] == 98148 : year_southking.append(i)\n",
    "        elif locations[i] == 98042 : year_southking.append(i)\n",
    "        elif locations[i] == 98032 : year_southking.append(i)\n",
    "        elif locations[i] == 98031 : year_southking.append(i)\n",
    "        elif locations[i] == 98030 : year_southking.append(i)\n",
    "\n",
    "    price = house_info[\"Price\"].tolist()\n",
    "\n",
    "    price_southking = []\n",
    "    for i in year_southking:price_southking.append(price[i])\n",
    "    return(price_southking)\n",
    "\n",
    "year_renovated = house_info[\"Year Renoveted\"].value_counts().index.tolist()\n",
    "yearrenov_Price_southking = []\n",
    "for i in year_renovated:\n",
    "    yearrenov_Price_southking.append(YEAR_RENOVATED(i))\n",
    "yearrenov_Price_southking = sum(yearrenov_Price_southking, [])\n",
    "len(yearrenov_Price_southking)"
   ]
  },
  {
   "cell_type": "code",
   "execution_count": 440,
   "metadata": {},
   "outputs": [
    {
     "data": {
      "text/plain": [
       "3650"
      ]
     },
     "execution_count": 440,
     "metadata": {},
     "output_type": "execute_result"
    }
   ],
   "source": [
    "def AMOUNT_YEAR_RENOVATED(AMOUNT_YEAR):\n",
    "    locations = house_info['Location'].tolist()\n",
    "\n",
    "    year_renovated = house_info[\"Year Renoveted\"].tolist()\n",
    "    X_value = []\n",
    "    year_index = []\n",
    "    for i,x in enumerate(year_renovated):\n",
    "        if x == AMOUNT_YEAR:year_index.append(i)\n",
    "\n",
    "    for i in year_index:\n",
    "        if locations[i] == 98092 : X_value.append(AMOUNT_YEAR)\n",
    "        elif locations[i] == 98002 : X_value.append(AMOUNT_YEAR)\n",
    "        elif locations[i] == 98001 : X_value.append(AMOUNT_YEAR)\n",
    "        elif locations[i] == 98070 : X_value.append(AMOUNT_YEAR)\n",
    "        elif locations[i] == 98038 : X_value.append(AMOUNT_YEAR)\n",
    "        elif locations[i] == 98023 : X_value.append(AMOUNT_YEAR)\n",
    "        elif locations[i] == 98003 : X_value.append(AMOUNT_YEAR)\n",
    "        elif locations[i] == 98010 : X_value.append(AMOUNT_YEAR)\n",
    "        elif locations[i] == 98022 : X_value.append(AMOUNT_YEAR)\n",
    "        elif locations[i] == 98198: X_value.append(AMOUNT_YEAR)\n",
    "        elif locations[i] == 98188 : X_value.append(AMOUNT_YEAR)\n",
    "        elif locations[i] == 98148 : X_value.append(AMOUNT_YEAR)\n",
    "        elif locations[i] == 98042 : X_value.append(AMOUNT_YEAR)\n",
    "        elif locations[i] == 98032 : X_value.append(AMOUNT_YEAR)\n",
    "        elif locations[i] == 98031 : X_value.append(AMOUNT_YEAR)\n",
    "        elif locations[i] == 98030 : X_value.append(AMOUNT_YEAR)\n",
    "    return X_value\n",
    "year = house_info[\"Year Renoveted\"].value_counts().index.tolist()\n",
    "year_southking = []\n",
    "for i in year:\n",
    "    year_southking.append(AMOUNT_YEAR_RENOVATED(i))\n",
    "year_southking= sum(year_southking, [])\n",
    "len(year_southking)"
   ]
  },
  {
   "cell_type": "code",
   "execution_count": 441,
   "metadata": {},
   "outputs": [
    {
     "data": {
      "text/plain": [
       "<bound method NDFrame.head of       Year Renoveted     Price\n",
       "0                0.0  257500.0\n",
       "1                0.0  291850.0\n",
       "2                0.0  323000.0\n",
       "3                0.0  189000.0\n",
       "4                0.0  230000.0\n",
       "...              ...       ...\n",
       "3645          1974.0  160000.0\n",
       "3646          1957.0  168000.0\n",
       "3647          1962.0  425000.0\n",
       "3648          1967.0  247200.0\n",
       "3649          1950.0  152900.0\n",
       "\n",
       "[3650 rows x 2 columns]>"
      ]
     },
     "execution_count": 441,
     "metadata": {},
     "output_type": "execute_result"
    }
   ],
   "source": [
    "regressiondata5 = pd.DataFrame({'Year Renoveted':year_southking,\n",
    "                                'Price':yearrenov_Price_southking})\n",
    "regressiondata5.head"
   ]
  },
  {
   "cell_type": "code",
   "execution_count": 442,
   "metadata": {},
   "outputs": [
    {
     "data": {
      "image/png": "[encoded data removed]",
      "text/plain": [
       "<Figure size 720x720 with 1 Axes>"
      ]
     },
     "metadata": {
      "needs_background": "light"
     },
     "output_type": "display_data"
    }
   ],
   "source": [
    "x = regressiondata5['Year Renoveted']\n",
    "y = regressiondata5['Price']\n",
    "plt.scatter(x,y, cmap = 'Reds',edgecolor = 'black',\n",
    "            linewidth = 1,alpha = .75,color='blue',s=250) \n",
    "plt.gcf().set_size_inches((10,10))\n",
    "plt.show()\n",
    "#s:changes size,c:changes colour"
   ]
  },
  {
   "cell_type": "code",
   "execution_count": 444,
   "metadata": {},
   "outputs": [
    {
     "data": {
      "text/plain": [
       "4403"
      ]
     },
     "execution_count": 444,
     "metadata": {},
     "output_type": "execute_result"
    }
   ],
   "source": [
    "def CONDITION(LEVEL_CONDITION):\n",
    "    \n",
    "    locations = house_info['Location'].tolist()\n",
    "\n",
    "    condition_level = house_info['Condition'].tolist()\n",
    "\n",
    "    condition_index = []\n",
    "    for i,x in enumerate(condition_level):\n",
    "        if x == LEVEL_CONDITION:condition_index.append(i)\n",
    "\n",
    "    level_southking = []\n",
    "    for i in condition_index:\n",
    "        if locations[i] == 98092 : level_southking.append(i)\n",
    "        elif locations[i] == 98002 : level_southking.append(i)\n",
    "        elif locations[i] == 98001 : level_southking.append(i)\n",
    "        elif locations[i] == 98070 : level_southking.append(i)\n",
    "        elif locations[i] == 98038 : level_southking.append(i)\n",
    "        elif locations[i] == 98023 : level_southking.append(i)\n",
    "        elif locations[i] == 98003 : level_southking.append(i)\n",
    "        elif locations[i] == 98010 : level_southking.append(i)\n",
    "        elif locations[i] == 98022 : level_southking.append(i)\n",
    "        elif locations[i] == 98198 : level_southking.append(i)\n",
    "        elif locations[i] == 98188 : level_southking.append(i)\n",
    "        elif locations[i] == 98148 : level_southking.append(i)\n",
    "        elif locations[i] == 98042 : level_southking.append(i)\n",
    "        elif locations[i] == 98032 : level_southking.append(i)\n",
    "        elif locations[i] == 98031 : level_southking.append(i)\n",
    "        elif locations[i] == 98030 : level_southking.append(i)\n",
    "\n",
    "    price = house_info[\"Price\"].tolist()\n",
    "\n",
    "    price_southking = []\n",
    "    for i in level_southking:price_southking.append(price[i])\n",
    "    return(price_southking)\n",
    "\n",
    "condition_level = house_info[\"Condition\"].value_counts().index.tolist()\n",
    "level_southking = []\n",
    "for i in condition_level:\n",
    "    level_southking.append(CONDITION(i))\n",
    "level_southking= sum(level_southking, [])\n",
    "len(level_southking)"
   ]
  },
  {
   "cell_type": "code",
   "execution_count": 446,
   "metadata": {},
   "outputs": [
    {
     "data": {
      "text/plain": [
       "4403"
      ]
     },
     "execution_count": 446,
     "metadata": {},
     "output_type": "execute_result"
    }
   ],
   "source": [
    "def AMOUNT_LEVEL(AMOUNT_LEVEL):\n",
    "    locations = house_info['Location'].tolist()\n",
    "\n",
    "    condtions = house_info[\"Condition\"].tolist()\n",
    "    X_value = []\n",
    "    level_index = []\n",
    "    for i,x in enumerate(condtions):\n",
    "        if x == AMOUNT_LEVEL:level_index.append(i)\n",
    "\n",
    "    for i in level_index:\n",
    "        if locations[i] == 98092 : X_value.append(AMOUNT_LEVEL)\n",
    "        elif locations[i] == 98002 : X_value.append(AMOUNT_LEVEL)\n",
    "        elif locations[i] == 98001 : X_value.append(AMOUNT_LEVEL)\n",
    "        elif locations[i] == 98070 : X_value.append(AMOUNT_LEVEL)\n",
    "        elif locations[i] == 98038 : X_value.append(AMOUNT_LEVEL)\n",
    "        elif locations[i] == 98023 : X_value.append(AMOUNT_LEVEL)\n",
    "        elif locations[i] == 98003 : X_value.append(AMOUNT_LEVEL)\n",
    "        elif locations[i] == 98010 : X_value.append(AMOUNT_LEVEL)\n",
    "        elif locations[i] == 98022 : X_value.append(AMOUNT_LEVEL)\n",
    "        elif locations[i] == 98198: X_value.append(AMOUNT_LEVEL)\n",
    "        elif locations[i] == 98188 : X_value.append(AMOUNT_LEVEL)\n",
    "        elif locations[i] == 98148 : X_value.append(AMOUNT_LEVEL)\n",
    "        elif locations[i] == 98042 : X_value.append(AMOUNT_LEVEL)\n",
    "        elif locations[i] == 98032 : X_value.append(AMOUNT_LEVEL)\n",
    "        elif locations[i] == 98031 : X_value.append(AMOUNT_LEVEL)\n",
    "        elif locations[i] == 98030 : X_value.append(AMOUNT_LEVEL)\n",
    "    return X_value\n",
    "level = house_info[\"Condition\"].value_counts().index.tolist()\n",
    "condtition_level_southking = []\n",
    "for i in level:\n",
    "    condtition_level_southking.append(AMOUNT_LEVEL(i))\n",
    "condtition_level_southking= sum(condtition_level_southking, [])\n",
    "len(condtition_level_southking)"
   ]
  },
  {
   "cell_type": "code",
   "execution_count": null,
   "metadata": {},
   "outputs": [],
   "source": [
    "regressiondata6 = pd.DataFrame({'Condition Level':condtition_level_southking,\n",
    "                                'Price':yearrenov_Price_southking})\n",
    "regressiondata6.head"
   ]
  }
 ],
 "metadata": {
  "kernelspec": {
   "display_name": "Python 3",
   "language": "python",
   "name": "python3"
  },
  "language_info": {
   "codemirror_mode": {
    "name": "ipython",
    "version": 3
   },
   "file_extension": ".py",
   "mimetype": "text/x-python",
   "name": "python",
   "nbconvert_exporter": "python",
   "pygments_lexer": "ipython3",
   "version": "3.8.8"
  }
 },
 "nbformat": 4,
 "nbformat_minor": 4
}
