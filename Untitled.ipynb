{
 "cells": [
  {
   "cell_type": "code",
   "execution_count": null,
   "metadata": {},
   "outputs": [],
   "source": []
  },
  {
   "cell_type": "code",
   "execution_count": 94,
   "metadata": {
    "collapsed": true,
    "jupyter": {
     "outputs_hidden": true
    }
   },
   "outputs": [
    {
     "name": "stdout",
     "output_type": "stream",
     "text": [
      "{\"id\":\" Des Moines \" ,  \"name\":\" Des Moines \" , \"type\":\"point\" , \"coordinates\":[ \" -122.31546 \" , \" 47.3911294 \" ] },\n",
      "{\"id\":\" Mc Micken Heights \" ,  \"name\":\" Mc Micken Heights \" , \"type\":\"point\" , \"coordinates\":[ \" -122.285282 \" , \" 47.4531965 \" ] },\n",
      "{\"id\":\" Bryn Mawr-Skyway \" ,  \"name\":\" Bryn Mawr-Skyway \" , \"type\":\"point\" , \"coordinates\":[ \" -122.24092 \" , \" 47.4943 \" ] },\n",
      "{\"id\":\" Spring Beach \" ,  \"name\":\" Spring Beach \" , \"type\":\"point\" , \"coordinates\":[ \" -122.3734629 \" , \" 47.7400975 \" ] },\n",
      "{\"id\":\" Riverton-Boulevard Park \" ,  \"name\":\" Riverton-Boulevard Park \" , \"type\":\"point\" , \"coordinates\":[ \" -122.312698 \" , \" 47.495792 \" ] },\n",
      "{\"id\":\" Gregory Heights \" ,  \"name\":\" Gregory Heights \" , \"type\":\"point\" , \"coordinates\":[ \" -122.361 \" , \" 47.4559 \" ] },\n",
      "{\"id\":\" Shorline \" ,  \"name\":\" Shorline \" , \"type\":\"point\" , \"coordinates\":[ \" -122.341515 \" , \" 47.755653 \" ] },\n",
      "{\"id\":\" Normandy Park \" ,  \"name\":\" Normandy Park \" , \"type\":\"point\" , \"coordinates\":[ \" -122.339331976 \" , \" 47.435664924 \" ] },\n",
      "{\"id\":\" White Center \" ,  \"name\":\" White Center \" , \"type\":\"point\" , \"coordinates\":[ \" -122.35485 \" , \" 47.51732 \" ] },\n",
      "{\"id\":\" Shorline \" ,  \"name\":\" Shorline \" , \"type\":\"point\" , \"coordinates\":[ \" -122.228455 \" , \" 47.307323 \" ] },\n",
      "{\"id\":\" Auburn \" ,  \"name\":\" Auburn \" , \"type\":\"point\" , \"coordinates\":[ \" -122.1634582 \" , \" 47.7542651 \" ] },\n",
      "{\"id\":\" Woodinville \" ,  \"name\":\" Woodinville \" , \"type\":\"point\" , \"coordinates\":[ \" -122.054672 \" , \" 47.618198 \" ] },\n",
      "{\"id\":\" Sammamish \" ,  \"name\":\" Sammamish \" , \"type\":\"point\" , \"coordinates\":[ \" -122.467664796 \" , \" 47.409665028 \" ] },\n",
      "{\"id\":\" Vashon \" ,  \"name\":\" Vashon \" , \"type\":\"point\" , \"coordinates\":[ \" -121.82539 \" , \" 47.52871 \" ] },\n",
      "{\"id\":\" Snaqualmie \" ,  \"name\":\" Snaqualmie \" , \"type\":\"point\" , \"coordinates\":[ \" -122.217064 \" , \" 47.48288 \" ] },\n",
      "{\"id\":\" Renton \" ,  \"name\":\" Renton \" , \"type\":\"point\" , \"coordinates\":[ \" -122.121513 \" , \" 47.673988 \" ] },\n",
      "{\"id\":\" Redmond \" ,  \"name\":\" Redmond \" , \"type\":\"point\" , \"coordinates\":[ \" -121.797867 \" , \" 47.502357 \" ] },\n",
      "{\"id\":\" North Bend \" ,  \"name\":\" North Bend \" , \"type\":\"point\" , \"coordinates\":[ \" -122.237381 \" , \" 47.37801 \" ] },\n",
      "{\"id\":\" Kent \" ,  \"name\":\" Kent \" , \"type\":\"point\" , \"coordinates\":[ \" -122.222069 \" , \" 47.570656 \" ] },\n",
      "{\"id\":\" Mercer Island \" ,  \"name\":\" Mercer Island \" , \"type\":\"point\" , \"coordinates\":[ \" -122.22762 \" , \" 47.62093 \" ] },\n",
      "{\"id\":\" Medina \" ,  \"name\":\" Medina \" , \"type\":\"point\" , \"coordinates\":[ \" -122.036926 \" , \" 47.373348 \" ] },\n",
      "{\"id\":\" Maple Valley \" ,  \"name\":\" Maple Valley \" , \"type\":\"point\" , \"coordinates\":[ \" -122.2087353 \" , \" 47.6814876 \" ] },\n",
      "{\"id\":\" Kirkland \" ,  \"name\":\" Kirkland \" , \"type\":\"point\" , \"coordinates\":[ \" -122.032616 \" , \" 47.530102 \" ] },\n",
      "{\"id\":\" Issaquah \" ,  \"name\":\" Issaquah \" , \"type\":\"point\" , \"coordinates\":[ \" -122.24631 \" , \" 47.7532046 \" ] },\n",
      "{\"id\":\" Kenmore \" ,  \"name\":\" Kenmore \" , \"type\":\"point\" , \"coordinates\":[ \" -121.888725 \" , \" 47.567326 \" ] },\n",
      "{\"id\":\" Fall city \" ,  \"name\":\" Fall city \" , \"type\":\"point\" , \"coordinates\":[ \" -122.312622 \" , \" 47.322323 \" ] },\n",
      "{\"id\":\" Federal Way \" ,  \"name\":\" Federal Way \" , \"type\":\"point\" , \"coordinates\":[ \" -121.989829374 \" , \" 47.201499194 \" ] },\n",
      "{\"id\":\" Enumclaw \" ,  \"name\":\" Enumclaw \" , \"type\":\"point\" , \"coordinates\":[ \" -121.971996112 \" , \" 47.733830398 \" ] },\n",
      "{\"id\":\" Duvall \" ,  \"name\":\" Duvall \" , \"type\":\"point\" , \"coordinates\":[ \" -121.90863 \" , \" 47.648234 \" ] },\n",
      "{\"id\":\" Camation \" ,  \"name\":\" Camation \" , \"type\":\"point\" , \"coordinates\":[ \" -122.204421 \" , \" 47.77167 \" ] },\n",
      "{\"id\":\" Bothell \" ,  \"name\":\" Bothell \" , \"type\":\"point\" , \"coordinates\":[ \" -122.008833298 \" , \" 47.317332064 \" ] },\n",
      "{\"id\":\" Black Diamond \" ,  \"name\":\" Black Diamond \" , \"type\":\"point\" , \"coordinates\":[ \" -122.200676 \" , \" 47.610378 \" ] },\n"
     ]
    }
   ],
   "source": [
    "for i in range(32):\n",
    "    print('{'+\n",
    "            '\"id\":'+'\"',city[i],'\"',', ','\"name\":'+'\"',city[i],'\"',\",\",'\"type\":\"point\"',',',\n",
    "            '\"coordinates\":[',\n",
    "                 '\"',Longitude[i],'\"', ',',\n",
    "                 '\"',Latitude[i],'\"',\n",
    "            ']',\n",
    "        '},')"
   ]
  }
 ],
 "metadata": {
  "kernelspec": {
   "display_name": "Python 3",
   "language": "python",
   "name": "python3"
  },
  "language_info": {
   "codemirror_mode": {
    "name": "ipython",
    "version": 3
   },
   "file_extension": ".py",
   "mimetype": "text/x-python",
   "name": "python",
   "nbconvert_exporter": "python",
   "pygments_lexer": "ipython3",
   "version": "3.8.8"
  }
 },
 "nbformat": 4,
 "nbformat_minor": 4
}
