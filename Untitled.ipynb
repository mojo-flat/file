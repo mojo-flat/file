{
 "cells": [
  {
   "cell_type": "code",
   "execution_count": 1,
   "metadata": {},
   "outputs": [],
   "source": [
    "import plotly\n",
    "import plotly.graph_objs as go\n",
    "from bubbly.bubbly import bubbleplot\n",
    "import pandas as pd\n",
    "from plotly.offline import download_plotlyjs,init_notebook_mode,plot, iplot"
   ]
  },
  {
   "cell_type": "code",
   "execution_count": 2,
   "metadata": {},
   "outputs": [
    {
     "data": {
      "text/html": [
       "<div>\n",
       "<style scoped>\n",
       "    .dataframe tbody tr th:only-of-type {\n",
       "        vertical-align: middle;\n",
       "    }\n",
       "\n",
       "    .dataframe tbody tr th {\n",
       "        vertical-align: top;\n",
       "    }\n",
       "\n",
       "    .dataframe thead th {\n",
       "        text-align: right;\n",
       "    }\n",
       "</style>\n",
       "<table border=\"1\" class=\"dataframe\">\n",
       "  <thead>\n",
       "    <tr style=\"text-align: right;\">\n",
       "      <th></th>\n",
       "      <th>Name</th>\n",
       "      <th>x</th>\n",
       "      <th>y</th>\n",
       "    </tr>\n",
       "  </thead>\n",
       "  <tbody>\n",
       "    <tr>\n",
       "      <th>0</th>\n",
       "      <td>Ruth</td>\n",
       "      <td>2</td>\n",
       "      <td>7</td>\n",
       "    </tr>\n",
       "    <tr>\n",
       "      <th>1</th>\n",
       "      <td>Daniel</td>\n",
       "      <td>4</td>\n",
       "      <td>3</td>\n",
       "    </tr>\n",
       "    <tr>\n",
       "      <th>2</th>\n",
       "      <td>David</td>\n",
       "      <td>5</td>\n",
       "      <td>6</td>\n",
       "    </tr>\n",
       "    <tr>\n",
       "      <th>3</th>\n",
       "      <td>Wisdom</td>\n",
       "      <td>6</td>\n",
       "      <td>11</td>\n",
       "    </tr>\n",
       "    <tr>\n",
       "      <th>4</th>\n",
       "      <td>Blessing</td>\n",
       "      <td>10</td>\n",
       "      <td>4</td>\n",
       "    </tr>\n",
       "  </tbody>\n",
       "</table>\n",
       "</div>"
      ],
      "text/plain": [
       "       Name   x   y\n",
       "0      Ruth   2   7\n",
       "1    Daniel   4   3\n",
       "2     David   5   6\n",
       "3    Wisdom   6  11\n",
       "4  Blessing  10   4"
      ]
     },
     "execution_count": 2,
     "metadata": {},
     "output_type": "execute_result"
    }
   ],
   "source": [
    "df = pd.DataFrame({'Name':['Ruth','Daniel','David','Wisdom','Blessing'],'x':[2,4,5,6,10],'y':[7,3,6,11,4]})\n",
    "df"
   ]
  },
  {
   "cell_type": "code",
   "execution_count": 3,
   "metadata": {},
   "outputs": [
    {
     "data": {
      "text/html": [
       "<script>requirejs.config({paths: { 'plotly': ['https://cdn.plot.ly/plotly-latest.min']},});if(!window.Plotly) {{require(['plotly'],function(plotly) {window.Plotly=plotly;});}}</script>"
      ],
      "text/vnd.plotly.v1+html": [
       "<script>requirejs.config({paths: { 'plotly': ['https://cdn.plot.ly/plotly-latest.min']},});if(!window.Plotly) {{require(['plotly'],function(plotly) {window.Plotly=plotly;});}}</script>"
      ]
     },
     "metadata": {},
     "output_type": "display_data"
    }
   ],
   "source": [
    "#jupyter note book setup\n",
    "init_notebook_mode(connected=True)"
   ]
  },
  {
   "cell_type": "code",
   "execution_count": 5,
   "metadata": {
    "collapsed": true,
    "jupyter": {
     "outputs_hidden": true
    }
   },
   "outputs": [
    {
     "data": {
      "application/vnd.plotly.v1+json": {
       "data": [
        {
         "marker": {
          "size": 10
         },
         "mode": "markers",
         "text": [
          "Ruth",
          "Daniel",
          "David",
          "Wisdom",
          "Blessing"
         ],
         "type": "scatter",
         "uid": "fe044e24-e8ce-11ea-ad78-40a3cca4cd50",
         "x": [
          2,
          4,
          5,
          6,
          10
         ],
         "y": [
          7,
          3,
          6,
          11,
          4
         ]
        }
       ],
       "layout": {
        "hovermode": "closest",
        "margin": {
         "b": 50,
         "pad": 5,
         "t": 50
        },
        "showlegend": false,
        "xaxis": {
         "autorange": false,
         "range": [
          1.4,
          14
         ]
        },
        "yaxis": {
         "autorange": false,
         "range": [
          2.0999999999999996,
          15.399999999999999
         ]
        }
       }
      },
      "text/html": [
       "<div id=\"9e4e6121-9845-4543-a1ae-72d733300424\" style=\"height: 525px; width: 100%;\" class=\"plotly-graph-div\"></div><script type=\"text/javascript\">require([\"plotly\"], function(Plotly) { window.PLOTLYENV=window.PLOTLYENV || {};window.PLOTLYENV.BASE_URL=\"https://plot.ly\";\n",
       "        Plotly.plot(\n",
       "            '9e4e6121-9845-4543-a1ae-72d733300424',\n",
       "            [{\"marker\": {\"size\": 10}, \"mode\": \"markers\", \"text\": [\"Ruth\", \"Daniel\", \"David\", \"Wisdom\", \"Blessing\"], \"x\": [2, 4, 5, 6, 10], \"y\": [7, 3, 6, 11, 4], \"type\": \"scatter\", \"uid\": \"fe108490-e8ce-11ea-a9da-40a3cca4cd50\"}],\n",
       "            {\"hovermode\": \"closest\", \"margin\": {\"b\": 50, \"pad\": 5, \"t\": 50}, \"showlegend\": false, \"xaxis\": {\"autorange\": false, \"range\": [1.4, 14.0]}, \"yaxis\": {\"autorange\": false, \"range\": [2.0999999999999996, 15.399999999999999]}},\n",
       "            {\"showLink\": true, \"linkText\": \"Export to plot.ly\"}\n",
       "        ).then(function () {return Plotly.addFrames('9e4e6121-9845-4543-a1ae-72d733300424',{});}).then(function(){Plotly.animate('9e4e6121-9845-4543-a1ae-72d733300424');})\n",
       "        });</script>"
      ],
      "text/vnd.plotly.v1+html": [
       "<div id=\"9e4e6121-9845-4543-a1ae-72d733300424\" style=\"height: 525px; width: 100%;\" class=\"plotly-graph-div\"></div><script type=\"text/javascript\">require([\"plotly\"], function(Plotly) { window.PLOTLYENV=window.PLOTLYENV || {};window.PLOTLYENV.BASE_URL=\"https://plot.ly\";\n",
       "        Plotly.plot(\n",
       "            '9e4e6121-9845-4543-a1ae-72d733300424',\n",
       "            [{\"marker\": {\"size\": 10}, \"mode\": \"markers\", \"text\": [\"Ruth\", \"Daniel\", \"David\", \"Wisdom\", \"Blessing\"], \"x\": [2, 4, 5, 6, 10], \"y\": [7, 3, 6, 11, 4], \"type\": \"scatter\", \"uid\": \"fe108490-e8ce-11ea-a9da-40a3cca4cd50\"}],\n",
       "            {\"hovermode\": \"closest\", \"margin\": {\"b\": 50, \"pad\": 5, \"t\": 50}, \"showlegend\": false, \"xaxis\": {\"autorange\": false, \"range\": [1.4, 14.0]}, \"yaxis\": {\"autorange\": false, \"range\": [2.0999999999999996, 15.399999999999999]}},\n",
       "            {\"showLink\": true, \"linkText\": \"Export to plot.ly\"}\n",
       "        ).then(function () {return Plotly.addFrames('9e4e6121-9845-4543-a1ae-72d733300424',{});}).then(function(){Plotly.animate('9e4e6121-9845-4543-a1ae-72d733300424');})\n",
       "        });</script>"
      ]
     },
     "metadata": {},
     "output_type": "display_data"
    }
   ],
   "source": [
    "figure=bubbleplot(dataset = df,x_column='x',y_column='y',bubble_column='Name')\n",
    "plot(figure)"
   ]
  },
  {
   "cell_type": "code",
   "execution_count": 86,
   "metadata": {},
   "outputs": [
    {
     "data": {
      "text/plain": [
       "0        Ruth\n",
       "1      Daniel\n",
       "2       David\n",
       "3      Wisdom\n",
       "4    Blessing\n",
       "Name: Name, dtype: object"
      ]
     },
     "execution_count": 86,
     "metadata": {},
     "output_type": "execute_result"
    }
   ],
   "source": []
  },
  {
   "cell_type": "code",
   "execution_count": null,
   "metadata": {},
   "outputs": [],
   "source": []
  }
 ],
 "metadata": {
  "kernelspec": {
   "display_name": "Python 3",
   "language": "python",
   "name": "python3"
  },
  "language_info": {
   "codemirror_mode": {
    "name": "ipython",
    "version": 3
   },
   "file_extension": ".py",
   "mimetype": "text/x-python",
   "name": "python",
   "nbconvert_exporter": "python",
   "pygments_lexer": "ipython3",
   "version": "3.8.3"
  },
  "toc-autonumbering": true,
  "toc-showcode": true,
  "toc-showmarkdowntxt": true,
  "toc-showtags": true
 },
 "nbformat": 4,
 "nbformat_minor": 4
}
